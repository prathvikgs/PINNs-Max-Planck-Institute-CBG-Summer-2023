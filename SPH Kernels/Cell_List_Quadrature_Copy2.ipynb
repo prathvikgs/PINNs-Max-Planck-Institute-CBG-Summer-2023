{
  "cells": [
    {
      "cell_type": "code",
      "execution_count": 19,
      "id": "6872a1d5-fcb4-4bef-b03b-26b3b34af43b",
      "metadata": {
        "id": "6872a1d5-fcb4-4bef-b03b-26b3b34af43b"
      },
      "outputs": [],
      "source": [
        "import numpy as np\n",
        "from matplotlib import pyplot as plt\n",
        "from matplotlib import style\n",
        "import matplotlib\n",
        "matplotlib.rcdefaults()\n",
        "import random\n",
        "import sys\n",
        "sys.path.insert(1,  '/content/PSM_V1')\n",
        "from sobolev import Sobolev"
      ]
    },
    {
      "cell_type": "code",
      "execution_count": 20,
      "id": "f65fd73c",
      "metadata": {
        "id": "f65fd73c"
      },
      "outputs": [],
      "source": [
        "class Props:\n",
        "    def __init__(self,field_val,derivs):\n",
        "        self.field=field_val\n",
        "        self.field_derivative=derivs\n",
        "\n",
        "\n",
        "#----------------------------------------------------#\n",
        "class Particle:\n",
        "    def __init__(self,position,properties):\n",
        "        self.position=position\n",
        "        self.properties=properties\n",
        "\n",
        "    def interact(self,other_particle):\n",
        "        pass\n",
        "\n",
        "    def evolve(self):\n",
        "        pass\n",
        "\n",
        "#----------------------------------------------------#\n",
        "class ParticleSet:\n",
        "    # positions: array of shape(N,d)\n",
        "    # properties: array of shape(N,1)\n",
        "\n",
        "    def __init__(self,positions,properties):\n",
        "        self.num_particles = positions.shape[0]\n",
        "        self.spatial_dimension = positions.shape[1]\n",
        "        self.particles=[]\n",
        "        for i in range(self.num_particles):\n",
        "            self.particles.append(Particle(positions[i,:],properties[i]))\n",
        "\n",
        "    def update_once(self):\n",
        "        pass\n"
      ]
    },
    {
      "cell_type": "code",
      "execution_count": 21,
      "id": "2b0be04d",
      "metadata": {
        "id": "2b0be04d"
      },
      "outputs": [],
      "source": [
        "'''\n",
        "Overall, the CellList class provides methods to construct a cell-based data structure for particles,\n",
        "retrieve particles within a specific cell, and obtain a neighborhood of particles around a given cell\n",
        "'''\n",
        "\n",
        "class CellList:\n",
        "\n",
        "    def __init__(self,particle_set,rc):\n",
        "        self.cells = {}\n",
        "        self.construct(particle_set, rc)\n",
        "        self.particle_set = particle_set\n",
        "\n",
        "        '''The CellList class has an __init__ method that initializes the object\n",
        "        It takes two parameters: particle_set, which is an object representing a set of particles,\n",
        "        and rc, which is a distance threshold '''\n",
        "\n",
        "    def construct(self, particle_set, rc):\n",
        "        '''\n",
        "        The construct method takes a particle_set and rc as parameters.\n",
        "        It iterates over the particles in the particle_set and calculates the cell index for each particle based on its position.\n",
        "        The position is divided by rc, which is then floored and converted to an integer.\n",
        "        The cell index is extracted from the resulting array (cell_index_x) by taking the first element (cell_index_x[0]).\n",
        "        The method checks if the calculated cell index already exists in the cells dictionary.\n",
        "        If it does, it appends the current particle index (idx) to the list associated with that cell index.\n",
        "        If the cell index is not present in the dictionary, a new key-value pair is created\n",
        "        with the cell index as the key and a list containing the particle index as the value.\n",
        "        '''\n",
        "        for idx,p in enumerate(particle_set.particles):\n",
        "            cell_index_x = np.floor((p.position)/rc).astype(int)\n",
        "            cell_index=cell_index_x[0]\n",
        "            if cell_index in self.cells.keys():\n",
        "                self.cells[cell_index].append(idx)\n",
        "            else:\n",
        "                self.cells[cell_index]=[idx]\n",
        "\n",
        "    def particles_in(self, cell_index):\n",
        "\n",
        "        '''\n",
        "        The particles_in method takes a cell_index as a parameter and returns the list of particle indices\n",
        "        associated with that cell index. If the cell index is present in the cells dictionary,\n",
        "        the corresponding list is returned. Otherwise, an empty list is returned.\n",
        "        '''\n",
        "        if cell_index in self.cells.keys():\n",
        "            return self.cells[cell_index]\n",
        "        else:\n",
        "            return []\n",
        "\n",
        "\n",
        "    def neightbourhood(self, cell_index):\n",
        "        '''The neighbourhood method takes a cell_index as a parameter and returns a list of particle\n",
        "        indices representing the neighborhood particles. It considers the cell with cell_index and its adjacent\n",
        "        cells in the x-direction (left, current, right). It iterates over the list [-1, 0, 1] and\n",
        "        extends the neighbour_list with the particle indices returned by self.particles_in(cell_index_x + lx).\n",
        "        '''\n",
        "        cell_index_x=cell_index[0]\n",
        "        neighbour_list=[]\n",
        "        for lx in [-1,0,1]:\n",
        "            neighbour_list.extend(self.particles_in(cell_index_x+lx))\n",
        "        return neighbour_list\n",
        "\n",
        "\n",
        "    #these is only for 1D\n",
        "    def cells_affected_shock(self,shock_ini, shock_final):\n",
        "        '''\n",
        "        shock_ini and shock_final are initial and final position of shock\n",
        "        '''\n",
        "        cell_index_x_ini = np.floor((shock_ini)/rc).astype(int)\n",
        "        cell_index_ini=cell_index_x_ini[0]\n",
        "\n",
        "        cell_index_x_final = np.floor((shock_final)/rc).astype(int)\n",
        "        cell_index_final=cell_index_x_final[0]\n",
        "\n",
        "        'finding the cells affected by the movement of the shock'\n",
        "        affected_list=[]\n",
        "\n",
        "        for i in range(min(cell_index_ini,cell_index_final),max(cell_index_ini,cell_index_final)+1):\n",
        "            affected_list.append(i)\n",
        "\n",
        "        return affected_list\n",
        "\n",
        "    def particles_affected(self,shock_ini,shock_final):\n",
        "        'particles affected by the moving shock'\n",
        "        affected_cells=self.cells_affected_shock(shock_ini,shock_final)\n",
        "        particle_idx_affected=[]\n",
        "        for x in affected_cells:\n",
        "            p=celllist.particles_in(x)\n",
        "            for idx in p:\n",
        "                particle_idx_affected.append(idx)\n",
        "\n",
        "        return particle_idx_affected\n",
        "\n",
        "    def coord_affected(self,shock_ini,shock_final):\n",
        "        'particles affected by the moving shock'\n",
        "        affected_cells=self.cells_affected_shock(shock_ini,shock_final)\n",
        "        positions_affected=[]\n",
        "        for x in affected_cells:\n",
        "            p=celllist.particles_in(x)\n",
        "            for idx in p:\n",
        "                positions_affected.append(self.particle_set.particles[idx].position[0])\n",
        "\n",
        "        return positions_affected"
      ]
    },
    {
      "cell_type": "code",
      "execution_count": 136,
      "id": "50c6283c",
      "metadata": {
        "id": "50c6283c"
      },
      "outputs": [],
      "source": [
        "'''Function we want aproximate'''\n",
        "def f(x):\n",
        "    return np.sin(10*x)*x**2\n",
        "\n",
        "'''Derivative of the function'''\n",
        "def dfdx(x):\n",
        "    return 2*x*(5*x*np.cos(10*x) + np.sin(10*x))\n",
        "\n",
        "\n",
        "'''Kernel we will be using'''\n",
        "def kernel(z, eps):\n",
        "    alphad = 2.0/eps\n",
        "    z = np.abs(z)\n",
        "    if z < 0.5*eps:\n",
        "        return alphad*(2.0/3.0 - (2.0*z/eps)**2 + 0.5*(2.0*z/eps)**3)\n",
        "    elif z >= 0.5*eps and z < eps:\n",
        "        return alphad*(((1.0/6.0)*(2.0-2.0*z/eps)**3))\n",
        "    else:\n",
        "        return 0.0\n",
        "\n",
        "def deriv_kernel(z,eps):\n",
        "    if z!=0:\n",
        "        sign = z/np.abs(z)\n",
        "    else:\n",
        "        sign = 1\n",
        "    z = np.abs(z)\n",
        "    alphad = sign*2.0/eps\n",
        "    if z < 0.5*eps:\n",
        "        return alphad*((-8.0*z/(eps**2)) + (12.0*z**2/eps**3))\n",
        "    elif z >= 0.5*eps and z < eps:\n",
        "        return alphad*(-1*(2.0-2.0*z/eps)**2/eps)\n",
        "    else:\n",
        "        return 0.0"
      ]
    },
    {
      "cell_type": "code",
      "execution_count": 137,
      "id": "b3d06355",
      "metadata": {
        "id": "b3d06355"
      },
      "outputs": [],
      "source": [
        "N = 100\n",
        "d = 1\n",
        "eps=0.04\n",
        "x_l=-1\n",
        "x_r=+1\n",
        "positions = np.linspace(x_l,x_r,N)\n",
        "positions = positions.reshape(N,1)\n",
        "h=positions[1]-positions[0]\n",
        "rc = 5.0*h\n",
        "properties=[]\n",
        "for i in range(N):\n",
        "    properties.append(Props(f(positions[i]),0.0))\n",
        "\n",
        "pset=ParticleSet(positions,properties)"
      ]
    },
    {
      "cell_type": "code",
      "execution_count": 138,
      "id": "d5a5ebda",
      "metadata": {
        "colab": {
          "base_uri": "https://localhost:8080/"
        },
        "id": "d5a5ebda",
        "outputId": "96a94357-0ab2-4a0e-f77b-74f51d2131f9"
      },
      "outputs": [
        {
          "output_type": "stream",
          "name": "stdout",
          "text": [
            "[-1.]\n",
            "[0.54402111]\n"
          ]
        }
      ],
      "source": [
        "print(pset.particles[0].position)\n",
        "print(pset.particles[0].properties.field)"
      ]
    },
    {
      "cell_type": "code",
      "execution_count": 139,
      "id": "a1e763eb",
      "metadata": {
        "id": "a1e763eb"
      },
      "outputs": [],
      "source": [
        "celllist=CellList(pset,rc)"
      ]
    },
    {
      "cell_type": "code",
      "source": [
        "def f_pred(x,pset):\n",
        "  result=0.0\n",
        "  h=pset.particles[1].position-pset.particles[0].position\n",
        "  for i in range(len(positions)):\n",
        "    y=pset.particles[i].position[0]\n",
        "    result+=f(y)*kernel(abs(y-x),eps)*h\n",
        "  return result\n",
        "\n",
        "def derive_pred(x,pset):\n",
        "  result=0.0\n",
        "  h=pset.particles[1].position-pset.particles[0].position\n",
        "  for i in range(len(positions)):\n",
        "    y=pset.particles[i].position[0]\n",
        "    result+=f(y)*deriv_kernel(abs(y-x),eps)*h\n",
        "  return result\n",
        "\n",
        "x_p=np.linspace(-1,1,100)\n",
        "y_p=[]\n",
        "dfx=[]\n",
        "for k in range(len(x_p)):\n",
        "  dfx.append(derive_pred(x_p[k] ,pset))\n",
        "  y_p.append(f_pred(x_p[k] ,pset))"
      ],
      "metadata": {
        "id": "kAlkh11yQs_u"
      },
      "id": "kAlkh11yQs_u",
      "execution_count": 140,
      "outputs": []
    },
    {
      "cell_type": "code",
      "source": [
        "plt.plot(x_p,y_p,color='red')\n",
        "plt.plot(positions,f(positions),color='blue')"
      ],
      "metadata": {
        "colab": {
          "base_uri": "https://localhost:8080/",
          "height": 447
        },
        "id": "beEJTuMDX9aI",
        "outputId": "7505b8d5-f77c-4513-8b06-d6a63b14d178"
      },
      "id": "beEJTuMDX9aI",
      "execution_count": 141,
      "outputs": [
        {
          "output_type": "execute_result",
          "data": {
            "text/plain": [
              "[<matplotlib.lines.Line2D at 0x7f7bf6a42560>]"
            ]
          },
          "metadata": {},
          "execution_count": 141
        },
        {
          "output_type": "display_data",
          "data": {
            "text/plain": [
              "<Figure size 640x480 with 1 Axes>"
            ],
            "image/png": "[encoded data removed]"
          },
          "metadata": {}
        }
      ]
    },
    {
      "cell_type": "code",
      "source": [
        "plt.plot(x_p,dfx,color='red')\n",
        "plt.plot(positions,dfdx(positions),color='blue')"
      ],
      "metadata": {
        "colab": {
          "base_uri": "https://localhost:8080/",
          "height": 447
        },
        "id": "EeOFEcYzZiwN",
        "outputId": "1563e5d2-4fd0-4168-ca27-2782d8aab1a7"
      },
      "id": "EeOFEcYzZiwN",
      "execution_count": 142,
      "outputs": [
        {
          "output_type": "execute_result",
          "data": {
            "text/plain": [
              "[<matplotlib.lines.Line2D at 0x7f7bf68df970>]"
            ]
          },
          "metadata": {},
          "execution_count": 142
        },
        {
          "output_type": "display_data",
          "data": {
            "text/plain": [
              "<Figure size 640x480 with 1 Axes>"
            ],
            "image/png": "[encoded data removed]"
          },
          "metadata": {}
        }
      ]
    },
    {
      "cell_type": "code",
      "execution_count": null,
      "id": "488ae942",
      "metadata": {
        "colab": {
          "base_uri": "https://localhost:8080/"
        },
        "id": "488ae942",
        "outputId": "6bc64beb-3ff8-49d6-e53f-77e6c8fcd953"
      },
      "outputs": [
        {
          "output_type": "stream",
          "name": "stdout",
          "text": [
            "The affected cells are - [-2, -1, 0, 1, 2, 3, 4]\n",
            "The positions of the affected particles are\n",
            "[-0.19191919]\n",
            "[-0.17171717]\n",
            "[-0.15151515]\n",
            "[-0.13131313]\n",
            "[-0.11111111]\n",
            "[-0.09090909]\n",
            "[-0.07070707]\n",
            "[-0.05050505]\n",
            "[-0.03030303]\n",
            "[-0.01010101]\n",
            "[0.01010101]\n",
            "[0.03030303]\n",
            "[0.05050505]\n",
            "[0.07070707]\n",
            "[0.09090909]\n",
            "[0.11111111]\n",
            "[0.13131313]\n",
            "[0.15151515]\n",
            "[0.17171717]\n",
            "[0.19191919]\n",
            "[0.21212121]\n",
            "[0.23232323]\n",
            "[0.25252525]\n",
            "[0.27272727]\n",
            "[0.29292929]\n",
            "[0.31313131]\n",
            "[0.33333333]\n",
            "[0.35353535]\n",
            "[0.37373737]\n",
            "[0.39393939]\n",
            "[0.41414141]\n",
            "[0.43434343]\n",
            "[0.45454545]\n",
            "[0.47474747]\n",
            "[0.49494949]\n"
          ]
        }
      ],
      "source": [
        "affected_cells=celllist.cells_affected_shock(-0.11,0.5)\n",
        "print(\"The affected cells are -\",affected_cells)\n",
        "\n",
        "print(\"The positions of the affected particles are\")\n",
        "for x in affected_cells:\n",
        "    p=celllist.particles_in(x)\n",
        "    for idx in p:\n",
        "        print(pset.particles[idx].position)"
      ]
    },
    {
      "cell_type": "code",
      "execution_count": null,
      "id": "468f35b2",
      "metadata": {
        "id": "468f35b2"
      },
      "outputs": [],
      "source": [
        "affected=celllist.particles_affected(0.2,0.5)"
      ]
    },
    {
      "cell_type": "code",
      "execution_count": null,
      "id": "f97c7698",
      "metadata": {
        "id": "f97c7698"
      },
      "outputs": [],
      "source": [
        "affected_pos=[]\n",
        "for p in affected:\n",
        "    affected_pos.append(pset.particles[p].position[0])"
      ]
    },
    {
      "cell_type": "code",
      "execution_count": null,
      "id": "785e57fc",
      "metadata": {
        "colab": {
          "base_uri": "https://localhost:8080/"
        },
        "id": "785e57fc",
        "outputId": "935c5a10-a5f3-4692-daec-6f674ef43936"
      },
      "outputs": [
        {
          "output_type": "stream",
          "name": "stdout",
          "text": [
            "[0.11111111111111116, 0.1313131313131315, 0.1515151515151516, 0.1717171717171717, 0.19191919191919204, 0.21212121212121215, 0.2323232323232325, 0.2525252525252526, 0.27272727272727293, 0.29292929292929304, 0.31313131313131315, 0.3333333333333335, 0.3535353535353536, 0.3737373737373739, 0.39393939393939403, 0.41414141414141437, 0.4343434343434345, 0.4545454545454546, 0.4747474747474749, 0.49494949494949503]\n"
          ]
        }
      ],
      "source": [
        "print(affected_pos)"
      ]
    },
    {
      "cell_type": "code",
      "source": [
        "def aff_points(l_lim, u_lim):\n",
        "  affected=celllist.coord_affected(l_lim,u_lim)\n",
        "  return affected"
      ],
      "metadata": {
        "id": "qIXL-LnIUBQP"
      },
      "id": "qIXL-LnIUBQP",
      "execution_count": null,
      "outputs": []
    },
    {
      "cell_type": "code",
      "source": [
        "aff_points(0,0.1)"
      ],
      "metadata": {
        "colab": {
          "base_uri": "https://localhost:8080/"
        },
        "id": "z4cYh63VV6Gv",
        "outputId": "e66adcfe-a02a-401b-acb3-3cebdc679568"
      },
      "id": "z4cYh63VV6Gv",
      "execution_count": null,
      "outputs": [
        {
          "output_type": "execute_result",
          "data": {
            "text/plain": [
              "[0.010101010101010166,\n",
              " 0.030303030303030498,\n",
              " 0.05050505050505061,\n",
              " 0.07070707070707072,\n",
              " 0.09090909090909105]"
            ]
          },
          "metadata": {},
          "execution_count": 15
        }
      ]
    },
    {
      "cell_type": "code",
      "execution_count": null,
      "id": "ec14c15c",
      "metadata": {
        "colab": {
          "base_uri": "https://localhost:8080/",
          "height": 447
        },
        "id": "ec14c15c",
        "outputId": "4e5e0bee-56c8-4cad-c0da-a5d3d789cb37"
      },
      "outputs": [
        {
          "output_type": "execute_result",
          "data": {
            "text/plain": [
              "(-0.31, 0.51)"
            ]
          },
          "metadata": {},
          "execution_count": 16
        },
        {
          "output_type": "display_data",
          "data": {
            "text/plain": [
              "<Figure size 640x480 with 1 Axes>"
            ],
            "image/png": "[encoded data removed]"
          },
          "metadata": {}
        }
      ],
      "source": [
        "shock = [0.31,-0.11]\n",
        "affected_pos = aff_points(shock[0],shock[1])\n",
        "H_c0 = np.zeros(len(positions))\n",
        "H_c0[(positions<=shock[0]).T[0]] = 1\n",
        "H_c1 = np.zeros(len(positions))\n",
        "H_c1[(positions<=shock[1]).T[0]] = 1\n",
        "plt.plot(positions,H_c0, linestyle = '--')\n",
        "plt.plot(positions, H_c1, linestyle = '--')\n",
        "plt.scatter(affected_pos,np.linspace(1,1,len(affected_pos)), color ='red',marker ='o' )\n",
        "diff_c = np.array(list(set(positions.T[0])-set(affected_pos)))\n",
        "plt.scatter(diff_c,np.linspace(1,1,len(diff_c)), color ='black',marker ='o' )\n",
        "plt.xlim([min(shock[0],shock[1])-0.2,max(shock[0],shock[1])+0.2])\n"
      ]
    }
  ],
  "metadata": {
    "kernelspec": {
      "display_name": "Python 3 (ipykernel)",
      "language": "python",
      "name": "python3"
    },
    "language_info": {
      "codemirror_mode": {
        "name": "ipython",
        "version": 3
      },
      "file_extension": ".py",
      "mimetype": "text/x-python",
      "name": "python",
      "nbconvert_exporter": "python",
      "pygments_lexer": "ipython3",
      "version": "3.9.12"
    },
    "colab": {
      "provenance": []
    }
  },
  "nbformat": 4,
  "nbformat_minor": 5
}