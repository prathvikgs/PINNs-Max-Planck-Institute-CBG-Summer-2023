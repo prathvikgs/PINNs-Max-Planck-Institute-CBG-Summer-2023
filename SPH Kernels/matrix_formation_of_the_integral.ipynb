{
  "cells": [
    {
      "cell_type": "code",
      "execution_count": null,
      "id": "6872a1d5-fcb4-4bef-b03b-26b3b34af43b",
      "metadata": {
        "id": "6872a1d5-fcb4-4bef-b03b-26b3b34af43b",
        "colab": {
          "base_uri": "https://localhost:8080/"
        },
        "outputId": "4b9853e5-87a4-4593-b365-8dad55317290"
      },
      "outputs": [
        {
          "output_type": "stream",
          "name": "stdout",
          "text": [
            "0.0\n"
          ]
        }
      ],
      "source": [
        "import numpy as np\n",
        "from matplotlib import pyplot as plt\n",
        "from matplotlib import style\n",
        "import matplotlib\n",
        "matplotlib.rcdefaults()\n",
        "import sys\n",
        "#sys.path.insert(1, '/home/suarez08/PhD_PINNs/PIPS_framework')\n",
        "from sobolev import Sobolev\n",
        "import time\n",
        "import tensorflow as tf\n",
        "from spline_integration import ikp"
      ]
    },
    {
      "cell_type": "code",
      "execution_count": null,
      "id": "07ea4376-9ba1-4dd9-aa23-09ca76c9c6e9",
      "metadata": {
        "id": "07ea4376-9ba1-4dd9-aa23-09ca76c9c6e9"
      },
      "outputs": [],
      "source": [
        "# Properties class to store the properties of each particle\n",
        "class Props:\n",
        "    def __init__(self, field_val, derivs):\n",
        "        self.field = field_val\n",
        "        self.field_derivative = derivs"
      ]
    },
    {
      "cell_type": "code",
      "execution_count": null,
      "id": "a21ea3af-ba18-4210-ae48-55eee594ed10",
      "metadata": {
        "id": "a21ea3af-ba18-4210-ae48-55eee594ed10"
      },
      "outputs": [],
      "source": [
        "class Particle:\n",
        "    def __init__(self, position, properties):\n",
        "        self.position = position\n",
        "        self.properties = properties\n",
        "\n",
        "    def interact(self, other_particle):\n",
        "        pass\n",
        "\n",
        "    def evolve(self):\n",
        "        pass\n"
      ]
    },
    {
      "cell_type": "code",
      "execution_count": null,
      "id": "764b1cc9-bc6f-4218-9122-de0f2f5152f9",
      "metadata": {
        "id": "764b1cc9-bc6f-4218-9122-de0f2f5152f9"
      },
      "outputs": [],
      "source": [
        "class ParticleSet:\n",
        "\n",
        "    def __init__(self, positions, properties):\n",
        "        # positions: array of shape (N, d)\n",
        "        # properties: array of shape (N)\n",
        "        self.num_particles = positions.shape[0]\n",
        "        self.spatial_dimesion = positions.shape[1]\n",
        "        self.particles = []\n",
        "        for i in range(self.num_particles):\n",
        "            self.particles.append(Particle(positions[i,:], properties[i]))\n",
        "\n",
        "    def update_once(self):\n",
        "        pass\n",
        "\n",
        "    def compute_derivatives(self, verlet_list, deriv_func, eps, V):\n",
        "        for p_idx, p in enumerate(self.particles):\n",
        "            result = 0.0\n",
        "            neighbours = verlet_list.neighbours[p_idx]\n",
        "            for q_idx in neighbours:\n",
        "                q = self.particles[q_idx]\n",
        "                if q != p:\n",
        "                    z = p.position[0] - q.position[0]\n",
        "                    result += q.properties.field * deriv_func(z, eps) * V\n",
        "            p.properties.field_derivative = result\n",
        "        return"
      ]
    },
    {
      "cell_type": "code",
      "execution_count": null,
      "id": "b037acf1-b837-49f1-8863-e8a371e599b3",
      "metadata": {
        "id": "b037acf1-b837-49f1-8863-e8a371e599b3"
      },
      "outputs": [],
      "source": [
        "class CellList:\n",
        "\n",
        "    def __init__(self, particle_set, rc):\n",
        "        self.cells = {}\n",
        "        self.construct(particle_set, rc)\n",
        "\n",
        "    def construct(self, particle_set, rc):\n",
        "        for idx, p in enumerate(particle_set.particles):\n",
        "            cell_index_x = np.floor((p.position) / rc).astype(int)\n",
        "            cell_index = cell_index_x[0]\n",
        "            if cell_index in self.cells.keys():\n",
        "                self.cells[cell_index].append(idx)\n",
        "            else:\n",
        "                self.cells[cell_index] = [idx]\n",
        "\n",
        "    def particles_in(self, cell_index):\n",
        "        if cell_index in self.cells.keys():\n",
        "            return self.cells[cell_index]\n",
        "        else:\n",
        "            return []\n",
        "\n",
        "\n",
        "    def neighbourhood(self, cell_index):\n",
        "        cell_index\n",
        "        cell_index_x = cell_index[0]\n",
        "        neighbour_list = []\n",
        "        for lx in [-1, 0,1]:\n",
        "            neighbour_list.extend(self.particles_in(cell_index_x + lx))\n",
        "\n",
        "        return neighbour_list"
      ]
    },
    {
      "cell_type": "code",
      "execution_count": null,
      "id": "1fad894f-1fa4-42af-a84c-043087949d29",
      "metadata": {
        "id": "1fad894f-1fa4-42af-a84c-043087949d29"
      },
      "outputs": [],
      "source": [
        "class VerletList:\n",
        "\n",
        "    def __init__(self, particle_set, cell_list, rc):\n",
        "        self.neighbours = {}\n",
        "        self.construct(particle_set, cell_list, rc)\n",
        "\n",
        "    def construct(self, particle_set, cell_list, rc):\n",
        "        for p_id, p in enumerate(particle_set.particles):\n",
        "            self.neighbours[p_id] = []\n",
        "            cell_index_x = np.floor((p.position) / rc).astype(int)\n",
        "            cell_index = cell_index_x\n",
        "            for q_id in cell_list.neighbourhood(cell_index):\n",
        "                q = particle_set.particles[q_id]\n",
        "                if np.linalg.norm(p.position[0]-q.position[0]) <= rc:\n",
        "                    self.neighbours[p_id].append(q_id)"
      ]
    },
    {
      "cell_type": "code",
      "execution_count": null,
      "id": "f233442a-daa1-4c18-9455-03e41de02d4a",
      "metadata": {
        "id": "f233442a-daa1-4c18-9455-03e41de02d4a"
      },
      "outputs": [],
      "source": [
        "def f(x):\n",
        "    return 1/(x**2+2)\n",
        "def dxf(x):\n",
        "    return 2*x*(5*x*np.cos(10*x) + np.sin(10*x))\n",
        "def kernel(z, eps):\n",
        "    alphad = 2.0/eps\n",
        "    z = np.abs(z)\n",
        "    if z < 0.5*eps:\n",
        "        return alphad*(2.0/3.0 - (2.0*z/eps)**2 + 0.5*(2.0*z/eps)**3)\n",
        "    elif z >= 0.5*eps and z < eps:\n",
        "        return alphad*(((1.0/6.0)*(2.0-2.0*z/eps)**3))\n",
        "    else:\n",
        "        return 0.0\n",
        "\n",
        "def deriv_kernel(z, eps):\n",
        "    if z!=0:\n",
        "        sign = z/np.abs(z)\n",
        "    else:\n",
        "        sign = 1\n",
        "    z = np.abs(z)\n",
        "    alphad = sign*2.0/eps\n",
        "    if z < 0.5*eps:\n",
        "        return alphad*((-8.0*z/(eps**2)) + (12.0*z**2/eps**3))\n",
        "    elif z >= 0.5*eps and z < eps:\n",
        "        return alphad*(-1*(2.0-2.0*z/eps)**2/eps)\n",
        "    else:\n",
        "        return 0.0"
      ]
    },
    {
      "cell_type": "code",
      "execution_count": null,
      "id": "047d8fbd-382b-4e09-91fb-f7317d5ce31f",
      "metadata": {
        "colab": {
          "base_uri": "https://localhost:8080/"
        },
        "id": "047d8fbd-382b-4e09-91fb-f7317d5ce31f",
        "outputId": "9c85e446-84c4-4a3c-ad51-51177469d089"
      },
      "outputs": [
        {
          "output_type": "stream",
          "name": "stdout",
          "text": [
            "h = 0.004008016032064132\n",
            "Cut off for Cell list = 0.02004008016032066\n"
          ]
        }
      ],
      "source": [
        "N = 500\n",
        "d = 1\n",
        "\n",
        "positions = np.linspace(-1,1,N)\n",
        "h=positions[1]-positions[0]\n",
        "print(f\"h = {h}\")\n",
        "\n",
        "positions = positions.reshape(N,1)\n",
        "rc = 5.0*h\n",
        "print(f\"Cut off for Cell list = {rc}\")\n",
        "\n",
        "# Initialize particle positions with function values\n",
        "properties = []\n",
        "for idx in range(N):\n",
        "    p = Props(f(positions[idx]), 0.0)\n",
        "    properties.append(p)\n",
        "\n",
        "# Initial particle set\n",
        "pset = ParticleSet(positions, properties)\n",
        "cell_list = CellList(pset, rc)\n",
        "verlet_list = VerletList(pset, cell_list, rc)\n",
        "# Compute the first derivative using SPH kernel\n",
        "pset.compute_derivatives(verlet_list, kernel, eps=2*h, V=h)"
      ]
    },
    {
      "cell_type": "code",
      "execution_count": null,
      "id": "9434b04a-833f-4349-8d1e-97ca0cc6df19",
      "metadata": {
        "id": "9434b04a-833f-4349-8d1e-97ca0cc6df19"
      },
      "outputs": [],
      "source": [
        "Pred = [pset.particles[k].properties.field_derivative[0] for k in range(len(positions))]"
      ]
    },
    {
      "cell_type": "code",
      "execution_count": null,
      "id": "312f8b49-c9c0-4389-9eba-924daad59a5a",
      "metadata": {
        "colab": {
          "base_uri": "https://localhost:8080/",
          "height": 447
        },
        "id": "312f8b49-c9c0-4389-9eba-924daad59a5a",
        "outputId": "74742437-e62b-44c7-8877-0671525cb1ab"
      },
      "outputs": [
        {
          "output_type": "execute_result",
          "data": {
            "text/plain": [
              "<matplotlib.legend.Legend at 0x7f7ff3a1dd50>"
            ]
          },
          "metadata": {},
          "execution_count": 166
        },
        {
          "output_type": "display_data",
          "data": {
            "text/plain": [
              "<Figure size 640x480 with 1 Axes>"
            ],
            "image/png": "[encoded data removed]"
          },
          "metadata": {}
        }
      ],
      "source": [
        "filt_part = np.array(pset.particles)[idx]\n",
        "plt.plot(Pred[2:-2],label='Prediction')\n",
        "plt.plot(f(positions))\n",
        "#plt.plot(dxf(positions)[2:-2], label = 'Ground Truth')\n",
        "plt.legend()"
      ]
    },
    {
      "cell_type": "code",
      "execution_count": null,
      "id": "71e291bf-95fd-4d35-bdda-b871bfd3bcdd",
      "metadata": {
        "id": "71e291bf-95fd-4d35-bdda-b871bfd3bcdd"
      },
      "outputs": [],
      "source": [
        "deg_quad = 70\n",
        "sob_param = Sobolev(deg=deg_quad, dim=1)\n",
        "x_plt, _, _, x_int, _, _ = sob_param.get_quad()\n",
        "w_1d = np.array(sob_param.get_leja_weights())\n",
        "dx =sob_param.diff.diffs(np.array([[1]]))"
      ]
    },
    {
      "cell_type": "code",
      "execution_count": null,
      "id": "2ad76f9c-5f6d-4828-ac4b-df1db75fc98c",
      "metadata": {
        "id": "2ad76f9c-5f6d-4828-ac4b-df1db75fc98c"
      },
      "outputs": [],
      "source": [
        "support=2\n",
        "deg_quad = 40\n",
        "sob_param = Sobolev(deg=deg_quad, dim=1)\n",
        "x_plt, _, _, x_int, _, _ = sob_param.get_quad()\n",
        "w_1d = np.array(sob_param.get_leja_weights())\n",
        "dx =sob_param.diff.diffs(np.array([[1]]))\n",
        "\n",
        "def sph_int(N):\n",
        "    d = 1\n",
        "    positions = np.linspace(-1,1,N)\n",
        "    h=positions[1]-positions[0]\n",
        "    positions = positions.reshape(N,1)\n",
        "    rc = 5.0*h\n",
        "    properties = []\n",
        "    for idx in range(N):\n",
        "        p = Props(f(positions[idx]), 0.0)\n",
        "        properties.append(p)\n",
        "\n",
        "    # Initial particle set\n",
        "    pset = ParticleSet(positions, properties)\n",
        "    cell_list = CellList(pset, rc)\n",
        "    verlet_list = VerletList(pset, cell_list, rc)\n",
        "    # Compute the first derivative using SPH kernel\n",
        "    coor_p = np.array([pset.particles[k].position[0] for k in range(len(pset.particles))])\n",
        "    ID = np.array([[idx, x_p] for idx, x_p in enumerate(coor_p) if x_p <=1 and x_p >=-1])\n",
        "    idx = np.array(ID[:,0],dtype = int)\n",
        "    V = h\n",
        "    eps = support*h\n",
        "    x = x_int\n",
        "    F = []\n",
        "    Fx = []\n",
        "    for i in range(len(x)):\n",
        "        x_i = x_int[i]#positions.T[0][i]+0.1#x[i]\n",
        "        result = 0.0\n",
        "        resultdx = 0.0\n",
        "        IDX = np.floor((x_i) / rc).astype(int)\n",
        "        neighbours = cell_list.neighbourhood([IDX])\n",
        "        for j, i_idx in enumerate(neighbours):\n",
        "            for j, j_idx in enumerate(neighbours):\n",
        "                qi = pset.particles[i_idx]\n",
        "                qj = pset.particles[j_idx]\n",
        "                zi = x_i - qi.position[0]\n",
        "                zj = x_i - qj.position[0]\n",
        "                result +=qi.properties.field * qj.properties.field * kernel(zi, eps)* kernel(zj, eps) * V**2\n",
        "                resultdx +=qi.properties.field * qj.properties.field * deriv_kernel(zi, eps)* deriv_kernel(zj, eps) * V**2\n",
        "        F.append(result)\n",
        "        Fx.append(resultdx)\n",
        "    return np.sum(np.array(F).T[0]*w_1d)#+np.sum(np.array(Fx).T[0]*w_1d)#, np.sum(f(positions[idx])**2*V)"
      ]
    },
    {
      "cell_type": "code",
      "execution_count": null,
      "id": "13b52536-21ec-4ea2-9c12-675947d4042d",
      "metadata": {
        "id": "13b52536-21ec-4ea2-9c12-675947d4042d",
        "colab": {
          "base_uri": "https://localhost:8080/"
        },
        "outputId": "6948ed7d-b004-4c4a-9208-1df07b43f04e"
      },
      "outputs": [
        {
          "output_type": "execute_result",
          "data": {
            "text/plain": [
              "0.3842716045084428"
            ]
          },
          "metadata": {},
          "execution_count": 186
        }
      ],
      "source": [
        "an_int = np.sum((f(x_int))**2*w_1d)#+np.sum((dx@f(x_int))**2*w_1d)\n",
        "an_int"
      ]
    },
    {
      "cell_type": "code",
      "source": [
        "sph_int(120)"
      ],
      "metadata": {
        "colab": {
          "base_uri": "https://localhost:8080/"
        },
        "id": "_atxDh3wExTh",
        "outputId": "9d3db09b-0e43-4213-e6fd-7f974d3beaa8"
      },
      "id": "_atxDh3wExTh",
      "execution_count": null,
      "outputs": [
        {
          "output_type": "execute_result",
          "data": {
            "text/plain": [
              "0.3839570486538853"
            ]
          },
          "metadata": {},
          "execution_count": 187
        }
      ]
    },
    {
      "cell_type": "code",
      "source": [
        "def M_sph(x_t,x_int):\n",
        "    #positions = np.linspace(-1,1,N)\n",
        "    h=abs(x_t[1]-x_t[0])\n",
        "    rc = 5.0*h\n",
        "    properties = []\n",
        "    x_t = x_t.reshape(len(x_t),1)\n",
        "    for idx in range(len(x_t)):\n",
        "        p = Props(x_t[idx]**2, 0.0)\n",
        "        properties.append(p)\n",
        "\n",
        "    # Initial particle set\n",
        "    pset = ParticleSet(x_t, properties)\n",
        "    cell_list = CellList(pset, rc)\n",
        "    verlet_list = VerletList(pset, cell_list, rc)\n",
        "    # Compute the first derivative using SPH kernel\n",
        "    V = h\n",
        "    eps = 5*h\n",
        "    F = []\n",
        "    Fx = []\n",
        "    M = np.zeros([len(x_int),len(x_t), len(x_t)])\n",
        "    for i in range(len(x_int)):\n",
        "        x_i = x_int[i]#positions.T[0][i]+0.1#x[i]\n",
        "        result = 0.0\n",
        "        resultdx = 0.0\n",
        "        IDX = np.floor((x_i) / rc).astype(int)\n",
        "        neighbours = cell_list.neighbourhood([IDX])\n",
        "        for j, i_idx in enumerate(neighbours):\n",
        "            for j, j_idx in enumerate(neighbours):\n",
        "                qi = pset.particles[i_idx]\n",
        "                qj = pset.particles[j_idx]\n",
        "                zi = x_i - qi.position[0]\n",
        "                zj = x_i - qj.position[0]\n",
        "                M[i,i_idx,j_idx] = kernel(zi, eps)* kernel(zj, eps) * V**2*w_1d[i]\n",
        "    return M"
      ],
      "metadata": {
        "id": "0Z_4tWuJePvT"
      },
      "id": "0Z_4tWuJePvT",
      "execution_count": null,
      "outputs": []
    },
    {
      "cell_type": "code",
      "source": [
        "def M_sph_wn(x_t,x_int):\n",
        "    #positions = np.linspace(-1,1,N)\n",
        "    h=abs(x_t[1]-x_t[0])\n",
        "    rc = 5.0*h\n",
        "    properties = []\n",
        "    x_t = x_t.reshape(len(x_t),1)\n",
        "    for idx in range(len(x_t)):\n",
        "        p = Props(x_t[idx]**2, 0.0)\n",
        "        properties.append(p)\n",
        "\n",
        "    # Initial particle set\n",
        "    pset = ParticleSet(x_t, properties)\n",
        "    cell_list = CellList(pset, rc)\n",
        "    verlet_list = VerletList(pset, cell_list, rc)\n",
        "    # Compute the first derivative using SPH kernel\n",
        "    V = h\n",
        "    eps = support*h\n",
        "    F = []\n",
        "    Fx = []\n",
        "    M = np.zeros([len(x_int),len(x_t), len(x_t)])\n",
        "    for i in range(len(x_int)):\n",
        "        x_i = x_int[i]#positions.T[0][i]+0.1#x[i]\n",
        "        result = 0.0\n",
        "        resultdx = 0.0\n",
        "        IDX = np.floor((x_i) / rc).astype(int)\n",
        "        for k in range(len(pset.particles)):\n",
        "            for j in range(len(pset.particles)):\n",
        "                qi = pset.particles[k]\n",
        "                qj = pset.particles[j]\n",
        "                zi = x_i - qi.position[0]\n",
        "                zj = x_i - qj.position[0]\n",
        "                M[i,k,j] = kernel(zi, eps)* kernel(zj, eps) * V**2*w_1d[i]\n",
        "    return M"
      ],
      "metadata": {
        "id": "mm3Gfk4XW0N0"
      },
      "id": "mm3Gfk4XW0N0",
      "execution_count": null,
      "outputs": []
    },
    {
      "cell_type": "code",
      "source": [
        "N = 200\n",
        "x_t = np.linspace(-1,1,N)\n",
        "np.dot(f(x_t),np.sum(M_sph_wn(np.linspace(-1,1,N),x_int),axis =0)@f(x_t)) - an_int, sph_int(N)-an_int"
      ],
      "metadata": {
        "colab": {
          "base_uri": "https://localhost:8080/"
        },
        "id": "FqAWEpp9VHCt",
        "outputId": "a5125eec-fdd9-4a3e-a4d5-c636c526c895"
      },
      "id": "FqAWEpp9VHCt",
      "execution_count": null,
      "outputs": [
        {
          "output_type": "execute_result",
          "data": {
            "text/plain": [
              "(-0.00018307707777454052, -0.00018307707777454052)"
            ]
          },
          "metadata": {},
          "execution_count": 190
        }
      ]
    },
    {
      "cell_type": "code",
      "source": [
        "def M_an (N):\n",
        "  positions = np.linspace(-1,1,N)\n",
        "  positions = positions.reshape(N,1)\n",
        "  h=positions[1]-positions[0]\n",
        "  eps=support*h\n",
        "  rc = 25.0*h\n",
        "  properties=[]\n",
        "  for i in range(N):\n",
        "      properties.append(Props(f(positions[i]),0.0))\n",
        "  pset=ParticleSet(positions,properties)\n",
        "  celllist=CellList(pset,rc)\n",
        "  M=np.zeros((N,N))\n",
        "  for i in range(N):\n",
        "    for j in range(N):\n",
        "      M[i][j]=ikp(positions[i].item(),positions[j].item(),eps.item())*h**2\n",
        "  return M"
      ],
      "metadata": {
        "id": "YsO2xuFpgn2V"
      },
      "id": "YsO2xuFpgn2V",
      "execution_count": null,
      "outputs": []
    },
    {
      "cell_type": "code",
      "execution_count": null,
      "id": "7aab1552-65c5-4c9a-bb38-74ba30631699",
      "metadata": {
        "id": "7aab1552-65c5-4c9a-bb38-74ba30631699"
      },
      "outputs": [],
      "source": [
        "def mse_sph_int(N):\n",
        "    x_mse = np.linspace(-1,1,10000)\n",
        "    x_mse = x_mse[np.random.randint(0,10000,N)]\n",
        "    dx = abs(x_mse[0]-x_mse[1])\n",
        "    d = 1\n",
        "    positions = np.linspace(-1,1,N)\n",
        "    h=positions[1]-positions[0]\n",
        "    positions = positions.reshape(N,1)\n",
        "    rc = 5.0*h\n",
        "    properties = []\n",
        "    for idx in range(N):\n",
        "        p = Props(f(positions[idx]), 0.0)\n",
        "        properties.append(p)\n",
        "\n",
        "    # Initial particle set\n",
        "    pset = ParticleSet(positions, properties)\n",
        "    cell_list = CellList(pset, rc)\n",
        "    verlet_list = VerletList(pset, cell_list, rc)\n",
        "    # Compute the first derivative using SPH kernel\n",
        "    coor_p = np.array([pset.particles[k].position[0] for k in range(len(pset.particles))])\n",
        "    ID = np.array([[idx, x_p] for idx, x_p in enumerate(coor_p) if x_p <=1 and x_p >=-1])\n",
        "    idx = np.array(ID[:,0],dtype = int)\n",
        "    V = h\n",
        "    eps = support*h\n",
        "    F = []\n",
        "    Fx = []\n",
        "    for i in range(len(x_mse)):\n",
        "        x_i = x_mse[i]#positions.T[0][i]+0.1#x[i]\n",
        "        result = 0.0\n",
        "        resultdx = 0.0\n",
        "        IDX = np.floor((x_i) / rc).astype(int)\n",
        "        neighbours = cell_list.neighbourhood([IDX])\n",
        "        for j, i_idx in enumerate(neighbours):\n",
        "            for j, j_idx in enumerate(neighbours):\n",
        "                qi = pset.particles[i_idx]\n",
        "                qj = pset.particles[j_idx]\n",
        "                zi = x_i - qi.position[0]\n",
        "                zj = x_i - qj.position[0]\n",
        "                result +=qi.properties.field * qj.properties.field * kernel(zi, eps)* kernel(zj, eps) * V**2\n",
        "                resultdx +=qi.properties.field * qj.properties.field * deriv_kernel(zi, eps)* deriv_kernel(zj, eps) * V**2\n",
        "        F.append(result)\n",
        "        Fx.append(resultdx)\n",
        "    return np.mean(np.array(F).T[0]) #+  np.mean(np.array(Fx).T[0])"
      ]
    },
    {
      "cell_type": "code",
      "execution_count": null,
      "id": "0175ee30-5317-4268-8249-b2b9e5b50b0d",
      "metadata": {
        "id": "0175ee30-5317-4268-8249-b2b9e5b50b0d"
      },
      "outputs": [],
      "source": [
        "def MSE_int(N):\n",
        "    d = 1\n",
        "    positions = np.linspace(-1,1,N)\n",
        "    coor_p = np.array([positions[k] for k in range(len(positions))])\n",
        "    ID = np.array([[idx, x_p] for idx, x_p in enumerate(coor_p) if x_p <=1 and x_p >=-1])\n",
        "    idx = np.array(ID[:,0],dtype = int)\n",
        "    h=positions[1]-positions[0]\n",
        "    return   np.sum(f(positions[idx])**2*h)#+np.sum(dxf(positions[idx])**2*h)"
      ]
    },
    {
      "cell_type": "code",
      "source": [
        "MSE_int(100)"
      ],
      "metadata": {
        "colab": {
          "base_uri": "https://localhost:8080/"
        },
        "id": "hWuinIMk-5cP",
        "outputId": "cc4aa4f2-98ba-40a5-c132-d3e3635857fd"
      },
      "id": "hWuinIMk-5cP",
      "execution_count": null,
      "outputs": [
        {
          "output_type": "execute_result",
          "data": {
            "text/plain": [
              "0.38650619629705674"
            ]
          },
          "metadata": {},
          "execution_count": 194
        }
      ]
    },
    {
      "cell_type": "code",
      "source": [
        "def f_pred_c(x,pset,celllist):\n",
        "  result=0.0\n",
        "\n",
        "  cell_index=np.floor((x)/rc).astype(int)\n",
        "  neighbours=celllist.neighbourhood(cell_index)\n",
        "\n",
        "  for p in neighbours:\n",
        "      y=pset.particles[p].position[0]\n",
        "      result+=f(y)*kernel(abs(y-x),eps)*h\n",
        "\n",
        "  return result\n",
        "\n",
        "def derive_pred_c(x,pset,celllist):\n",
        "  result=0.0\n",
        "  cell_index=np.floor((x)/rc).astype(int)\n",
        "  neighbours=celllist.neighbourhood(cell_index)\n",
        "\n",
        "  for p in neighbours:\n",
        "      y=pset.particles[p].position\n",
        "      result+=f(y)*deriv_kernel((x-y),eps)*h\n",
        "\n",
        "  return result\n",
        "\n",
        "points=[]\n",
        "f_2=[]\n",
        "N_p = np.array(np.linspace(100,1000,10),dtype = int)\n",
        "\n",
        "for num in N_p:\n",
        "  N=num\n",
        "  d = 1\n",
        "  x_l=-1\n",
        "  x_r=+1\n",
        "  positions = np.linspace(x_l,x_r,N)\n",
        "  positions = positions.reshape(N,1)\n",
        "  h=positions[1]-positions[0]\n",
        "  eps=support*h\n",
        "  rc = 5.0*h\n",
        "  #properties=[]\n",
        "  #for i in range(N):\n",
        "  #    properties.append(Props(f(positions[i]),0.0))\n",
        "  #pset=ParticleSet(positions,properties)\n",
        "  #celllist=CellList(pset,rc)\n",
        "  M=M_an(N)\n",
        "\n",
        "  x_p=np.linspace(-1,1,N)\n",
        "  y_p=[]\n",
        "  dfx=[]\n",
        "  for k in range(len(x_p)):\n",
        "    #dfx.append(derive_pred_c(x_p[k] ,pset,celllist))\n",
        "    #y_p.append(f_pred_c(x_p[k] ,pset,celllist))\n",
        "    y_p.append(f(x_p[k]))\n",
        "    dfx.append(dxf(x_p[k]))\n",
        "\n",
        "  y_p=np.array(y_p)\n",
        "\n",
        "  f2=np.matmul(np.matmul(y_p.T,M),y_p)\n",
        "  points.append(N)\n",
        "  f_2.append(f2)\n",
        "  en2=time.time()"
      ],
      "metadata": {
        "id": "l8JS4Xr82Ooj"
      },
      "id": "l8JS4Xr82Ooj",
      "execution_count": null,
      "outputs": []
    },
    {
      "cell_type": "code",
      "source": [
        "f_22=[]\n",
        "for i in range(len(f_2)):\n",
        "    f_22.append(abs(f_2[i]-an_int))"
      ],
      "metadata": {
        "id": "rdHygX07rRyu"
      },
      "id": "rdHygX07rRyu",
      "execution_count": null,
      "outputs": []
    },
    {
      "cell_type": "code",
      "execution_count": null,
      "id": "8538a0f5-a737-49c8-9086-deb3ec498ad9",
      "metadata": {
        "id": "8538a0f5-a737-49c8-9086-deb3ec498ad9"
      },
      "outputs": [],
      "source": [
        "E_sph = [abs(sph_int(k)-an_int) for k in N_p]\n",
        "#E_MSE = [abs(np.dot(f(np.linspace(-1,1,N)),M_sph(np.linspace(-1,1,N),x_int)@f(np.linspace(-1,1,N)))-an_int) for k in N_p]\n",
        "#E_sph_matrix=[abs(sph_int_Matrix(k)-an_int) for k in N_p]\n",
        "#E_MSE_sph = [abs(mse_sph_int(k)-an_int) for k in N_p]\n",
        "#E_sph = [[abs(sph_int(k)[0]-0.4),abs(sph_int(k)[1]-0.4)] for k in [10,100,300,500,1000,1500,2000,2500,3000]]"
      ]
    },
    {
      "cell_type": "code",
      "execution_count": null,
      "id": "86cb45ee-d47c-4989-862e-471e2e87283d",
      "metadata": {
        "id": "86cb45ee-d47c-4989-862e-471e2e87283d",
        "colab": {
          "base_uri": "https://localhost:8080/",
          "height": 451
        },
        "outputId": "b1c27c5b-3068-45f7-b233-33385d093670"
      },
      "outputs": [
        {
          "output_type": "execute_result",
          "data": {
            "text/plain": [
              "<matplotlib.legend.Legend at 0x7f7ff3638340>"
            ]
          },
          "metadata": {},
          "execution_count": 198
        },
        {
          "output_type": "display_data",
          "data": {
            "text/plain": [
              "<Figure size 640x480 with 1 Axes>"
            ],
            "image/png": "[encoded data removed]"
          },
          "metadata": {}
        }
      ],
      "source": [
        "plt.loglog(N_p,E_sph,label = 'SPH Quadrature')\n",
        "#plt.loglog(N_p,E_sph_matrix,label = 'SPH Quadrature matrix')\n",
        "#plt.loglog(N_p,E_MSE,label = 'MSE Quadrature')\n",
        "#plt.loglog(N_p,E_MSE_sph,label = 'SPH MSE Quadrature')\n",
        "plt.loglog(N_p,1/N_p, linestyle='--',label = 'Linear rate')\n",
        "plt.loglog(N_p, 1/N_p**2,linestyle='--',label = 'Quadratic rate')\n",
        "plt.loglog(N_p,f_22,label='Kernel product matrix')\n",
        "plt.legend()"
      ]
    }
  ],
  "metadata": {
    "kernelspec": {
      "display_name": "Python 3",
      "name": "python3"
    },
    "language_info": {
      "codemirror_mode": {
        "name": "ipython",
        "version": 3
      },
      "file_extension": ".py",
      "mimetype": "text/x-python",
      "name": "python",
      "nbconvert_exporter": "python",
      "pygments_lexer": "ipython3",
      "version": "3.10.4"
    },
    "colab": {
      "provenance": [],
      "gpuType": "T4"
    },
    "accelerator": "GPU"
  },
  "nbformat": 4,
  "nbformat_minor": 5
}