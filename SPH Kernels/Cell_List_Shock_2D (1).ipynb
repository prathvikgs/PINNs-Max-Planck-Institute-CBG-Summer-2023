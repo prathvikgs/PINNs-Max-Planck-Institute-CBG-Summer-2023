{
  "cells": [
    {
      "cell_type": "code",
      "execution_count": 2,
      "id": "6872a1d5-fcb4-4bef-b03b-26b3b34af43b",
      "metadata": {
        "id": "6872a1d5-fcb4-4bef-b03b-26b3b34af43b"
      },
      "outputs": [],
      "source": [
        "import numpy as np\n",
        "from matplotlib import pyplot as plt\n",
        "from matplotlib import style\n",
        "import matplotlib\n",
        "matplotlib.rcdefaults()\n",
        "import random\n",
        "import sys\n",
        "sys.path.insert(1,  '/content/PSM_V1')\n",
        "import time"
      ]
    },
    {
      "cell_type": "code",
      "execution_count": 3,
      "id": "f65fd73c",
      "metadata": {
        "id": "f65fd73c"
      },
      "outputs": [],
      "source": [
        "class Props:\n",
        "    def __init__(self,field_val,derivs):\n",
        "        self.field=field_val\n",
        "        self.field_derivative=derivs\n",
        "\n",
        "\n",
        "#----------------------------------------------------#\n",
        "class Particle:\n",
        "    def __init__(self,position,properties):\n",
        "        self.position=position\n",
        "        self.properties=properties\n",
        "\n",
        "    def interact(self,other_particle):\n",
        "        pass\n",
        "\n",
        "    def evolve(self):\n",
        "        pass\n",
        "\n",
        "#----------------------------------------------------#\n",
        "class ParticleSet:\n",
        "    # positions: array of shape(N,d)\n",
        "    # properties: array of shape(N,1)\n",
        "\n",
        "    def __init__(self,positions,properties):\n",
        "        self.num_particles = positions.shape[0]\n",
        "        self.spatial_dimension = positions.shape[1]\n",
        "        self.particles=[]\n",
        "        for i in range(self.num_particles):\n",
        "            self.particles.append(Particle(positions[i,:],properties[i]))\n",
        "\n",
        "    def update_once(self):\n",
        "        pass\n"
      ]
    },
    {
      "cell_type": "code",
      "execution_count": 153,
      "id": "2b0be04d",
      "metadata": {
        "id": "2b0be04d"
      },
      "outputs": [],
      "source": [
        "'''\n",
        "Overall, the CellList class provides methods to construct a cell-based data structure for particles,\n",
        "retrieve particles within a specific cell, and obtain a neighborhood of particles around a given cell\n",
        "'''\n",
        "\n",
        "class CellList:\n",
        "\n",
        "    def __init__(self, particle_set, rc):\n",
        "        self.cells = {}\n",
        "        self.construct(particle_set, rc)\n",
        "        self.particle_set = particle_set\n",
        "\n",
        "    def construct(self, particle_set, rc):\n",
        "        for idx, p in enumerate(particle_set.particles):\n",
        "            cell_index_x, cell_index_y = np.floor((p.position) / rc).astype(int)\n",
        "            cell_index = (cell_index_x, cell_index_y)\n",
        "            if cell_index in self.cells.keys():\n",
        "                self.cells[cell_index].append(idx)\n",
        "            else:\n",
        "                self.cells[cell_index] = [idx]\n",
        "\n",
        "    def particles_in(self, cell_index):\n",
        "        if cell_index in self.cells.keys():\n",
        "            return self.cells[cell_index]\n",
        "        else:\n",
        "            return []\n",
        "\n",
        "    def neighbourhood(self, cell_index):\n",
        "        cell_index_x, cell_index_y = cell_index\n",
        "        neighbour_list = []\n",
        "        for lx in [-1, 0, 1]:\n",
        "            for ly in [-1, 0, 1]:\n",
        "                neighbour_list.extend(self.particles_in((cell_index_x + lx, cell_index_y + ly)))\n",
        "\n",
        "        return neighbour_list\n",
        "\n",
        "    def affected_cells(self,shock_ini,shock_final):\n",
        "        m1=shock_ini[0]\n",
        "        b1=shock_ini[1]\n",
        "\n",
        "        m2=shock_final[0]\n",
        "        b2=shock_final[1]\n",
        "\n",
        "        if(m1>m2):\n",
        "          temp=m1\n",
        "          m1=m2\n",
        "          m2=temp\n",
        "\n",
        "          temp=b1\n",
        "          b1=b2\n",
        "          b2=temp\n",
        "\n",
        "        X=np.linspace(x_l,x_r,N)\n",
        "        cells_affected=[]\n",
        "\n",
        "        for i in range(N):\n",
        "           x=np.floor((X[i]) / rc).astype(int)\n",
        "           Y1=np.floor((m1*(X[i])+b1) / rc).astype(int)\n",
        "           Y2=np.floor((m2*(X[i])+b2) / rc).astype(int)\n",
        "           temp=Y1\n",
        "           Y1=min(Y1,Y2)\n",
        "           Y2=max(temp,Y2)\n",
        "           y_min=max(Y1,np.floor((y_l) / rc).astype(int))#bottommost affected point\n",
        "           y_max=min(Y2,np.floor((y_r) / rc).astype(int))#topmost affected point\n",
        "\n",
        "           for j in range(y_min,y_max+1):\n",
        "             cells_affected.append((x,j))\n",
        "\n",
        "        #removing duplicates if any\n",
        "        cells_affected = list( dict.fromkeys(cells_affected) )\n",
        "        return cells_affected\n",
        "\n",
        "    def affected_particles(self, shock_ini,shock_final):\n",
        "\n",
        "      cells=self.affected_cells(shock_ini,shock_final)\n",
        "      particles_idx_affected=[]\n",
        "      for x in cells:\n",
        "        p=self.particles_in(x)\n",
        "        for idx in p:\n",
        "          particles_idx_affected.append(idx)\n",
        "      return particles_idx_affected\n",
        "\n",
        "    def coord_affected(self,shock_ini,shock_final):\n",
        "      affected=self.affected_particles(shock_ini, shock_final)\n",
        "      affected_pos=[]\n",
        "      for p in affected:\n",
        "        affected_pos.append(self.particle_set.particles[p].position)\n",
        "      return affected_pos"
      ]
    },
    {
      "cell_type": "code",
      "source": [
        "'''\n",
        "def cells_affected(shock_ini, shock_final):\n",
        "    m0=shock_ini[0]\n",
        "    b0=shock_ini[1]\n",
        "\n",
        "    m1=shock_final[0]\n",
        "    b1=shock_final[1]\n",
        "    coord_for_cells1=[]\n",
        "    coord_for_cells2=[]\n",
        "\n",
        "    eps=0.01\n",
        "    x0,y0=0,b0\n",
        "    x1,y1=0,b1\n",
        "\n",
        "    while(x0 <1 and y0 <1):\n",
        "        x0+=1*eps\n",
        "        y0+=m0*eps\n",
        "        coord_for_cells1.append([x0,y0])\n",
        "\n",
        "    while(x1 <1 and y1 <1):\n",
        "        x1+=1*eps\n",
        "        y1+=m1*eps\n",
        "        #print(np.floor((x1,y1)/rc).astype(int))\n",
        "        coord_for_cells2.append([x1,y1])\n",
        "    print(x0,y0,\"-\",x1,y1)\n",
        "    return np.array(coord_for_cells1),np.array(coord_for_cells2)\n",
        "    '''"
      ],
      "metadata": {
        "id": "TaA3nrNOjLTL",
        "colab": {
          "base_uri": "https://localhost:8080/",
          "height": 105
        },
        "outputId": "7021177f-4582-4021-c525-4f0f67b276bd"
      },
      "id": "TaA3nrNOjLTL",
      "execution_count": 154,
      "outputs": [
        {
          "output_type": "execute_result",
          "data": {
            "text/plain": [
              "'\\ndef cells_affected(shock_ini, shock_final):\\n    m0=shock_ini[0]\\n    b0=shock_ini[1]\\n\\n    m1=shock_final[0]\\n    b1=shock_final[1]\\n    coord_for_cells1=[]\\n    coord_for_cells2=[]\\n\\n    eps=0.01\\n    x0,y0=0,b0\\n    x1,y1=0,b1\\n\\n    while(x0 <1 and y0 <1):\\n        x0+=1*eps\\n        y0+=m0*eps\\n        coord_for_cells1.append([x0,y0])\\n\\n    while(x1 <1 and y1 <1):\\n        x1+=1*eps\\n        y1+=m1*eps\\n        #print(np.floor((x1,y1)/rc).astype(int))\\n        coord_for_cells2.append([x1,y1])\\n    print(x0,y0,\"-\",x1,y1)\\n    return np.array(coord_for_cells1),np.array(coord_for_cells2)\\n    '"
            ],
            "application/vnd.google.colaboratory.intrinsic+json": {
              "type": "string"
            }
          },
          "metadata": {},
          "execution_count": 154
        }
      ]
    },
    {
      "cell_type": "code",
      "source": [
        "'''\n",
        "N=100\n",
        "rc=0.1\n",
        "def find_ys_for_x(data_list, x):\n",
        "    ys = [y for (x_val, y) in data_list if x_val == x]\n",
        "    return ys\n",
        "\n",
        "def give_cells(shock_ini,shock_final):\n",
        "  m1=shock_ini[0]\n",
        "  b1=shock_ini[1]\n",
        "\n",
        "  m2=shock_final[0]\n",
        "  b2=shock_final[1]\n",
        "\n",
        "  if(m1>m2):\n",
        "    temp=m1\n",
        "    m1=m2\n",
        "    m2=temp\n",
        "\n",
        "  X=np.linspace(0,1,N)\n",
        "  #Y1=m1*(X)+b1\n",
        "  #Y2=m2*(X)+b2\n",
        "\n",
        "  #cells=[]\n",
        "  #for i in range(10):\n",
        "  #  x=np.floor((X[i]) / rc).astype(int)\n",
        "  #  cells.append((x,min(np.floor((Y1[i]) / rc).astype(int),np.floor((1) / rc).astype(int))))\n",
        "  #  cells.append((x,min(np.floor((Y2[i]) / rc).astype(int),np.floor((1) / rc).astype(int))))\n",
        "  #print(cells)\n",
        "  cells_affected=[]\n",
        "  for i in range(N):\n",
        "    x=np.floor((X[i]) / rc).astype(int)\n",
        "    Y1=np.floor((m1*(X[i])+b1) / rc).astype(int)\n",
        "    Y2=np.floor((m2*(X[i])+b2) / rc).astype(int)\n",
        "    y_min=max(Y1,np.floor((-1) / rc).astype(int))\n",
        "    y_max=min(Y2,np.floor((1) / rc).astype(int))\n",
        "    #ys=find_ys_for_x(c,x)\n",
        "    #print((x,ys))\n",
        "    #y_min=min(ys)\n",
        "    #y_max=max(ys)\n",
        "    for i in range(y_min,y_max):\n",
        "      cells_affected.append((x,i))\n",
        "\n",
        "  return cells_affected\n",
        "  '''"
      ],
      "metadata": {
        "id": "lti7MHGNeK7E",
        "colab": {
          "base_uri": "https://localhost:8080/",
          "height": 157
        },
        "outputId": "deff6d9d-34c5-4a39-d293-32a52d6db6cd"
      },
      "id": "lti7MHGNeK7E",
      "execution_count": 155,
      "outputs": [
        {
          "output_type": "execute_result",
          "data": {
            "text/plain": [
              "'\\nN=100\\nrc=0.1\\ndef find_ys_for_x(data_list, x):\\n    ys = [y for (x_val, y) in data_list if x_val == x]\\n    return ys\\n\\ndef give_cells(shock_ini,shock_final):\\n  m1=shock_ini[0]\\n  b1=shock_ini[1]\\n\\n  m2=shock_final[0]\\n  b2=shock_final[1]\\n\\n  if(m1>m2):\\n    temp=m1\\n    m1=m2\\n    m2=temp\\n\\n  X=np.linspace(0,1,N)\\n  #Y1=m1*(X)+b1\\n  #Y2=m2*(X)+b2\\n\\n  #cells=[]\\n  #for i in range(10):\\n  #  x=np.floor((X[i]) / rc).astype(int)\\n  #  cells.append((x,min(np.floor((Y1[i]) / rc).astype(int),np.floor((1) / rc).astype(int))))\\n  #  cells.append((x,min(np.floor((Y2[i]) / rc).astype(int),np.floor((1) / rc).astype(int))))\\n  #print(cells)\\n  cells_affected=[]\\n  for i in range(N):\\n    x=np.floor((X[i]) / rc).astype(int)\\n    Y1=np.floor((m1*(X[i])+b1) / rc).astype(int)\\n    Y2=np.floor((m2*(X[i])+b2) / rc).astype(int)\\n    y_min=max(Y1,np.floor((-1) / rc).astype(int))\\n    y_max=min(Y2,np.floor((1) / rc).astype(int))\\n    #ys=find_ys_for_x(c,x)\\n    #print((x,ys))\\n    #y_min=min(ys)\\n    #y_max=max(ys)\\n    for i in range(y_min,y_max):\\n      cells_affected.append((x,i))\\n\\n  return cells_affected\\n  '"
            ],
            "application/vnd.google.colaboratory.intrinsic+json": {
              "type": "string"
            }
          },
          "metadata": {},
          "execution_count": 155
        }
      ]
    },
    {
      "cell_type": "code",
      "source": [
        "'''\n",
        "c=give_cells(np.array((3,0.0)),np.array((1,0.0)))\n",
        "affc=cells_affected(np.array((3,0.0)),np.array((1,0.)))\n",
        "affc1,affc2=np.array(affc)\n",
        "x1,y1=affc1[:,0],affc1[:,1]\n",
        "x2,y2=affc2[:,0],affc2[:,1]\n",
        "plt.scatter(x1,y1)\n",
        "plt.scatter(x2,y2,color='red')\n",
        "'''"
      ],
      "metadata": {
        "id": "MegQQ0w-eLEo",
        "colab": {
          "base_uri": "https://localhost:8080/",
          "height": 53
        },
        "outputId": "febd30e2-4e67-49d7-f152-5f0a0c0897f9"
      },
      "id": "MegQQ0w-eLEo",
      "execution_count": 156,
      "outputs": [
        {
          "output_type": "execute_result",
          "data": {
            "text/plain": [
              "\"\\nc=give_cells(np.array((3,0.0)),np.array((1,0.0)))\\naffc=cells_affected(np.array((3,0.0)),np.array((1,0.)))\\naffc1,affc2=np.array(affc)\\nx1,y1=affc1[:,0],affc1[:,1]\\nx2,y2=affc2[:,0],affc2[:,1]\\nplt.scatter(x1,y1)\\nplt.scatter(x2,y2,color='red')\\n\""
            ],
            "application/vnd.google.colaboratory.intrinsic+json": {
              "type": "string"
            }
          },
          "metadata": {},
          "execution_count": 156
        }
      ]
    },
    {
      "cell_type": "code",
      "source": [
        "c=np.array(c)\n",
        "x=c[:,0]\n",
        "y=c[:,1]\n",
        "plt.scatter(x,y)"
      ],
      "metadata": {
        "colab": {
          "base_uri": "https://localhost:8080/",
          "height": 447
        },
        "id": "3unK0bACuslv",
        "outputId": "23e8e598-9b89-474b-c174-61229dff1111"
      },
      "id": "3unK0bACuslv",
      "execution_count": 157,
      "outputs": [
        {
          "output_type": "execute_result",
          "data": {
            "text/plain": [
              "<matplotlib.collections.PathCollection at 0x7f0318a46320>"
            ]
          },
          "metadata": {},
          "execution_count": 157
        },
        {
          "output_type": "display_data",
          "data": {
            "text/plain": [
              "<Figure size 640x480 with 1 Axes>"
            ],
            "image/png": "[encoded data removed]"
          },
          "metadata": {}
        }
      ]
    },
    {
      "cell_type": "code",
      "source": [
        "N = 100\n",
        "d = 2\n",
        "x_l=0\n",
        "x_r=1\n",
        "y_l=0\n",
        "y_r=1\n",
        "x=np.linspace(x_l,x_r,N)\n",
        "y=np.linspace(y_l,y_r,N)\n",
        "h=x[1]-x[0]\n",
        "eps=2*h\n",
        "rc = 5.0*h\n",
        "nx,ny=np.meshgrid(x,y)\n",
        "nx=np.reshape(nx,-1)\n",
        "ny=np.reshape(ny,-1)\n",
        "positions=np.concatenate([nx[:, None], ny[:, None]], axis=1)\n",
        "properties=[]\n",
        "for i in range(len(positions)):\n",
        "  properties.append(Props(0.,0.))\n",
        "pset=ParticleSet(positions,properties)\n",
        "\n",
        "#print(pset.particles[50].position)\n",
        "#print(pset.particles[0].properties.field)\n",
        "celllist=CellList(pset,rc)"
      ],
      "metadata": {
        "id": "cQMDYW-y5SXt"
      },
      "id": "cQMDYW-y5SXt",
      "execution_count": 158,
      "outputs": []
    },
    {
      "cell_type": "code",
      "source": [
        "m1=-1.\n",
        "b1=1.5\n",
        "\n",
        "m2=-0.5\n",
        "b2=0.5\n",
        "shock_ini=np.array((m1,b1))\n",
        "shock_final=np.array((m2,b2))\n",
        "affc=celllist.coord_affected(shock_ini,shock_final)"
      ],
      "metadata": {
        "id": "VRfVq_OlAl9n"
      },
      "id": "VRfVq_OlAl9n",
      "execution_count": 162,
      "outputs": []
    },
    {
      "cell_type": "code",
      "source": [
        "def line(x,m,b):\n",
        "  return m*x+b"
      ],
      "metadata": {
        "id": "cgGd8vpsGHE3"
      },
      "id": "cgGd8vpsGHE3",
      "execution_count": 163,
      "outputs": []
    },
    {
      "cell_type": "code",
      "source": [
        "aff=np.array(affc)\n",
        "plt.plot(x,line(x,m1,b1),color='black')\n",
        "plt.plot(x,line(x,m2,b2),color='red')\n",
        "x1,y1=aff[:,0],aff[:,1]\n",
        "plt.scatter(x1,y1)\n",
        "plt.xlim(0, 1)\n",
        "plt.ylim(0, 1)\n",
        "plt.show()"
      ],
      "metadata": {
        "colab": {
          "base_uri": "https://localhost:8080/",
          "height": 435
        },
        "id": "Bqnp5_iEBDiY",
        "outputId": "f427df26-8bd5-4e60-bb15-864d9321e10f"
      },
      "id": "Bqnp5_iEBDiY",
      "execution_count": 164,
      "outputs": [
        {
          "output_type": "display_data",
          "data": {
            "text/plain": [
              "<Figure size 640x480 with 1 Axes>"
            ],
            "image/png": "[encoded data removed]"
          },
          "metadata": {}
        }
      ]
    },
    {
      "cell_type": "code",
      "source": [],
      "metadata": {
        "id": "1wC11E4qMKPU"
      },
      "id": "1wC11E4qMKPU",
      "execution_count": null,
      "outputs": []
    }
  ],
  "metadata": {
    "kernelspec": {
      "display_name": "Python 3 (ipykernel)",
      "language": "python",
      "name": "python3"
    },
    "language_info": {
      "codemirror_mode": {
        "name": "ipython",
        "version": 3
      },
      "file_extension": ".py",
      "mimetype": "text/x-python",
      "name": "python",
      "nbconvert_exporter": "python",
      "pygments_lexer": "ipython3",
      "version": "3.9.12"
    },
    "colab": {
      "provenance": []
    }
  },
  "nbformat": 4,
  "nbformat_minor": 5
}