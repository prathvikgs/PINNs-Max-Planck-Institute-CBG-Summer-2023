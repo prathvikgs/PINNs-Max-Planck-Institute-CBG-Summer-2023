{
  "nbformat": 4,
  "nbformat_minor": 0,
  "metadata": {
    "colab": {
      "provenance": []
    },
    "kernelspec": {
      "name": "python3",
      "display_name": "Python 3"
    },
    "language_info": {
      "name": "python"
    }
  },
  "cells": [
    {
      "cell_type": "code",
      "execution_count": null,
      "metadata": {
        "id": "kN3CBoTHhQVN",
        "colab": {
          "base_uri": "https://localhost:8080/"
        },
        "outputId": "f071c47d-bc2b-4081-bf57-0b0532182aa7"
      },
      "outputs": [
        {
          "output_type": "stream",
          "name": "stdout",
          "text": [
            "0.0\n"
          ]
        }
      ],
      "source": [
        "import numpy as np\n",
        "from matplotlib import pyplot as plt\n",
        "from matplotlib import style\n",
        "import matplotlib\n",
        "matplotlib.rcdefaults()\n",
        "import sys\n",
        "#sys.path.insert(1, '/home/suarez08/PhD_PINNs/PIPS_framework')\n",
        "from sobolev import Sobolev\n",
        "import time\n",
        "import tensorflow as tf\n",
        "from spline_integration import ikp,ikp2"
      ]
    },
    {
      "cell_type": "code",
      "source": [
        "# Properties class to store the properties of each particle\n",
        "class Props:\n",
        "    def __init__(self, field_val, derivs):\n",
        "        self.field = field_val\n",
        "        self.field_derivative = derivs"
      ],
      "metadata": {
        "id": "lFLDg9GThRyy"
      },
      "execution_count": null,
      "outputs": []
    },
    {
      "cell_type": "code",
      "source": [
        "class Particle:\n",
        "    def __init__(self, position, properties):\n",
        "        self.position = position\n",
        "        self.properties = properties\n",
        "\n",
        "    def interact(self, other_particle):\n",
        "        pass\n",
        "\n",
        "    def evolve(self):\n",
        "        pass\n"
      ],
      "metadata": {
        "id": "uAJq4t1XhubC"
      },
      "execution_count": null,
      "outputs": []
    },
    {
      "cell_type": "code",
      "source": [
        "class ParticleSet:\n",
        "\n",
        "    def __init__(self, positions, properties):\n",
        "        # positions: array of shape (N, d)\n",
        "        # properties: array of shape (N)\n",
        "        self.num_particles = positions.shape[0]\n",
        "        self.spatial_dimesion = positions.shape[1]\n",
        "        self.particles = []\n",
        "        for i in range(self.num_particles):\n",
        "            self.particles.append(Particle(positions[i,:], properties[i]))\n",
        "\n",
        "    def update_once(self):\n",
        "        pass\n",
        "\n",
        "    def compute_derivatives(self, verlet_list, deriv_func, eps, V):\n",
        "        for p_idx, p in enumerate(self.particles):\n",
        "            result = 0.0\n",
        "            neighbours = verlet_list.neighbours[p_idx]\n",
        "            for q_idx in neighbours:\n",
        "                q = self.particles[q_idx]\n",
        "                if q != p:\n",
        "                    z = p.position[0] - q.position[0]\n",
        "                    result += q.properties.field * deriv_func(z, eps) * V\n",
        "            p.properties.field_derivative = result\n",
        "        return"
      ],
      "metadata": {
        "id": "17JwdkbchwdB"
      },
      "execution_count": null,
      "outputs": []
    },
    {
      "cell_type": "code",
      "source": [
        "class CellList:\n",
        "\n",
        "    def __init__(self, particle_set, rc):\n",
        "        self.cells = {}\n",
        "        self.construct(particle_set, rc)\n",
        "\n",
        "    def construct(self, particle_set, rc):\n",
        "        for idx, p in enumerate(particle_set.particles):\n",
        "            cell_index_x = np.floor((p.position) / rc).astype(int)\n",
        "            cell_index = cell_index_x[0]\n",
        "            if cell_index in self.cells.keys():\n",
        "                self.cells[cell_index].append(idx)\n",
        "            else:\n",
        "                self.cells[cell_index] = [idx]\n",
        "\n",
        "    def particles_in(self, cell_index):\n",
        "        if cell_index in self.cells.keys():\n",
        "            return self.cells[cell_index]\n",
        "        else:\n",
        "            return []\n",
        "\n",
        "\n",
        "    def neighbourhood(self, cell_index):\n",
        "        cell_index\n",
        "        cell_index_x = cell_index[0]\n",
        "        neighbour_list = []\n",
        "        for lx in [-1, 0,1]:\n",
        "            neighbour_list.extend(self.particles_in(cell_index_x + lx))\n",
        "\n",
        "        return neighbour_list"
      ],
      "metadata": {
        "id": "gtLgDW0BhyDB"
      },
      "execution_count": null,
      "outputs": []
    },
    {
      "cell_type": "code",
      "source": [
        "class VerletList:\n",
        "\n",
        "    def __init__(self, particle_set, cell_list, rc):\n",
        "        self.neighbours = {}\n",
        "        self.construct(particle_set, cell_list, rc)\n",
        "\n",
        "    def construct(self, particle_set, cell_list, rc):\n",
        "        for p_id, p in enumerate(particle_set.particles):\n",
        "            self.neighbours[p_id] = []\n",
        "            cell_index_x = np.floor((p.position) / rc).astype(int)\n",
        "            cell_index = cell_index_x\n",
        "            for q_id in cell_list.neighbourhood(cell_index):\n",
        "                q = particle_set.particles[q_id]\n",
        "                if np.linalg.norm(p.position[0]-q.position[0]) <= rc:\n",
        "                    self.neighbours[p_id].append(q_id)"
      ],
      "metadata": {
        "id": "MLCJoMowiQWd"
      },
      "execution_count": null,
      "outputs": []
    },
    {
      "cell_type": "code",
      "source": [
        "def f(x):\n",
        "    return x**2\n",
        "def dxf(x):\n",
        "    return 2*x\n",
        "def kernel(z, eps):\n",
        "    alphad = 2.0/eps\n",
        "    z = np.abs(z)\n",
        "    if z < 0.5*eps:\n",
        "        return alphad*(2.0/3.0 - (2.0*z/eps)**2 + 0.5*(2.0*z/eps)**3)\n",
        "    elif z >= 0.5*eps and z < eps:\n",
        "        return alphad*(((1.0/6.0)*(2.0-2.0*z/eps)**3))\n",
        "    else:\n",
        "        return 0.0\n",
        "\n",
        "def deriv_kernel(z, eps):\n",
        "    if z!=0:\n",
        "        sign = z/np.abs(z)\n",
        "    else:\n",
        "        sign = 1\n",
        "    z = np.abs(z)\n",
        "    alphad = sign*2.0/eps\n",
        "    if z < 0.5*eps:\n",
        "        return alphad*((-8.0*z/(eps**2)) + (12.0*z**2/eps**3))\n",
        "    elif z >= 0.5*eps and z < eps:\n",
        "        return alphad*(-1*(2.0-2.0*z/eps)**2/eps)\n",
        "    else:\n",
        "        return 0.0\n",
        "def f(x):\n",
        "    return 1/(1+x**2)"
      ],
      "metadata": {
        "id": "iY8xm_tzh0Rx"
      },
      "execution_count": null,
      "outputs": []
    },
    {
      "cell_type": "code",
      "source": [
        "support=2.0\n",
        "def M_sph(x_t,x_int):\n",
        "    #positions = np.linspace(-1,1,N)\n",
        "    h=abs(x_t[1]-x_t[0])\n",
        "    rc = 5.0*h\n",
        "    properties = []\n",
        "    x_t = x_t.reshape(len(x_t),1)\n",
        "    for idx in range(len(x_t)):\n",
        "        p = Props(x_t[idx]**2, 0.0)\n",
        "        properties.append(p)\n",
        "\n",
        "    # Initial particle set\n",
        "    pset = ParticleSet(x_t, properties)\n",
        "    cell_list = CellList(pset, rc)\n",
        "    verlet_list = VerletList(pset, cell_list, rc)\n",
        "    # Compute the first derivative using SPH kernel\n",
        "    V = h\n",
        "    eps = support*h\n",
        "    F = []\n",
        "    Fx = []\n",
        "    M = np.zeros([len(x_int),len(x_t), len(x_t)])\n",
        "    for i in range(len(x_int)):\n",
        "        x_i = x_int[i]#positions.T[0][i]+0.1#x[i]\n",
        "        result = 0.0\n",
        "        resultdx = 0.0\n",
        "        IDX = np.floor((x_i) / rc).astype(int)\n",
        "        neighbours = cell_list.neighbourhood([IDX])\n",
        "        for j, i_idx in enumerate(neighbours):\n",
        "            for j, j_idx in enumerate(neighbours):\n",
        "                qi = pset.particles[i_idx]\n",
        "                qj = pset.particles[j_idx]\n",
        "                zi = x_i - qi.position[0]\n",
        "                zj = x_i - qj.position[0]\n",
        "                M[i,i_idx,j_idx] = kernel(zi, eps)* kernel(zj, eps) * V**2*w_1d[i]\n",
        "    return M"
      ],
      "metadata": {
        "id": "6v6kRqAAh3Oh"
      },
      "execution_count": null,
      "outputs": []
    },
    {
      "cell_type": "code",
      "source": [
        "deg_quad = 30\n",
        "sob_param = Sobolev(deg=deg_quad, dim=1)\n",
        "x_plt, _, _, x_int, _, _ = sob_param.get_quad()\n",
        "w_1d = np.array(sob_param.get_leja_weights())\n",
        "dx =sob_param.diff.diffs(np.array([[1]]))"
      ],
      "metadata": {
        "id": "E5X1TuC_h8Gh"
      },
      "execution_count": null,
      "outputs": []
    },
    {
      "cell_type": "code",
      "source": [
        "N = 100\n",
        "x_t = np.linspace(-1,1,N)\n",
        "M_gl = np.sum(M_sph(x_t, x_int), axis = 0)"
      ],
      "metadata": {
        "id": "65DmmNcqiBVR"
      },
      "execution_count": null,
      "outputs": []
    },
    {
      "cell_type": "code",
      "source": [
        "def M_sph_wn(x_t,x_int):\n",
        "    #positions = np.linspace(-1,1,N)\n",
        "    h=abs(x_t[1]-x_t[0])\n",
        "    rc = 5.0*h\n",
        "    properties = []\n",
        "    x_t = x_t.reshape(len(x_t),1)\n",
        "    for idx in range(len(x_t)):\n",
        "        p = Props(x_t[idx]**2, 0.0)\n",
        "        properties.append(p)\n",
        "\n",
        "    # Initial particle set\n",
        "    pset = ParticleSet(x_t, properties)\n",
        "    cell_list = CellList(pset, rc)\n",
        "    verlet_list = VerletList(pset, cell_list, rc)\n",
        "    # Compute the first derivative using SPH kernel\n",
        "    V = h\n",
        "    eps = support*h\n",
        "    F = []\n",
        "    Fx = []\n",
        "    M = np.zeros([len(x_int),len(x_t), len(x_t)])\n",
        "    for i in range(len(x_int)):\n",
        "        x_i = x_int[i]#positions.T[0][i]+0.1#x[i]\n",
        "        result = 0.0\n",
        "        resultdx = 0.0\n",
        "        IDX = np.floor((x_i) / rc).astype(int)\n",
        "        for k in range(len(pset.particles)):\n",
        "            for j in range(len(pset.particles)):\n",
        "                qi = pset.particles[k]\n",
        "                qj = pset.particles[j]\n",
        "                zi = x_i - qi.position[0]\n",
        "                zj = x_i - qj.position[0]\n",
        "                M[i,k,j] = kernel(zi, eps)* kernel(zj, eps) * V**2*w_1d[i]\n",
        "    return M"
      ],
      "metadata": {
        "id": "ZGxwTgAroBsM"
      },
      "execution_count": null,
      "outputs": []
    },
    {
      "cell_type": "code",
      "source": [
        "support=2\n",
        "def M_an (N):\n",
        "  positions = np.linspace(-1,1,N)\n",
        "  positions = positions.reshape(N,1)\n",
        "  h=positions[1]-positions[0]\n",
        "  eps=support*h\n",
        "  print('eps=',eps)\n",
        "  rc = 5.0*h\n",
        "  M=np.zeros((N,N))\n",
        "  for i in range(N):\n",
        "    for j in range(N):\n",
        "      M[i][j]=ikp(positions[i].item(),positions[j].item(),eps.item())*h**2\n",
        "  return M\n",
        "\n",
        "def M_an2 (N):\n",
        "  positions = np.linspace(-1,1,N)\n",
        "  positions = positions.reshape(N,1)\n",
        "  h=positions[1]-positions[0]\n",
        "  eps=support*h\n",
        "  print('eps=',eps)\n",
        "  rc = 5.0*h\n",
        "  M=np.zeros((N,N))\n",
        "  for i in range(N):\n",
        "    for j in range(N):\n",
        "      M[i][j]=ikp2(positions[i].item(),positions[j].item(),eps.item())*h**2\n",
        "  return M"
      ],
      "metadata": {
        "id": "Jy1uX1SkIt1U"
      },
      "execution_count": null,
      "outputs": []
    },
    {
      "cell_type": "code",
      "source": [
        "def f(x):\n",
        "    return x**2"
      ],
      "metadata": {
        "id": "wbaFX_k9Ho-y"
      },
      "execution_count": null,
      "outputs": []
    },
    {
      "cell_type": "code",
      "source": [
        "def anaint(N):\n",
        "  s=1\n",
        "  x_t = np.linspace(-1,1,N)\n",
        "  h=x_t[1]-x_t[0]\n",
        "  x=np.linspace(-1-s*h,1+s*h,N+s)\n",
        "  M=M_an(N+s)\n",
        "  M2=M_an2(N+s)\n",
        "  fx=f(x)\n",
        "  fx=np.reshape(fx,(N+s,1))\n",
        "  return np.matmul(fx.T,np.matmul(M,fx)),np.matmul(fx.T,np.matmul(M2,fx))#np.matmul(f_x.T,np.matmul(m,f_x)),x[k],x[N-k-1]"
      ],
      "metadata": {
        "id": "WlOTClC8CmDH"
      },
      "execution_count": null,
      "outputs": []
    },
    {
      "cell_type": "code",
      "source": [
        "def integral_val(l,r):\n",
        "  return (r**5 - l**5)/5"
      ],
      "metadata": {
        "id": "EYWTvH-KGoo5"
      },
      "execution_count": null,
      "outputs": []
    },
    {
      "cell_type": "code",
      "source": [
        "N=(np.linspace(100,3000,4))\n",
        "error1=[]\n",
        "error2=[]\n",
        "for i in range(len(N)):\n",
        "    I,i2=anaint(int(N[i]))\n",
        "    error1.append(abs(I[0][0]-integral_val(-1,1)))\n",
        "    error2.append(abs(i2[0][0]-integral_val(-1,1)))"
      ],
      "metadata": {
        "id": "JAhnEKccV2w9",
        "colab": {
          "base_uri": "https://localhost:8080/"
        },
        "outputId": "015aa64f-96c3-4aae-c289-317cb2750fbb"
      },
      "execution_count": null,
      "outputs": [
        {
          "output_type": "stream",
          "name": "stdout",
          "text": [
            "eps= [0.04]\n",
            "eps= [0.04]\n",
            "eps= [0.00375235]\n",
            "eps= [0.00375235]\n",
            "eps= [0.00196754]\n",
            "eps= [0.00196754]\n",
            "eps= [0.00133333]\n",
            "eps= [0.00133333]\n"
          ]
        }
      ]
    },
    {
      "cell_type": "code",
      "source": [
        "plt.loglog(N,error1,label='errors')\n",
        "plt.loglog(N,error2,label='errors2')\n",
        "plt.loglog(N,1/N**2,label='2nd order')\n",
        "plt.loglog(N,1/N,label='1nd order')\n",
        "plt.legend()"
      ],
      "metadata": {
        "colab": {
          "base_uri": "https://localhost:8080/"
        },
        "id": "CKXUFQYoV2Zt",
        "outputId": "198d0045-d51a-487a-c7d0-39e2e23f001c"
      },
      "execution_count": null,
      "outputs": [
        {
          "output_type": "execute_result",
          "data": {
            "text/plain": [
              "<matplotlib.legend.Legend at 0x7e429526fc40>"
            ]
          },
          "metadata": {},
          "execution_count": 53
        }
      ]
    },
    {
      "cell_type": "code",
      "source": [
        "error1"
      ],
      "metadata": {
        "id": "bopVXxIqMOwC",
        "colab": {
          "base_uri": "https://localhost:8080/"
        },
        "outputId": "704bffa1-0adc-489f-c634-8c877f65a025"
      },
      "execution_count": null,
      "outputs": [
        {
          "output_type": "execute_result",
          "data": {
            "text/plain": [
              "[0.0177601115505559,\n",
              " 0.002867377481109379,\n",
              " 0.001771696942314549,\n",
              " 0.0011106020852514886]"
            ]
          },
          "metadata": {},
          "execution_count": 31
        }
      ]
    },
    {
      "cell_type": "code",
      "source": [
        "I[0][0],integral_val(-1,1)"
      ],
      "metadata": {
        "id": "XVHrfasZRHJb",
        "colab": {
          "base_uri": "https://localhost:8080/"
        },
        "outputId": "51f093a6-602a-403f-9580-952384d11e4d"
      },
      "execution_count": null,
      "outputs": [
        {
          "output_type": "execute_result",
          "data": {
            "text/plain": [
              "(0.40568067160540167, 0.4)"
            ]
          },
          "metadata": {},
          "execution_count": 20
        }
      ]
    },
    {
      "cell_type": "code",
      "source": [
        "def anaint(N):\n",
        "  s=2\n",
        "  x_t = np.linspace(-1,1,N)\n",
        "  h=x_t[1]-x_t[0]\n",
        "  x=np.linspace(-1-s*h,1+s*h,N+s)\n",
        "  M=M_an(N+s)\n",
        "  M2=M_an2(N+s)\n",
        "  fx=f(x)\n",
        "  fx=np.reshape(fx,(N+s,1))\n",
        "  return np.matmul(fx.T,np.matmul(M,fx)),np.matmul(fx.T,np.matmul(M2,fx))#np.matmul(f_x.T,np.matmul(m,f_x)),x[k],x[N-k-1]"
      ],
      "metadata": {
        "id": "nlJDUsPOeP_R"
      },
      "execution_count": null,
      "outputs": []
    },
    {
      "cell_type": "code",
      "source": [
        "N=(np.linspace(100,3000,4))\n",
        "error1=[]\n",
        "error2=[]\n",
        "for i in range(len(N)):\n",
        "    I,i2=anaint(int(N[i]))\n",
        "    print(I,i2)\n",
        "    error1.append(abs(I[0][0]-integral_val(-1,1)))\n",
        "    error2.append(abs(i2[0][0]-integral_val(-1,1)))"
      ],
      "metadata": {
        "colab": {
          "base_uri": "https://localhost:8080/"
        },
        "id": "rHCDm5hZd_15",
        "outputId": "ec484316-0600-4052-ea25-10bcbf67e987"
      },
      "execution_count": null,
      "outputs": [
        {
          "output_type": "stream",
          "name": "stdout",
          "text": [
            "eps= [0.08]\n",
            "eps= [0.08]\n",
            "[[0.4270577]] [[0.41424266]]\n",
            "eps= [0.00750469]\n",
            "eps= [0.00750469]\n",
            "[[0.40234162]] [[0.40118545]]\n",
            "eps= [0.00393507]\n",
            "eps= [0.00393507]\n",
            "[[0.40082916]] [[0.40022408]]\n",
            "eps= [0.00266667]\n",
            "eps= [0.00266667]\n",
            "[[0.40064576]] [[0.40023599]]\n"
          ]
        }
      ]
    },
    {
      "cell_type": "code",
      "source": [
        "I[0][0]"
      ],
      "metadata": {
        "colab": {
          "base_uri": "https://localhost:8080/"
        },
        "id": "-5RAb0U2eagJ",
        "outputId": "64fedf0f-9fbf-42b4-8f59-5ad6a75bbf5e"
      },
      "execution_count": null,
      "outputs": [
        {
          "output_type": "execute_result",
          "data": {
            "text/plain": [
              "0.40898065736576145"
            ]
          },
          "metadata": {},
          "execution_count": 23
        }
      ]
    },
    {
      "cell_type": "code",
      "source": [
        "i2[0][0]"
      ],
      "metadata": {
        "colab": {
          "base_uri": "https://localhost:8080/"
        },
        "id": "BuLN_L4aehWg",
        "outputId": "9dc830ca-8ac6-41bc-a6d7-808313863dab"
      },
      "execution_count": null,
      "outputs": [
        {
          "output_type": "execute_result",
          "data": {
            "text/plain": [
              "0.4077305185524661"
            ]
          },
          "metadata": {},
          "execution_count": 24
        }
      ]
    },
    {
      "cell_type": "code",
      "source": [
        "I[0][0],i2[0],[0]"
      ],
      "metadata": {
        "colab": {
          "base_uri": "https://localhost:8080/"
        },
        "id": "z69b47ZtejsF",
        "outputId": "fef42cfa-0992-4165-f425-9891403539d4"
      },
      "execution_count": null,
      "outputs": [
        {
          "output_type": "execute_result",
          "data": {
            "text/plain": [
              "(0.3989803618710697, array([0.39775616]), [0])"
            ]
          },
          "metadata": {},
          "execution_count": 27
        }
      ]
    },
    {
      "cell_type": "code",
      "source": [
        "I[0][0],i2[0][0]"
      ],
      "metadata": {
        "colab": {
          "base_uri": "https://localhost:8080/"
        },
        "id": "nnmgcLDke03h",
        "outputId": "a9449e73-9524-4c17-90ad-35e251fcdc5d"
      },
      "execution_count": null,
      "outputs": [
        {
          "output_type": "execute_result",
          "data": {
            "text/plain": [
              "(0.40219741789416175, 0.4009646117107237)"
            ]
          },
          "metadata": {},
          "execution_count": 32
        }
      ]
    },
    {
      "cell_type": "code",
      "source": [],
      "metadata": {
        "id": "1k4OAE4HfPbE"
      },
      "execution_count": null,
      "outputs": []
    }
  ]
}