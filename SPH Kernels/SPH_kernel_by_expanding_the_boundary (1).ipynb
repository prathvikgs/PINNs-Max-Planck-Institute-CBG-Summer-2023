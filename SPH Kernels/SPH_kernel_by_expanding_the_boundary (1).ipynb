{
  "nbformat": 4,
  "nbformat_minor": 0,
  "metadata": {
    "colab": {
      "provenance": []
    },
    "kernelspec": {
      "name": "python3",
      "display_name": "Python 3"
    },
    "language_info": {
      "name": "python"
    }
  },
  "cells": [
    {
      "cell_type": "code",
      "execution_count": null,
      "metadata": {
        "id": "kN3CBoTHhQVN",
        "colab": {
          "base_uri": "https://localhost:8080/"
        },
        "outputId": "8bdab0fc-76a9-440e-9467-4883f7c3b893"
      },
      "outputs": [
        {
          "output_type": "stream",
          "name": "stdout",
          "text": [
            "0.0\n"
          ]
        }
      ],
      "source": [
        "import numpy as np\n",
        "from matplotlib import pyplot as plt\n",
        "from matplotlib import style\n",
        "import matplotlib\n",
        "matplotlib.rcdefaults()\n",
        "import sys\n",
        "#sys.path.insert(1, '/home/suarez08/PhD_PINNs/PIPS_framework')\n",
        "from sobolev import Sobolev\n",
        "import time\n",
        "import tensorflow as tf\n",
        "from spline_integration import ikp,ikp2"
      ]
    },
    {
      "cell_type": "code",
      "source": [
        "# Properties class to store the properties of each particle\n",
        "class Props:\n",
        "    def __init__(self, field_val, derivs):\n",
        "        self.field = field_val\n",
        "        self.field_derivative = derivs"
      ],
      "metadata": {
        "id": "lFLDg9GThRyy"
      },
      "execution_count": null,
      "outputs": []
    },
    {
      "cell_type": "code",
      "source": [
        "class Particle:\n",
        "    def __init__(self, position, properties):\n",
        "        self.position = position\n",
        "        self.properties = properties\n",
        "\n",
        "    def interact(self, other_particle):\n",
        "        pass\n",
        "\n",
        "    def evolve(self):\n",
        "        pass\n"
      ],
      "metadata": {
        "id": "uAJq4t1XhubC"
      },
      "execution_count": null,
      "outputs": []
    },
    {
      "cell_type": "code",
      "source": [
        "class ParticleSet:\n",
        "\n",
        "    def __init__(self, positions, properties):\n",
        "        # positions: array of shape (N, d)\n",
        "        # properties: array of shape (N)\n",
        "        self.num_particles = positions.shape[0]\n",
        "        self.spatial_dimesion = positions.shape[1]\n",
        "        self.particles = []\n",
        "        for i in range(self.num_particles):\n",
        "            self.particles.append(Particle(positions[i,:], properties[i]))\n",
        "\n",
        "    def update_once(self):\n",
        "        pass\n",
        "\n",
        "    def compute_derivatives(self, verlet_list, deriv_func, eps, V):\n",
        "        for p_idx, p in enumerate(self.particles):\n",
        "            result = 0.0\n",
        "            neighbours = verlet_list.neighbours[p_idx]\n",
        "            for q_idx in neighbours:\n",
        "                q = self.particles[q_idx]\n",
        "                if q != p:\n",
        "                    z = p.position[0] - q.position[0]\n",
        "                    result += q.properties.field * deriv_func(z, eps) * V\n",
        "            p.properties.field_derivative = result\n",
        "        return"
      ],
      "metadata": {
        "id": "17JwdkbchwdB"
      },
      "execution_count": null,
      "outputs": []
    },
    {
      "cell_type": "code",
      "source": [
        "class CellList:\n",
        "\n",
        "    def __init__(self, particle_set, rc):\n",
        "        self.cells = {}\n",
        "        self.construct(particle_set, rc)\n",
        "\n",
        "    def construct(self, particle_set, rc):\n",
        "        for idx, p in enumerate(particle_set.particles):\n",
        "            cell_index_x = np.floor((p.position) / rc).astype(int)\n",
        "            cell_index = cell_index_x[0]\n",
        "            if cell_index in self.cells.keys():\n",
        "                self.cells[cell_index].append(idx)\n",
        "            else:\n",
        "                self.cells[cell_index] = [idx]\n",
        "\n",
        "    def particles_in(self, cell_index):\n",
        "        if cell_index in self.cells.keys():\n",
        "            return self.cells[cell_index]\n",
        "        else:\n",
        "            return []\n",
        "\n",
        "\n",
        "    def neighbourhood(self, cell_index):\n",
        "        cell_index\n",
        "        cell_index_x = cell_index[0]\n",
        "        neighbour_list = []\n",
        "        for lx in [-1, 0,1]:\n",
        "            neighbour_list.extend(self.particles_in(cell_index_x + lx))\n",
        "\n",
        "        return neighbour_list"
      ],
      "metadata": {
        "id": "gtLgDW0BhyDB"
      },
      "execution_count": null,
      "outputs": []
    },
    {
      "cell_type": "code",
      "source": [
        "class VerletList:\n",
        "\n",
        "    def __init__(self, particle_set, cell_list, rc):\n",
        "        self.neighbours = {}\n",
        "        self.construct(particle_set, cell_list, rc)\n",
        "\n",
        "    def construct(self, particle_set, cell_list, rc):\n",
        "        for p_id, p in enumerate(particle_set.particles):\n",
        "            self.neighbours[p_id] = []\n",
        "            cell_index_x = np.floor((p.position) / rc).astype(int)\n",
        "            cell_index = cell_index_x\n",
        "            for q_id in cell_list.neighbourhood(cell_index):\n",
        "                q = particle_set.particles[q_id]\n",
        "                if np.linalg.norm(p.position[0]-q.position[0]) <= rc:\n",
        "                    self.neighbours[p_id].append(q_id)"
      ],
      "metadata": {
        "id": "MLCJoMowiQWd"
      },
      "execution_count": null,
      "outputs": []
    },
    {
      "cell_type": "code",
      "source": [
        "def f(x):\n",
        "    return x**2\n",
        "def dxf(x):\n",
        "    return 2*x\n",
        "def kernel(z, eps):\n",
        "    alphad = 2.0/eps\n",
        "    z = np.abs(z)\n",
        "    if z < 0.5*eps:\n",
        "        return alphad*(2.0/3.0 - (2.0*z/eps)**2 + 0.5*(2.0*z/eps)**3)\n",
        "    elif z >= 0.5*eps and z < eps:\n",
        "        return alphad*(((1.0/6.0)*(2.0-2.0*z/eps)**3))\n",
        "    else:\n",
        "        return 0.0\n",
        "\n",
        "def deriv_kernel(z, eps):\n",
        "    if z!=0:\n",
        "        sign = z/np.abs(z)\n",
        "    else:\n",
        "        sign = 1\n",
        "    z = np.abs(z)\n",
        "    alphad = sign*2.0/eps\n",
        "    if z < 0.5*eps:\n",
        "        return alphad*((-8.0*z/(eps**2)) + (12.0*z**2/eps**3))\n",
        "    elif z >= 0.5*eps and z < eps:\n",
        "        return alphad*(-1*(2.0-2.0*z/eps)**2/eps)\n",
        "    else:\n",
        "        return 0.0\n",
        "def f(x):\n",
        "    return 1/(1+x**2)"
      ],
      "metadata": {
        "id": "iY8xm_tzh0Rx"
      },
      "execution_count": null,
      "outputs": []
    },
    {
      "cell_type": "code",
      "source": [
        "support=2.0\n",
        "def M_sph(x_t,x_int):\n",
        "    #positions = np.linspace(-1,1,N)\n",
        "    h=abs(x_t[1]-x_t[0])\n",
        "    rc = 5.0*h\n",
        "    properties = []\n",
        "    x_t = x_t.reshape(len(x_t),1)\n",
        "    for idx in range(len(x_t)):\n",
        "        p = Props(x_t[idx]**2, 0.0)\n",
        "        properties.append(p)\n",
        "\n",
        "    # Initial particle set\n",
        "    pset = ParticleSet(x_t, properties)\n",
        "    cell_list = CellList(pset, rc)\n",
        "    verlet_list = VerletList(pset, cell_list, rc)\n",
        "    # Compute the first derivative using SPH kernel\n",
        "    V = h\n",
        "    eps = support*h\n",
        "    F = []\n",
        "    Fx = []\n",
        "    M = np.zeros([len(x_int),len(x_t), len(x_t)])\n",
        "    for i in range(len(x_int)):\n",
        "        x_i = x_int[i]#positions.T[0][i]+0.1#x[i]\n",
        "        result = 0.0\n",
        "        resultdx = 0.0\n",
        "        IDX = np.floor((x_i) / rc).astype(int)\n",
        "        neighbours = cell_list.neighbourhood([IDX])\n",
        "        for j, i_idx in enumerate(neighbours):\n",
        "            for j, j_idx in enumerate(neighbours):\n",
        "                qi = pset.particles[i_idx]\n",
        "                qj = pset.particles[j_idx]\n",
        "                zi = x_i - qi.position[0]\n",
        "                zj = x_i - qj.position[0]\n",
        "                M[i,i_idx,j_idx] = kernel(zi, eps)* kernel(zj, eps) * V**2*w_1d[i]\n",
        "    return M"
      ],
      "metadata": {
        "id": "6v6kRqAAh3Oh"
      },
      "execution_count": null,
      "outputs": []
    },
    {
      "cell_type": "code",
      "source": [
        "deg_quad = 30\n",
        "sob_param = Sobolev(deg=deg_quad, dim=1)\n",
        "x_plt, _, _, x_int, _, _ = sob_param.get_quad()\n",
        "w_1d = np.array(sob_param.get_leja_weights())\n",
        "dx =sob_param.diff.diffs(np.array([[1]]))"
      ],
      "metadata": {
        "id": "E5X1TuC_h8Gh"
      },
      "execution_count": null,
      "outputs": []
    },
    {
      "cell_type": "code",
      "source": [
        "N = 100\n",
        "x_t = np.linspace(-1,1,N)\n",
        "M_gl = np.sum(M_sph(x_t, x_int), axis = 0)"
      ],
      "metadata": {
        "id": "65DmmNcqiBVR"
      },
      "execution_count": null,
      "outputs": []
    },
    {
      "cell_type": "code",
      "source": [
        "def M_sph_wn(x_t,x_int):\n",
        "    #positions = np.linspace(-1,1,N)\n",
        "    h=abs(x_t[1]-x_t[0])\n",
        "    rc = 5.0*h\n",
        "    properties = []\n",
        "    x_t = x_t.reshape(len(x_t),1)\n",
        "    for idx in range(len(x_t)):\n",
        "        p = Props(x_t[idx]**2, 0.0)\n",
        "        properties.append(p)\n",
        "\n",
        "    # Initial particle set\n",
        "    pset = ParticleSet(x_t, properties)\n",
        "    cell_list = CellList(pset, rc)\n",
        "    verlet_list = VerletList(pset, cell_list, rc)\n",
        "    # Compute the first derivative using SPH kernel\n",
        "    V = h\n",
        "    eps = support*h\n",
        "    F = []\n",
        "    Fx = []\n",
        "    M = np.zeros([len(x_int),len(x_t), len(x_t)])\n",
        "    for i in range(len(x_int)):\n",
        "        x_i = x_int[i]#positions.T[0][i]+0.1#x[i]\n",
        "        result = 0.0\n",
        "        resultdx = 0.0\n",
        "        IDX = np.floor((x_i) / rc).astype(int)\n",
        "        for k in range(len(pset.particles)):\n",
        "            for j in range(len(pset.particles)):\n",
        "                qi = pset.particles[k]\n",
        "                qj = pset.particles[j]\n",
        "                zi = x_i - qi.position[0]\n",
        "                zj = x_i - qj.position[0]\n",
        "                M[i,k,j] = kernel(zi, eps)* kernel(zj, eps) * V**2*w_1d[i]\n",
        "    return M"
      ],
      "metadata": {
        "id": "ZGxwTgAroBsM"
      },
      "execution_count": null,
      "outputs": []
    },
    {
      "cell_type": "code",
      "source": [
        "support=2\n",
        "def M_an (N):\n",
        "  positions = np.linspace(-1,1,N)\n",
        "  positions = positions.reshape(N,1)\n",
        "  h=positions[1]-positions[0]\n",
        "  eps=support*h\n",
        "  rc = 5.0*h\n",
        "  M=np.zeros((N,N))\n",
        "  for i in range(N):\n",
        "    for j in range(N):\n",
        "      lam1=0.0\n",
        "      lam2 = 0.0\n",
        "      x_i = positions[i].item()\n",
        "      x_j = positions[j].item()\n",
        "      M[i][j]=ikp(x_i,x_j,eps.item())*h**2\n",
        "      if x_i==-1:\n",
        "        for k in range(3):\n",
        "          x_k = positions[k].item()\n",
        "          lam1 += kernel(abs(x_i-x_k),eps)*h\n",
        "      if x_j == -1:\n",
        "        for k in range(3):\n",
        "          x_k = positions[k].item()\n",
        "          lam2 += kernel(abs(x_j-x_k),eps)*h\n",
        "      if x_i == 1:\n",
        "        for k in range(3):\n",
        "          x_k = positions[N-1-k].item()\n",
        "          lam1 += kernel(abs(x_i-x_k),eps)*h\n",
        "      if x_j ==1:\n",
        "        for k in range(3):\n",
        "          x_k = positions[N-k-1].item()\n",
        "          lam2 += kernel(abs(x_j-x_k),eps)*h\n",
        "      if x_i != -1 and x_i != 1:\n",
        "        lam1 = 1\n",
        "      if  x_j != -1 and x_j != 1:\n",
        "        lam2 = 1\n",
        "      M[i][j]=M[i][j]/(lam1*lam2)\n",
        "  return M\n",
        "\n",
        "def M_an2 (N):\n",
        "  positions = np.linspace(-1,1,N)\n",
        "  positions = positions.reshape(N,1)\n",
        "  h=positions[1]-positions[0]\n",
        "  eps=support*h\n",
        "  rc = 5.0*h\n",
        "  M=np.zeros((N,N))\n",
        "  for i in range(N):\n",
        "    for j in range(N):\n",
        "      M[i][j]=ikp2(positions[i].item(),positions[j].item(),eps.item())*h**2\n",
        "  return M"
      ],
      "metadata": {
        "id": "Jy1uX1SkIt1U"
      },
      "execution_count": null,
      "outputs": []
    },
    {
      "cell_type": "code",
      "source": [
        "def f(x):\n",
        "    return x**2"
      ],
      "metadata": {
        "id": "wbaFX_k9Ho-y"
      },
      "execution_count": null,
      "outputs": []
    },
    {
      "cell_type": "code",
      "source": [
        "def anaint(N):\n",
        "  s=int(N/100)\n",
        "  x_t = np.linspace(-1,1,N)\n",
        "  h=x_t[1]-x_t[0]\n",
        "  x=np.linspace(-1-s*h,1+s*h,N+s)\n",
        "  M=M_an(N+s)\n",
        "  M2=M_an2(N+s)\n",
        "  fx=f(x)\n",
        "  fx=np.reshape(fx,(N+s,1))\n",
        "  return np.matmul(fx.T,np.matmul(M,fx)),np.matmul(fx.T,np.matmul(M2,fx))#np.matmul(f_x.T,np.matmul(m,f_x)),x[k],x[N-k-1]"
      ],
      "metadata": {
        "id": "WlOTClC8CmDH"
      },
      "execution_count": null,
      "outputs": []
    },
    {
      "cell_type": "code",
      "source": [
        "def integral_val(l,r):\n",
        "  return (r**5 - l**5)/5"
      ],
      "metadata": {
        "id": "EYWTvH-KGoo5"
      },
      "execution_count": null,
      "outputs": []
    },
    {
      "cell_type": "code",
      "source": [
        "N=(np.linspace(100,3000,4))\n",
        "error1=[]\n",
        "error2=[]\n",
        "for i in range(len(N)):\n",
        "    I,i2=anaint(int(N[i]))\n",
        "    print(I,i2)\n",
        "    error1.append(abs(I[0][0]-integral_val(-1,1)))\n",
        "    error2.append(abs(i2[0][0]-integral_val(-1,1)))"
      ],
      "metadata": {
        "id": "JAhnEKccV2w9",
        "colab": {
          "base_uri": "https://localhost:8080/",
          "height": 432
        },
        "outputId": "6bedd40d-7043-4e1b-9c93-660b6a32b8cf"
      },
      "execution_count": null,
      "outputs": [
        {
          "output_type": "stream",
          "name": "stdout",
          "text": [
            "[[0.43750515]] [[0.44173899]]\n",
            "[[0.43035631]] [[0.43074165]]\n",
            "[[0.43185216]] [[0.43205458]]\n"
          ]
        },
        {
          "output_type": "error",
          "ename": "KeyboardInterrupt",
          "evalue": "ignored",
          "traceback": [
            "\u001b[0;31m---------------------------------------------------------------------------\u001b[0m",
            "\u001b[0;31mKeyboardInterrupt\u001b[0m                         Traceback (most recent call last)",
            "\u001b[0;32m<ipython-input-68-63954241068c>\u001b[0m in \u001b[0;36m<cell line: 4>\u001b[0;34m()\u001b[0m\n\u001b[1;32m      3\u001b[0m \u001b[0merror2\u001b[0m\u001b[0;34m=\u001b[0m\u001b[0;34m[\u001b[0m\u001b[0;34m]\u001b[0m\u001b[0;34m\u001b[0m\u001b[0;34m\u001b[0m\u001b[0m\n\u001b[1;32m      4\u001b[0m \u001b[0;32mfor\u001b[0m \u001b[0mi\u001b[0m \u001b[0;32min\u001b[0m \u001b[0mrange\u001b[0m\u001b[0;34m(\u001b[0m\u001b[0mlen\u001b[0m\u001b[0;34m(\u001b[0m\u001b[0mN\u001b[0m\u001b[0;34m)\u001b[0m\u001b[0;34m)\u001b[0m\u001b[0;34m:\u001b[0m\u001b[0;34m\u001b[0m\u001b[0;34m\u001b[0m\u001b[0m\n\u001b[0;32m----> 5\u001b[0;31m     \u001b[0mI\u001b[0m\u001b[0;34m,\u001b[0m\u001b[0mi2\u001b[0m\u001b[0;34m=\u001b[0m\u001b[0manaint\u001b[0m\u001b[0;34m(\u001b[0m\u001b[0mint\u001b[0m\u001b[0;34m(\u001b[0m\u001b[0mN\u001b[0m\u001b[0;34m[\u001b[0m\u001b[0mi\u001b[0m\u001b[0;34m]\u001b[0m\u001b[0;34m)\u001b[0m\u001b[0;34m)\u001b[0m\u001b[0;34m\u001b[0m\u001b[0;34m\u001b[0m\u001b[0m\n\u001b[0m\u001b[1;32m      6\u001b[0m     \u001b[0mprint\u001b[0m\u001b[0;34m(\u001b[0m\u001b[0mI\u001b[0m\u001b[0;34m,\u001b[0m\u001b[0mi2\u001b[0m\u001b[0;34m)\u001b[0m\u001b[0;34m\u001b[0m\u001b[0;34m\u001b[0m\u001b[0m\n\u001b[1;32m      7\u001b[0m     \u001b[0merror1\u001b[0m\u001b[0;34m.\u001b[0m\u001b[0mappend\u001b[0m\u001b[0;34m(\u001b[0m\u001b[0mabs\u001b[0m\u001b[0;34m(\u001b[0m\u001b[0mI\u001b[0m\u001b[0;34m[\u001b[0m\u001b[0;36m0\u001b[0m\u001b[0;34m]\u001b[0m\u001b[0;34m[\u001b[0m\u001b[0;36m0\u001b[0m\u001b[0;34m]\u001b[0m\u001b[0;34m-\u001b[0m\u001b[0mintegral_val\u001b[0m\u001b[0;34m(\u001b[0m\u001b[0;34m-\u001b[0m\u001b[0;36m1\u001b[0m\u001b[0;34m,\u001b[0m\u001b[0;36m1\u001b[0m\u001b[0;34m)\u001b[0m\u001b[0;34m)\u001b[0m\u001b[0;34m)\u001b[0m\u001b[0;34m\u001b[0m\u001b[0;34m\u001b[0m\u001b[0m\n",
            "\u001b[0;32m<ipython-input-66-1087b3950ee8>\u001b[0m in \u001b[0;36manaint\u001b[0;34m(N)\u001b[0m\n\u001b[1;32m      4\u001b[0m   \u001b[0mh\u001b[0m\u001b[0;34m=\u001b[0m\u001b[0mx_t\u001b[0m\u001b[0;34m[\u001b[0m\u001b[0;36m1\u001b[0m\u001b[0;34m]\u001b[0m\u001b[0;34m-\u001b[0m\u001b[0mx_t\u001b[0m\u001b[0;34m[\u001b[0m\u001b[0;36m0\u001b[0m\u001b[0;34m]\u001b[0m\u001b[0;34m\u001b[0m\u001b[0;34m\u001b[0m\u001b[0m\n\u001b[1;32m      5\u001b[0m   \u001b[0mx\u001b[0m\u001b[0;34m=\u001b[0m\u001b[0mnp\u001b[0m\u001b[0;34m.\u001b[0m\u001b[0mlinspace\u001b[0m\u001b[0;34m(\u001b[0m\u001b[0;34m-\u001b[0m\u001b[0;36m1\u001b[0m\u001b[0;34m-\u001b[0m\u001b[0ms\u001b[0m\u001b[0;34m*\u001b[0m\u001b[0mh\u001b[0m\u001b[0;34m,\u001b[0m\u001b[0;36m1\u001b[0m\u001b[0;34m+\u001b[0m\u001b[0ms\u001b[0m\u001b[0;34m*\u001b[0m\u001b[0mh\u001b[0m\u001b[0;34m,\u001b[0m\u001b[0mN\u001b[0m\u001b[0;34m+\u001b[0m\u001b[0ms\u001b[0m\u001b[0;34m)\u001b[0m\u001b[0;34m\u001b[0m\u001b[0;34m\u001b[0m\u001b[0m\n\u001b[0;32m----> 6\u001b[0;31m   \u001b[0mM\u001b[0m\u001b[0;34m=\u001b[0m\u001b[0mM_an\u001b[0m\u001b[0;34m(\u001b[0m\u001b[0mN\u001b[0m\u001b[0;34m+\u001b[0m\u001b[0ms\u001b[0m\u001b[0;34m)\u001b[0m\u001b[0;34m\u001b[0m\u001b[0;34m\u001b[0m\u001b[0m\n\u001b[0m\u001b[1;32m      7\u001b[0m   \u001b[0mM2\u001b[0m\u001b[0;34m=\u001b[0m\u001b[0mM_an2\u001b[0m\u001b[0;34m(\u001b[0m\u001b[0mN\u001b[0m\u001b[0;34m+\u001b[0m\u001b[0ms\u001b[0m\u001b[0;34m)\u001b[0m\u001b[0;34m\u001b[0m\u001b[0;34m\u001b[0m\u001b[0m\n\u001b[1;32m      8\u001b[0m   \u001b[0mfx\u001b[0m\u001b[0;34m=\u001b[0m\u001b[0mf\u001b[0m\u001b[0;34m(\u001b[0m\u001b[0mx\u001b[0m\u001b[0;34m)\u001b[0m\u001b[0;34m\u001b[0m\u001b[0;34m\u001b[0m\u001b[0m\n",
            "\u001b[0;32m<ipython-input-64-2954e1ea18a1>\u001b[0m in \u001b[0;36mM_an\u001b[0;34m(N)\u001b[0m\n\u001b[1;32m     14\u001b[0m       \u001b[0mx_j\u001b[0m \u001b[0;34m=\u001b[0m \u001b[0mpositions\u001b[0m\u001b[0;34m[\u001b[0m\u001b[0mj\u001b[0m\u001b[0;34m]\u001b[0m\u001b[0;34m.\u001b[0m\u001b[0mitem\u001b[0m\u001b[0;34m(\u001b[0m\u001b[0;34m)\u001b[0m\u001b[0;34m\u001b[0m\u001b[0;34m\u001b[0m\u001b[0m\n\u001b[1;32m     15\u001b[0m       \u001b[0mM\u001b[0m\u001b[0;34m[\u001b[0m\u001b[0mi\u001b[0m\u001b[0;34m]\u001b[0m\u001b[0;34m[\u001b[0m\u001b[0mj\u001b[0m\u001b[0;34m]\u001b[0m\u001b[0;34m=\u001b[0m\u001b[0mikp\u001b[0m\u001b[0;34m(\u001b[0m\u001b[0mx_i\u001b[0m\u001b[0;34m,\u001b[0m\u001b[0mx_j\u001b[0m\u001b[0;34m,\u001b[0m\u001b[0meps\u001b[0m\u001b[0;34m.\u001b[0m\u001b[0mitem\u001b[0m\u001b[0;34m(\u001b[0m\u001b[0;34m)\u001b[0m\u001b[0;34m)\u001b[0m\u001b[0;34m*\u001b[0m\u001b[0mh\u001b[0m\u001b[0;34m**\u001b[0m\u001b[0;36m2\u001b[0m\u001b[0;34m\u001b[0m\u001b[0;34m\u001b[0m\u001b[0m\n\u001b[0;32m---> 16\u001b[0;31m       \u001b[0;32mif\u001b[0m \u001b[0mx_i\u001b[0m\u001b[0;34m==\u001b[0m\u001b[0;34m-\u001b[0m\u001b[0;36m1\u001b[0m\u001b[0;34m:\u001b[0m\u001b[0;34m\u001b[0m\u001b[0;34m\u001b[0m\u001b[0m\n\u001b[0m\u001b[1;32m     17\u001b[0m         \u001b[0;32mfor\u001b[0m \u001b[0mk\u001b[0m \u001b[0;32min\u001b[0m \u001b[0mrange\u001b[0m\u001b[0;34m(\u001b[0m\u001b[0;36m3\u001b[0m\u001b[0;34m)\u001b[0m\u001b[0;34m:\u001b[0m\u001b[0;34m\u001b[0m\u001b[0;34m\u001b[0m\u001b[0m\n\u001b[1;32m     18\u001b[0m           \u001b[0mx_k\u001b[0m \u001b[0;34m=\u001b[0m \u001b[0mpositions\u001b[0m\u001b[0;34m[\u001b[0m\u001b[0mk\u001b[0m\u001b[0;34m]\u001b[0m\u001b[0;34m.\u001b[0m\u001b[0mitem\u001b[0m\u001b[0;34m(\u001b[0m\u001b[0;34m)\u001b[0m\u001b[0;34m\u001b[0m\u001b[0;34m\u001b[0m\u001b[0m\n",
            "\u001b[0;31mKeyboardInterrupt\u001b[0m: "
          ]
        }
      ]
    },
    {
      "cell_type": "code",
      "source": [
        "plt.loglog(N,error1,label='errors')\n",
        "plt.loglog(N,error2,label='errors2')\n",
        "plt.loglog(N,1/N**2,label='2nd order')\n",
        "plt.loglog(N,1/N,label='1nd order')\n",
        "plt.legend()"
      ],
      "metadata": {
        "colab": {
          "base_uri": "https://localhost:8080/",
          "height": 814
        },
        "id": "CKXUFQYoV2Zt",
        "outputId": "371a06ae-01d2-40fb-9fba-5b7c5f28c0cf"
      },
      "execution_count": null,
      "outputs": [
        {
          "output_type": "error",
          "ename": "ValueError",
          "evalue": "ignored",
          "traceback": [
            "\u001b[0;31m---------------------------------------------------------------------------\u001b[0m",
            "\u001b[0;31mValueError\u001b[0m                                Traceback (most recent call last)",
            "\u001b[0;32m<ipython-input-69-d104793bf033>\u001b[0m in \u001b[0;36m<cell line: 1>\u001b[0;34m()\u001b[0m\n\u001b[0;32m----> 1\u001b[0;31m \u001b[0mplt\u001b[0m\u001b[0;34m.\u001b[0m\u001b[0mloglog\u001b[0m\u001b[0;34m(\u001b[0m\u001b[0mN\u001b[0m\u001b[0;34m,\u001b[0m\u001b[0merror1\u001b[0m\u001b[0;34m,\u001b[0m\u001b[0mlabel\u001b[0m\u001b[0;34m=\u001b[0m\u001b[0;34m'errors'\u001b[0m\u001b[0;34m)\u001b[0m\u001b[0;34m\u001b[0m\u001b[0;34m\u001b[0m\u001b[0m\n\u001b[0m\u001b[1;32m      2\u001b[0m \u001b[0mplt\u001b[0m\u001b[0;34m.\u001b[0m\u001b[0mloglog\u001b[0m\u001b[0;34m(\u001b[0m\u001b[0mN\u001b[0m\u001b[0;34m,\u001b[0m\u001b[0merror2\u001b[0m\u001b[0;34m,\u001b[0m\u001b[0mlabel\u001b[0m\u001b[0;34m=\u001b[0m\u001b[0;34m'errors2'\u001b[0m\u001b[0;34m)\u001b[0m\u001b[0;34m\u001b[0m\u001b[0;34m\u001b[0m\u001b[0m\n\u001b[1;32m      3\u001b[0m \u001b[0mplt\u001b[0m\u001b[0;34m.\u001b[0m\u001b[0mloglog\u001b[0m\u001b[0;34m(\u001b[0m\u001b[0mN\u001b[0m\u001b[0;34m,\u001b[0m\u001b[0;36m1\u001b[0m\u001b[0;34m/\u001b[0m\u001b[0mN\u001b[0m\u001b[0;34m**\u001b[0m\u001b[0;36m2\u001b[0m\u001b[0;34m,\u001b[0m\u001b[0mlabel\u001b[0m\u001b[0;34m=\u001b[0m\u001b[0;34m'2nd order'\u001b[0m\u001b[0;34m)\u001b[0m\u001b[0;34m\u001b[0m\u001b[0;34m\u001b[0m\u001b[0m\n\u001b[1;32m      4\u001b[0m \u001b[0mplt\u001b[0m\u001b[0;34m.\u001b[0m\u001b[0mloglog\u001b[0m\u001b[0;34m(\u001b[0m\u001b[0mN\u001b[0m\u001b[0;34m,\u001b[0m\u001b[0;36m1\u001b[0m\u001b[0;34m/\u001b[0m\u001b[0mN\u001b[0m\u001b[0;34m,\u001b[0m\u001b[0mlabel\u001b[0m\u001b[0;34m=\u001b[0m\u001b[0;34m'1nd order'\u001b[0m\u001b[0;34m)\u001b[0m\u001b[0;34m\u001b[0m\u001b[0;34m\u001b[0m\u001b[0m\n\u001b[1;32m      5\u001b[0m \u001b[0mplt\u001b[0m\u001b[0;34m.\u001b[0m\u001b[0mlegend\u001b[0m\u001b[0;34m(\u001b[0m\u001b[0;34m)\u001b[0m\u001b[0;34m\u001b[0m\u001b[0;34m\u001b[0m\u001b[0m\n",
            "\u001b[0;32m/usr/local/lib/python3.10/dist-packages/matplotlib/pyplot.py\u001b[0m in \u001b[0;36mloglog\u001b[0;34m(*args, **kwargs)\u001b[0m\n\u001b[1;32m   2720\u001b[0m \u001b[0;34m@\u001b[0m\u001b[0m_copy_docstring_and_deprecators\u001b[0m\u001b[0;34m(\u001b[0m\u001b[0mAxes\u001b[0m\u001b[0;34m.\u001b[0m\u001b[0mloglog\u001b[0m\u001b[0;34m)\u001b[0m\u001b[0;34m\u001b[0m\u001b[0;34m\u001b[0m\u001b[0m\n\u001b[1;32m   2721\u001b[0m \u001b[0;32mdef\u001b[0m \u001b[0mloglog\u001b[0m\u001b[0;34m(\u001b[0m\u001b[0;34m*\u001b[0m\u001b[0margs\u001b[0m\u001b[0;34m,\u001b[0m \u001b[0;34m**\u001b[0m\u001b[0mkwargs\u001b[0m\u001b[0;34m)\u001b[0m\u001b[0;34m:\u001b[0m\u001b[0;34m\u001b[0m\u001b[0;34m\u001b[0m\u001b[0m\n\u001b[0;32m-> 2722\u001b[0;31m     \u001b[0;32mreturn\u001b[0m \u001b[0mgca\u001b[0m\u001b[0;34m(\u001b[0m\u001b[0;34m)\u001b[0m\u001b[0;34m.\u001b[0m\u001b[0mloglog\u001b[0m\u001b[0;34m(\u001b[0m\u001b[0;34m*\u001b[0m\u001b[0margs\u001b[0m\u001b[0;34m,\u001b[0m \u001b[0;34m**\u001b[0m\u001b[0mkwargs\u001b[0m\u001b[0;34m)\u001b[0m\u001b[0;34m\u001b[0m\u001b[0;34m\u001b[0m\u001b[0m\n\u001b[0m\u001b[1;32m   2723\u001b[0m \u001b[0;34m\u001b[0m\u001b[0m\n\u001b[1;32m   2724\u001b[0m \u001b[0;34m\u001b[0m\u001b[0m\n",
            "\u001b[0;32m/usr/local/lib/python3.10/dist-packages/matplotlib/axes/_axes.py\u001b[0m in \u001b[0;36mloglog\u001b[0;34m(self, *args, **kwargs)\u001b[0m\n\u001b[1;32m   1827\u001b[0m                        'basey', 'subsy', 'nonposy']}\n\u001b[1;32m   1828\u001b[0m         \u001b[0mself\u001b[0m\u001b[0;34m.\u001b[0m\u001b[0mset_yscale\u001b[0m\u001b[0;34m(\u001b[0m\u001b[0;34m'log'\u001b[0m\u001b[0;34m,\u001b[0m \u001b[0;34m**\u001b[0m\u001b[0mdy\u001b[0m\u001b[0;34m)\u001b[0m\u001b[0;34m\u001b[0m\u001b[0;34m\u001b[0m\u001b[0m\n\u001b[0;32m-> 1829\u001b[0;31m         return self.plot(\n\u001b[0m\u001b[1;32m   1830\u001b[0m             *args, **{k: v for k, v in kwargs.items() if k not in {*dx, *dy}})\n\u001b[1;32m   1831\u001b[0m \u001b[0;34m\u001b[0m\u001b[0m\n",
            "\u001b[0;32m/usr/local/lib/python3.10/dist-packages/matplotlib/axes/_axes.py\u001b[0m in \u001b[0;36mplot\u001b[0;34m(self, scalex, scaley, data, *args, **kwargs)\u001b[0m\n\u001b[1;32m   1686\u001b[0m         \"\"\"\n\u001b[1;32m   1687\u001b[0m         \u001b[0mkwargs\u001b[0m \u001b[0;34m=\u001b[0m \u001b[0mcbook\u001b[0m\u001b[0;34m.\u001b[0m\u001b[0mnormalize_kwargs\u001b[0m\u001b[0;34m(\u001b[0m\u001b[0mkwargs\u001b[0m\u001b[0;34m,\u001b[0m \u001b[0mmlines\u001b[0m\u001b[0;34m.\u001b[0m\u001b[0mLine2D\u001b[0m\u001b[0;34m)\u001b[0m\u001b[0;34m\u001b[0m\u001b[0;34m\u001b[0m\u001b[0m\n\u001b[0;32m-> 1688\u001b[0;31m         \u001b[0mlines\u001b[0m \u001b[0;34m=\u001b[0m \u001b[0;34m[\u001b[0m\u001b[0;34m*\u001b[0m\u001b[0mself\u001b[0m\u001b[0;34m.\u001b[0m\u001b[0m_get_lines\u001b[0m\u001b[0;34m(\u001b[0m\u001b[0;34m*\u001b[0m\u001b[0margs\u001b[0m\u001b[0;34m,\u001b[0m \u001b[0mdata\u001b[0m\u001b[0;34m=\u001b[0m\u001b[0mdata\u001b[0m\u001b[0;34m,\u001b[0m \u001b[0;34m**\u001b[0m\u001b[0mkwargs\u001b[0m\u001b[0;34m)\u001b[0m\u001b[0;34m]\u001b[0m\u001b[0;34m\u001b[0m\u001b[0;34m\u001b[0m\u001b[0m\n\u001b[0m\u001b[1;32m   1689\u001b[0m         \u001b[0;32mfor\u001b[0m \u001b[0mline\u001b[0m \u001b[0;32min\u001b[0m \u001b[0mlines\u001b[0m\u001b[0;34m:\u001b[0m\u001b[0;34m\u001b[0m\u001b[0;34m\u001b[0m\u001b[0m\n\u001b[1;32m   1690\u001b[0m             \u001b[0mself\u001b[0m\u001b[0;34m.\u001b[0m\u001b[0madd_line\u001b[0m\u001b[0;34m(\u001b[0m\u001b[0mline\u001b[0m\u001b[0;34m)\u001b[0m\u001b[0;34m\u001b[0m\u001b[0;34m\u001b[0m\u001b[0m\n",
            "\u001b[0;32m/usr/local/lib/python3.10/dist-packages/matplotlib/axes/_base.py\u001b[0m in \u001b[0;36m__call__\u001b[0;34m(self, data, *args, **kwargs)\u001b[0m\n\u001b[1;32m    309\u001b[0m                 \u001b[0mthis\u001b[0m \u001b[0;34m+=\u001b[0m \u001b[0margs\u001b[0m\u001b[0;34m[\u001b[0m\u001b[0;36m0\u001b[0m\u001b[0;34m]\u001b[0m\u001b[0;34m,\u001b[0m\u001b[0;34m\u001b[0m\u001b[0;34m\u001b[0m\u001b[0m\n\u001b[1;32m    310\u001b[0m                 \u001b[0margs\u001b[0m \u001b[0;34m=\u001b[0m \u001b[0margs\u001b[0m\u001b[0;34m[\u001b[0m\u001b[0;36m1\u001b[0m\u001b[0;34m:\u001b[0m\u001b[0;34m]\u001b[0m\u001b[0;34m\u001b[0m\u001b[0;34m\u001b[0m\u001b[0m\n\u001b[0;32m--> 311\u001b[0;31m             yield from self._plot_args(\n\u001b[0m\u001b[1;32m    312\u001b[0m                 this, kwargs, ambiguous_fmt_datakey=ambiguous_fmt_datakey)\n\u001b[1;32m    313\u001b[0m \u001b[0;34m\u001b[0m\u001b[0m\n",
            "\u001b[0;32m/usr/local/lib/python3.10/dist-packages/matplotlib/axes/_base.py\u001b[0m in \u001b[0;36m_plot_args\u001b[0;34m(self, tup, kwargs, return_kwargs, ambiguous_fmt_datakey)\u001b[0m\n\u001b[1;32m    502\u001b[0m \u001b[0;34m\u001b[0m\u001b[0m\n\u001b[1;32m    503\u001b[0m         \u001b[0;32mif\u001b[0m \u001b[0mx\u001b[0m\u001b[0;34m.\u001b[0m\u001b[0mshape\u001b[0m\u001b[0;34m[\u001b[0m\u001b[0;36m0\u001b[0m\u001b[0;34m]\u001b[0m \u001b[0;34m!=\u001b[0m \u001b[0my\u001b[0m\u001b[0;34m.\u001b[0m\u001b[0mshape\u001b[0m\u001b[0;34m[\u001b[0m\u001b[0;36m0\u001b[0m\u001b[0;34m]\u001b[0m\u001b[0;34m:\u001b[0m\u001b[0;34m\u001b[0m\u001b[0;34m\u001b[0m\u001b[0m\n\u001b[0;32m--> 504\u001b[0;31m             raise ValueError(f\"x and y must have same first dimension, but \"\n\u001b[0m\u001b[1;32m    505\u001b[0m                              f\"have shapes {x.shape} and {y.shape}\")\n\u001b[1;32m    506\u001b[0m         \u001b[0;32mif\u001b[0m \u001b[0mx\u001b[0m\u001b[0;34m.\u001b[0m\u001b[0mndim\u001b[0m \u001b[0;34m>\u001b[0m \u001b[0;36m2\u001b[0m \u001b[0;32mor\u001b[0m \u001b[0my\u001b[0m\u001b[0;34m.\u001b[0m\u001b[0mndim\u001b[0m \u001b[0;34m>\u001b[0m \u001b[0;36m2\u001b[0m\u001b[0;34m:\u001b[0m\u001b[0;34m\u001b[0m\u001b[0;34m\u001b[0m\u001b[0m\n",
            "\u001b[0;31mValueError\u001b[0m: x and y must have same first dimension, but have shapes (4,) and (3,)"
          ]
        },
        {
          "output_type": "display_data",
          "data": {
            "text/plain": [
              "<Figure size 640x480 with 1 Axes>"
            ],
            "image/png": "[encoded data removed]"
          },
          "metadata": {}
        }
      ]
    },
    {
      "cell_type": "code",
      "source": [
        "plt.loglog(N,error1,label='errors')\n",
        "plt.loglog(N,error2,label='errors2')\n",
        "plt.loglog(N,1/N**2,label='2nd order')\n",
        "plt.loglog(N,1/N,label='1nd order')\n",
        "plt.legend()"
      ],
      "metadata": {
        "colab": {
          "base_uri": "https://localhost:8080/",
          "height": 451
        },
        "id": "rDuHT7NvJkg9",
        "outputId": "139d9d68-2787-4745-fe80-2b102b075cd8"
      },
      "execution_count": null,
      "outputs": [
        {
          "output_type": "execute_result",
          "data": {
            "text/plain": [
              "<matplotlib.legend.Legend at 0x7caaf2e37520>"
            ]
          },
          "metadata": {},
          "execution_count": 42
        },
        {
          "output_type": "display_data",
          "data": {
            "text/plain": [
              "<Figure size 640x480 with 1 Axes>"
            ],
            "image/png": "[encoded data removed]"
          },
          "metadata": {}
        }
      ]
    },
    {
      "cell_type": "code",
      "source": [
        "error1"
      ],
      "metadata": {
        "id": "bopVXxIqMOwC",
        "colab": {
          "base_uri": "https://localhost:8080/"
        },
        "outputId": "a6418d80-39e8-4937-a24b-03891a692d21"
      },
      "execution_count": null,
      "outputs": [
        {
          "output_type": "execute_result",
          "data": {
            "text/plain": [
              "[0.10174013994903142,\n",
              " 0.008128003503947379,\n",
              " 0.003821158433217786,\n",
              " 0.0023947492543867077]"
            ]
          },
          "metadata": {},
          "execution_count": 30
        }
      ]
    },
    {
      "cell_type": "code",
      "source": [
        "I[0][0],integral_val(-1,1)"
      ],
      "metadata": {
        "id": "XVHrfasZRHJb",
        "colab": {
          "base_uri": "https://localhost:8080/"
        },
        "outputId": "a743e167-342e-441d-e3a8-555c72a8f7c9"
      },
      "execution_count": null,
      "outputs": [
        {
          "output_type": "execute_result",
          "data": {
            "text/plain": [
              "(0.40239474925438673, 0.4)"
            ]
          },
          "metadata": {},
          "execution_count": 31
        }
      ]
    },
    {
      "cell_type": "code",
      "source": [
        "I[0][0],integral_val(-1,1)"
      ],
      "metadata": {
        "colab": {
          "base_uri": "https://localhost:8080/"
        },
        "id": "IRKBMP57J3zz",
        "outputId": "3a5f4ead-c097-4bf4-e998-26df186c1f6a"
      },
      "execution_count": null,
      "outputs": [
        {
          "output_type": "execute_result",
          "data": {
            "text/plain": [
              "(0.3990728912116614, 0.4)"
            ]
          },
          "metadata": {},
          "execution_count": 43
        }
      ]
    },
    {
      "cell_type": "code",
      "source": [
        "def anaint(N):\n",
        "  s=2\n",
        "  x_t = np.linspace(-1,1,N)\n",
        "  h=x_t[1]-x_t[0]\n",
        "  x=np.linspace(-1-s*h,1+s*h,N+s)\n",
        "  M=M_an(N+s)\n",
        "  M2=M_an2(N+s)\n",
        "  fx=f(x)\n",
        "  fx=np.reshape(fx,(N+s,1))\n",
        "  return np.matmul(fx.T,np.matmul(M,fx)),np.matmul(fx.T,np.matmul(M2,fx))#np.matmul(f_x.T,np.matmul(m,f_x)),x[k],x[N-k-1]"
      ],
      "metadata": {
        "id": "nlJDUsPOeP_R"
      },
      "execution_count": null,
      "outputs": []
    },
    {
      "cell_type": "code",
      "source": [
        "N=(np.linspace(100,3000,4))\n",
        "error1=[]\n",
        "error2=[]\n",
        "for i in range(len(N)):\n",
        "    I,i2=anaint(int(N[i]))\n",
        "    print(I,i2)\n",
        "    error1.append(abs(I[0][0]-integral_val(-1,1)))\n",
        "    error2.append(abs(i2[0][0]-integral_val(-1,1)))"
      ],
      "metadata": {
        "colab": {
          "base_uri": "https://localhost:8080/",
          "height": 553
        },
        "id": "rHCDm5hZd_15",
        "outputId": "2f4e0d03-aeb0-4271-ecfb-08b5ff5447cc"
      },
      "execution_count": null,
      "outputs": [
        {
          "output_type": "stream",
          "name": "stdout",
          "text": [
            "eps= [0.03960396]\n",
            "eps= [0.03960396]\n",
            "[[0.46410246]] [[0.4776767]]\n",
            "eps= [0.00374883]\n",
            "eps= [0.00374883]\n",
            "[[0.40477529]] [[0.40589646]]\n",
            "eps= [0.00196657]\n",
            "eps= [0.00196657]\n",
            "[[0.40204191]] [[0.40262609]]\n",
            "eps= [0.00133289]\n"
          ]
        },
        {
          "output_type": "error",
          "ename": "KeyboardInterrupt",
          "evalue": "ignored",
          "traceback": [
            "\u001b[0;31m---------------------------------------------------------------------------\u001b[0m",
            "\u001b[0;31mKeyboardInterrupt\u001b[0m                         Traceback (most recent call last)",
            "\u001b[0;32m<ipython-input-21-63954241068c>\u001b[0m in \u001b[0;36m<cell line: 4>\u001b[0;34m()\u001b[0m\n\u001b[1;32m      3\u001b[0m \u001b[0merror2\u001b[0m\u001b[0;34m=\u001b[0m\u001b[0;34m[\u001b[0m\u001b[0;34m]\u001b[0m\u001b[0;34m\u001b[0m\u001b[0;34m\u001b[0m\u001b[0m\n\u001b[1;32m      4\u001b[0m \u001b[0;32mfor\u001b[0m \u001b[0mi\u001b[0m \u001b[0;32min\u001b[0m \u001b[0mrange\u001b[0m\u001b[0;34m(\u001b[0m\u001b[0mlen\u001b[0m\u001b[0;34m(\u001b[0m\u001b[0mN\u001b[0m\u001b[0;34m)\u001b[0m\u001b[0;34m)\u001b[0m\u001b[0;34m:\u001b[0m\u001b[0;34m\u001b[0m\u001b[0;34m\u001b[0m\u001b[0m\n\u001b[0;32m----> 5\u001b[0;31m     \u001b[0mI\u001b[0m\u001b[0;34m,\u001b[0m\u001b[0mi2\u001b[0m\u001b[0;34m=\u001b[0m\u001b[0manaint\u001b[0m\u001b[0;34m(\u001b[0m\u001b[0mint\u001b[0m\u001b[0;34m(\u001b[0m\u001b[0mN\u001b[0m\u001b[0;34m[\u001b[0m\u001b[0mi\u001b[0m\u001b[0;34m]\u001b[0m\u001b[0;34m)\u001b[0m\u001b[0;34m)\u001b[0m\u001b[0;34m\u001b[0m\u001b[0;34m\u001b[0m\u001b[0m\n\u001b[0m\u001b[1;32m      6\u001b[0m     \u001b[0mprint\u001b[0m\u001b[0;34m(\u001b[0m\u001b[0mI\u001b[0m\u001b[0;34m,\u001b[0m\u001b[0mi2\u001b[0m\u001b[0;34m)\u001b[0m\u001b[0;34m\u001b[0m\u001b[0;34m\u001b[0m\u001b[0m\n\u001b[1;32m      7\u001b[0m     \u001b[0merror1\u001b[0m\u001b[0;34m.\u001b[0m\u001b[0mappend\u001b[0m\u001b[0;34m(\u001b[0m\u001b[0mabs\u001b[0m\u001b[0;34m(\u001b[0m\u001b[0mI\u001b[0m\u001b[0;34m[\u001b[0m\u001b[0;36m0\u001b[0m\u001b[0;34m]\u001b[0m\u001b[0;34m[\u001b[0m\u001b[0;36m0\u001b[0m\u001b[0;34m]\u001b[0m\u001b[0;34m-\u001b[0m\u001b[0mintegral_val\u001b[0m\u001b[0;34m(\u001b[0m\u001b[0;34m-\u001b[0m\u001b[0;36m1\u001b[0m\u001b[0;34m,\u001b[0m\u001b[0;36m1\u001b[0m\u001b[0;34m)\u001b[0m\u001b[0;34m)\u001b[0m\u001b[0;34m)\u001b[0m\u001b[0;34m\u001b[0m\u001b[0;34m\u001b[0m\u001b[0m\n",
            "\u001b[0;32m<ipython-input-20-8caa88fd2b31>\u001b[0m in \u001b[0;36manaint\u001b[0;34m(N)\u001b[0m\n\u001b[1;32m      4\u001b[0m   \u001b[0mh\u001b[0m\u001b[0;34m=\u001b[0m\u001b[0mx_t\u001b[0m\u001b[0;34m[\u001b[0m\u001b[0;36m1\u001b[0m\u001b[0;34m]\u001b[0m\u001b[0;34m-\u001b[0m\u001b[0mx_t\u001b[0m\u001b[0;34m[\u001b[0m\u001b[0;36m0\u001b[0m\u001b[0;34m]\u001b[0m\u001b[0;34m\u001b[0m\u001b[0;34m\u001b[0m\u001b[0m\n\u001b[1;32m      5\u001b[0m   \u001b[0mx\u001b[0m\u001b[0;34m=\u001b[0m\u001b[0mnp\u001b[0m\u001b[0;34m.\u001b[0m\u001b[0mlinspace\u001b[0m\u001b[0;34m(\u001b[0m\u001b[0;34m-\u001b[0m\u001b[0;36m1\u001b[0m\u001b[0;34m-\u001b[0m\u001b[0ms\u001b[0m\u001b[0;34m*\u001b[0m\u001b[0mh\u001b[0m\u001b[0;34m,\u001b[0m\u001b[0;36m1\u001b[0m\u001b[0;34m+\u001b[0m\u001b[0ms\u001b[0m\u001b[0;34m*\u001b[0m\u001b[0mh\u001b[0m\u001b[0;34m,\u001b[0m\u001b[0mN\u001b[0m\u001b[0;34m+\u001b[0m\u001b[0ms\u001b[0m\u001b[0;34m)\u001b[0m\u001b[0;34m\u001b[0m\u001b[0;34m\u001b[0m\u001b[0m\n\u001b[0;32m----> 6\u001b[0;31m   \u001b[0mM\u001b[0m\u001b[0;34m=\u001b[0m\u001b[0mM_an\u001b[0m\u001b[0;34m(\u001b[0m\u001b[0mN\u001b[0m\u001b[0;34m+\u001b[0m\u001b[0ms\u001b[0m\u001b[0;34m)\u001b[0m\u001b[0;34m\u001b[0m\u001b[0;34m\u001b[0m\u001b[0m\n\u001b[0m\u001b[1;32m      7\u001b[0m   \u001b[0mM2\u001b[0m\u001b[0;34m=\u001b[0m\u001b[0mM_an2\u001b[0m\u001b[0;34m(\u001b[0m\u001b[0mN\u001b[0m\u001b[0;34m+\u001b[0m\u001b[0ms\u001b[0m\u001b[0;34m)\u001b[0m\u001b[0;34m\u001b[0m\u001b[0;34m\u001b[0m\u001b[0m\n\u001b[1;32m      8\u001b[0m   \u001b[0mfx\u001b[0m\u001b[0;34m=\u001b[0m\u001b[0mf\u001b[0m\u001b[0;34m(\u001b[0m\u001b[0mx\u001b[0m\u001b[0;34m)\u001b[0m\u001b[0;34m\u001b[0m\u001b[0;34m\u001b[0m\u001b[0m\n",
            "\u001b[0;32m<ipython-input-12-a66422615490>\u001b[0m in \u001b[0;36mM_an\u001b[0;34m(N)\u001b[0m\n\u001b[1;32m     10\u001b[0m   \u001b[0;32mfor\u001b[0m \u001b[0mi\u001b[0m \u001b[0;32min\u001b[0m \u001b[0mrange\u001b[0m\u001b[0;34m(\u001b[0m\u001b[0mN\u001b[0m\u001b[0;34m)\u001b[0m\u001b[0;34m:\u001b[0m\u001b[0;34m\u001b[0m\u001b[0;34m\u001b[0m\u001b[0m\n\u001b[1;32m     11\u001b[0m     \u001b[0;32mfor\u001b[0m \u001b[0mj\u001b[0m \u001b[0;32min\u001b[0m \u001b[0mrange\u001b[0m\u001b[0;34m(\u001b[0m\u001b[0mN\u001b[0m\u001b[0;34m)\u001b[0m\u001b[0;34m:\u001b[0m\u001b[0;34m\u001b[0m\u001b[0;34m\u001b[0m\u001b[0m\n\u001b[0;32m---> 12\u001b[0;31m       \u001b[0mM\u001b[0m\u001b[0;34m[\u001b[0m\u001b[0mi\u001b[0m\u001b[0;34m]\u001b[0m\u001b[0;34m[\u001b[0m\u001b[0mj\u001b[0m\u001b[0;34m]\u001b[0m\u001b[0;34m=\u001b[0m\u001b[0mikp\u001b[0m\u001b[0;34m(\u001b[0m\u001b[0mpositions\u001b[0m\u001b[0;34m[\u001b[0m\u001b[0mi\u001b[0m\u001b[0;34m]\u001b[0m\u001b[0;34m.\u001b[0m\u001b[0mitem\u001b[0m\u001b[0;34m(\u001b[0m\u001b[0;34m)\u001b[0m\u001b[0;34m,\u001b[0m\u001b[0mpositions\u001b[0m\u001b[0;34m[\u001b[0m\u001b[0mj\u001b[0m\u001b[0;34m]\u001b[0m\u001b[0;34m.\u001b[0m\u001b[0mitem\u001b[0m\u001b[0;34m(\u001b[0m\u001b[0;34m)\u001b[0m\u001b[0;34m,\u001b[0m\u001b[0meps\u001b[0m\u001b[0;34m.\u001b[0m\u001b[0mitem\u001b[0m\u001b[0;34m(\u001b[0m\u001b[0;34m)\u001b[0m\u001b[0;34m)\u001b[0m\u001b[0;34m*\u001b[0m\u001b[0mh\u001b[0m\u001b[0;34m**\u001b[0m\u001b[0;36m2\u001b[0m\u001b[0;34m\u001b[0m\u001b[0;34m\u001b[0m\u001b[0m\n\u001b[0m\u001b[1;32m     13\u001b[0m   \u001b[0;32mreturn\u001b[0m \u001b[0mM\u001b[0m\u001b[0;34m\u001b[0m\u001b[0;34m\u001b[0m\u001b[0m\n\u001b[1;32m     14\u001b[0m \u001b[0;34m\u001b[0m\u001b[0m\n",
            "\u001b[0;31mKeyboardInterrupt\u001b[0m: "
          ]
        }
      ]
    },
    {
      "cell_type": "code",
      "source": [
        "I[0][0]"
      ],
      "metadata": {
        "colab": {
          "base_uri": "https://localhost:8080/"
        },
        "id": "-5RAb0U2eagJ",
        "outputId": "95444042-6429-44ac-823d-2f5fde81e330"
      },
      "execution_count": null,
      "outputs": [
        {
          "output_type": "execute_result",
          "data": {
            "text/plain": [
              "0.40969114456820843"
            ]
          },
          "metadata": {},
          "execution_count": 36
        }
      ]
    },
    {
      "cell_type": "code",
      "source": [
        "i2[0][0]"
      ],
      "metadata": {
        "colab": {
          "base_uri": "https://localhost:8080/"
        },
        "id": "BuLN_L4aehWg",
        "outputId": "e522b77d-7c20-434e-ee96-8b01551920b9"
      },
      "execution_count": null,
      "outputs": [
        {
          "output_type": "execute_result",
          "data": {
            "text/plain": [
              "0.4026260868089374"
            ]
          },
          "metadata": {},
          "execution_count": 23
        }
      ]
    },
    {
      "cell_type": "code",
      "source": [
        "I[0][0],i2[0],[0]"
      ],
      "metadata": {
        "colab": {
          "base_uri": "https://localhost:8080/"
        },
        "id": "z69b47ZtejsF",
        "outputId": "ab9f2045-10f7-4de1-e751-f8272754571b"
      },
      "execution_count": null,
      "outputs": [
        {
          "output_type": "execute_result",
          "data": {
            "text/plain": [
              "(0.4020419125783432, array([0.40262609]), [0])"
            ]
          },
          "metadata": {},
          "execution_count": 24
        }
      ]
    },
    {
      "cell_type": "code",
      "source": [
        "I[0][0],i2[0][0]"
      ],
      "metadata": {
        "colab": {
          "base_uri": "https://localhost:8080/"
        },
        "id": "nnmgcLDke03h",
        "outputId": "8d720626-0a11-4a39-b1aa-1286912361f4"
      },
      "execution_count": null,
      "outputs": [
        {
          "output_type": "execute_result",
          "data": {
            "text/plain": [
              "(0.4020419125783432, 0.4026260868089374)"
            ]
          },
          "metadata": {},
          "execution_count": 25
        }
      ]
    },
    {
      "cell_type": "code",
      "source": [],
      "metadata": {
        "id": "1k4OAE4HfPbE"
      },
      "execution_count": null,
      "outputs": []
    }
  ]
}