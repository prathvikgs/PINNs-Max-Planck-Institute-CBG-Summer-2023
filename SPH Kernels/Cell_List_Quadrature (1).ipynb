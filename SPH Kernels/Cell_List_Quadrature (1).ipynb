{
  "cells": [
    {
      "cell_type": "code",
      "execution_count": 1,
      "id": "6872a1d5-fcb4-4bef-b03b-26b3b34af43b",
      "metadata": {
        "id": "6872a1d5-fcb4-4bef-b03b-26b3b34af43b"
      },
      "outputs": [],
      "source": [
        "import numpy as np\n",
        "from matplotlib import pyplot as plt\n",
        "from matplotlib import style\n",
        "import matplotlib\n",
        "matplotlib.rcdefaults()\n",
        "import sys\n",
        "#sys.path.insert(1, '/home/suarez08/PhD_PINNs/PIPS_framework')\n",
        "from sobolev import Sobolev"
      ]
    },
    {
      "cell_type": "code",
      "execution_count": 2,
      "id": "07ea4376-9ba1-4dd9-aa23-09ca76c9c6e9",
      "metadata": {
        "id": "07ea4376-9ba1-4dd9-aa23-09ca76c9c6e9"
      },
      "outputs": [],
      "source": [
        "# Properties class to store the properties of each particle\n",
        "class Props:\n",
        "    def __init__(self, field_val, derivs):\n",
        "        self.field = field_val\n",
        "        self.field_derivative = derivs"
      ]
    },
    {
      "cell_type": "code",
      "execution_count": 3,
      "id": "a21ea3af-ba18-4210-ae48-55eee594ed10",
      "metadata": {
        "id": "a21ea3af-ba18-4210-ae48-55eee594ed10"
      },
      "outputs": [],
      "source": [
        "class Particle:\n",
        "    def __init__(self, position, properties):\n",
        "        self.position = position\n",
        "        self.properties = properties\n",
        "\n",
        "    def interact(self, other_particle):\n",
        "        pass\n",
        "\n",
        "    def evolve(self):\n",
        "        pass\n",
        ""
      ]
    },
    {
      "cell_type": "code",
      "execution_count": 4,
      "id": "764b1cc9-bc6f-4218-9122-de0f2f5152f9",
      "metadata": {
        "id": "764b1cc9-bc6f-4218-9122-de0f2f5152f9"
      },
      "outputs": [],
      "source": [
        "class ParticleSet:\n",
        "\n",
        "    def __init__(self, positions, properties):\n",
        "        # positions: array of shape (N, d)\n",
        "        # properties: array of shape (N)\n",
        "        self.num_particles = positions.shape[0]\n",
        "        self.spatial_dimesion = positions.shape[1]\n",
        "        self.particles = []\n",
        "        for i in range(self.num_particles):\n",
        "            self.particles.append(Particle(positions[i,:], properties[i]))\n",
        "\n",
        "    def update_once(self):\n",
        "        pass\n",
        "\n",
        "    def compute_derivatives(self, verlet_list, deriv_func, eps, V):\n",
        "        for p_idx, p in enumerate(self.particles):\n",
        "            result = 0.0\n",
        "            neighbours = verlet_list.neighbours[p_idx]\n",
        "            for q_idx in neighbours:\n",
        "                q = self.particles[q_idx]\n",
        "                if q != p:\n",
        "                    z = p.position[0] - q.position[0]\n",
        "                    result += q.properties.field * deriv_func(z, eps) * V\n",
        "            p.properties.field_derivative = result\n",
        "        return"
      ]
    },
    {
      "cell_type": "code",
      "execution_count": 5,
      "id": "b037acf1-b837-49f1-8863-e8a371e599b3",
      "metadata": {
        "id": "b037acf1-b837-49f1-8863-e8a371e599b3"
      },
      "outputs": [],
      "source": [
        "class CellList:\n",
        "\n",
        "    def __init__(self, particle_set, rc):\n",
        "        self.cells = {}\n",
        "        self.construct(particle_set, rc)\n",
        "\n",
        "    def construct(self, particle_set, rc):\n",
        "        for idx, p in enumerate(particle_set.particles):\n",
        "            cell_index_x = np.floor((p.position) / rc).astype(int)\n",
        "            cell_index = cell_index_x[0]\n",
        "            if cell_index in self.cells.keys():\n",
        "                self.cells[cell_index].append(idx)\n",
        "            else:\n",
        "                self.cells[cell_index] = [idx]\n",
        "\n",
        "    def particles_in(self, cell_index):\n",
        "        if cell_index in self.cells.keys():\n",
        "            return self.cells[cell_index]\n",
        "        else:\n",
        "            return []\n",
        "\n",
        "    def neighbourhood(self, cell_index):\n",
        "        cell_index_x = cell_index[0]\n",
        "        neighbour_list = []\n",
        "        for lx in [-1, 0,1]:\n",
        "            neighbour_list.extend(self.particles_in(cell_index_x + lx))\n",
        "\n",
        "        return neighbour_list"
      ]
    },
    {
      "cell_type": "code",
      "execution_count": 6,
      "id": "1fad894f-1fa4-42af-a84c-043087949d29",
      "metadata": {
        "id": "1fad894f-1fa4-42af-a84c-043087949d29"
      },
      "outputs": [],
      "source": [
        "class VerletList:\n",
        "\n",
        "    def __init__(self, particle_set, cell_list, rc):\n",
        "        self.neighbours = {}\n",
        "        self.construct(particle_set, cell_list, rc)\n",
        "\n",
        "    def construct(self, particle_set, cell_list, rc):\n",
        "        for p_id, p in enumerate(particle_set.particles):\n",
        "            self.neighbours[p_id] = []\n",
        "            cell_index_x = np.floor((p.position) / rc).astype(int)\n",
        "            cell_index = cell_index_x\n",
        "            for q_id in cell_list.neighbourhood(cell_index):\n",
        "                q = particle_set.particles[q_id]\n",
        "                if np.linalg.norm(p.position[0]-q.position[0]) <= rc:\n",
        "                    self.neighbours[p_id].append(q_id)"
      ]
    },
    {
      "cell_type": "code",
      "execution_count": 7,
      "id": "f233442a-daa1-4c18-9455-03e41de02d4a",
      "metadata": {
        "id": "f233442a-daa1-4c18-9455-03e41de02d4a"
      },
      "outputs": [],
      "source": [
        "def f(x):\n",
        "    return np.sin(10*x)*x**2\n",
        "def dxf(x):\n",
        "    return  2*x*(5*x*np.cos(10*x) + np.sin(10*x))\n",
        "def kernel(z, eps):\n",
        "    alphad = 2.0/eps\n",
        "    z = np.abs(z)\n",
        "    if z < 0.5*eps:\n",
        "        return alphad*(2.0/3.0 - (2.0*z/eps)**2 + 0.5*(2.0*z/eps)**3)\n",
        "    elif z >= 0.5*eps and z < eps:\n",
        "        return alphad*(((1.0/6.0)*(2.0-2.0*z/eps)**3))\n",
        "    else:\n",
        "        return 0.0\n",
        "\n",
        "def deriv_kernel(z, eps):\n",
        "    if z!=0:\n",
        "        sign = z/np.abs(z)\n",
        "    else:\n",
        "        sign = 1\n",
        "    z = np.abs(z)\n",
        "    alphad = sign*2.0/eps\n",
        "    if z < 0.5*eps:\n",
        "        return alphad*((-8.0*z/(eps**2)) + (12.0*z**2/eps**3))\n",
        "    elif z >= 0.5*eps and z < eps:\n",
        "        return alphad*(-1*(2.0-2.0*z/eps)**2/eps)\n",
        "    else:\n",
        "        return 0.0\n",
        ""
      ]
    },
    {
      "cell_type": "code",
      "execution_count": 8,
      "id": "047d8fbd-382b-4e09-91fb-f7317d5ce31f",
      "metadata": {
        "colab": {
          "base_uri": "https://localhost:8080/"
        },
        "id": "047d8fbd-382b-4e09-91fb-f7317d5ce31f",
        "outputId": "78c5c55b-8caf-4ca7-b134-5adf52e675db"
      },
      "outputs": [
        {
          "output_type": "stream",
          "name": "stdout",
          "text": [
            "h = 0.02020202020202022\n",
            "Cut off for Cell list = 0.1010101010101011\n"
          ]
        }
      ],
      "source": [
        "N = 100\n",
        "d = 1\n",
        "\n",
        "positions = np.linspace(-1,1,N)\n",
        "h=positions[1]-positions[0]\n",
        "print(f\"h = {h}\")\n",
        "\n",
        "positions = positions.reshape(N,1)\n",
        "rc = 5.0*h\n",
        "print(f\"Cut off for Cell list = {rc}\")\n",
        "\n",
        "# Initialize particle positions with function values\n",
        "properties = []\n",
        "for idx in range(N):\n",
        "    p = Props(f(positions[idx]), 0.0)\n",
        "    properties.append(p)\n",
        "\n",
        "# Initial particle set\n",
        "pset = ParticleSet(positions, properties)\n",
        "cell_list = CellList(pset, rc)\n",
        "verlet_list = VerletList(pset, cell_list, rc)\n",
        "# Compute the first derivative using SPH kernel\n",
        "pset.compute_derivatives(verlet_list, deriv_kernel, eps=2*h, V=h)"
      ]
    },
    {
      "cell_type": "code",
      "execution_count": 9,
      "id": "9434b04a-833f-4349-8d1e-97ca0cc6df19",
      "metadata": {
        "id": "9434b04a-833f-4349-8d1e-97ca0cc6df19"
      },
      "outputs": [],
      "source": [
        "Pred = [pset.particles[k].properties.field_derivative[0] for k in range(len(positions))]"
      ]
    },
    {
      "cell_type": "code",
      "execution_count": 10,
      "id": "312f8b49-c9c0-4389-9eba-924daad59a5a",
      "metadata": {
        "colab": {
          "base_uri": "https://localhost:8080/",
          "height": 447
        },
        "id": "312f8b49-c9c0-4389-9eba-924daad59a5a",
        "outputId": "8730d026-60b5-4c63-8678-34fe72166545"
      },
      "outputs": [
        {
          "output_type": "execute_result",
          "data": {
            "text/plain": [
              "<matplotlib.legend.Legend at 0x7f425422a2f0>"
            ]
          },
          "metadata": {},
          "execution_count": 10
        },
        {
          "output_type": "display_data",
          "data": {
            "text/plain": [
              "<Figure size 640x480 with 1 Axes>"
            ],
            "image/png": "[encoded data removed]"
          },
          "metadata": {}
        }
      ],
      "source": [
        "filt_part = np.array(pset.particles)[idx]\n",
        "plt.plot(Pred[2:-2],label='Prediction')\n",
        "plt.plot(dxf(positions)[2:-2], label = 'Ground Truth')\n",
        "plt.legend()"
      ]
    },
    {
      "cell_type": "code",
      "execution_count": 11,
      "id": "71e291bf-95fd-4d35-bdda-b871bfd3bcdd",
      "metadata": {
        "id": "71e291bf-95fd-4d35-bdda-b871bfd3bcdd"
      },
      "outputs": [],
      "source": [
        "deg_quad = 40\n",
        "sob_param = Sobolev(deg=deg_quad, dim=1)\n",
        "x_plt, _, _, x_int, _, _ = sob_param.get_quad()\n",
        "w_1d = np.array(sob_param.get_leja_weights())\n",
        "dx =sob_param.diff.diffs(np.array([[1]]))"
      ]
    },
    {
      "cell_type": "code",
      "execution_count": 23,
      "id": "2ad76f9c-5f6d-4828-ac4b-df1db75fc98c",
      "metadata": {
        "id": "2ad76f9c-5f6d-4828-ac4b-df1db75fc98c"
      },
      "outputs": [],
      "source": [
        "deg_quad = 40\n",
        "sob_param = Sobolev(deg=deg_quad, dim=1)\n",
        "x_plt, _, _, x_int, _, _ = sob_param.get_quad()\n",
        "w_1d = np.array(sob_param.get_leja_weights())\n",
        "dx =sob_param.diff.diffs(np.array([[1]]))\n",
        "def sph_int(N):\n",
        "    d = 1\n",
        "    positions = np.linspace(-1,1,N)\n",
        "    h=positions[1]-positions[0]\n",
        "    positions = positions.reshape(N,1)\n",
        "    rc = 5.0*h\n",
        "    properties = []\n",
        "    for idx in range(N):\n",
        "        p = Props(f(positions[idx]), 0.0)\n",
        "        properties.append(p)\n",
        "\n",
        "    # Initial particle set\n",
        "    pset = ParticleSet(positions, properties)\n",
        "    cell_list = CellList(pset, rc)\n",
        "    verlet_list = VerletList(pset, cell_list, rc)\n",
        "    # Compute the first derivative using SPH kernel\n",
        "    coor_p = np.array([pset.particles[k].position[0] for k in range(len(pset.particles))])\n",
        "    ID = np.array([[idx, x_p] for idx, x_p in enumerate(coor_p) if x_p <=1 and x_p >=-1])\n",
        "    idx = np.array(ID[:,0],dtype = int)\n",
        "    V = h\n",
        "    eps = 2*h\n",
        "    x = x_int\n",
        "    F = []\n",
        "    Fx = []\n",
        "    for i in range(len(x)):\n",
        "        x_i = x_int[i]#positions.T[0][i]+0.1#x[i]\n",
        "        result = 0.0\n",
        "        resultdx = 0.0\n",
        "        IDX = np.floor((x_i) / rc).astype(int)\n",
        "        neighbours = cell_list.neighbourhood([IDX])\n",
        "        for j, i_idx in enumerate(neighbours):\n",
        "            for j, j_idx in enumerate(neighbours):\n",
        "                qi = pset.particles[i_idx]\n",
        "                qj = pset.particles[j_idx]\n",
        "                zi = x_i - qi.position[0]\n",
        "                zj = x_i - qj.position[0]\n",
        "                result +=qi.properties.field * qj.properties.field * kernel(zi, eps)* kernel(zj, eps) * V**2\n",
        "                resultdx +=qi.properties.field * qj.properties.field * deriv_kernel(zi, eps)* deriv_kernel(zj, eps) * V**2\n",
        "        F.append(result)\n",
        "        Fx.append(resultdx)\n",
        "    return np.sum(np.array(F).T[0]*w_1d)+np.sum(np.array(Fx).T[0]*w_1d)#, np.sum(f(positions[idx])**2*V)"
      ]
    },
    {
      "cell_type": "code",
      "execution_count": 24,
      "id": "13b52536-21ec-4ea2-9c12-675947d4042d",
      "metadata": {
        "id": "13b52536-21ec-4ea2-9c12-675947d4042d"
      },
      "outputs": [],
      "source": [
        "an_int = np.sum((dx@f(x_int))**2*w_1d) +  np.sum((f(x_int))**2*w_1d)"
      ]
    },
    {
      "cell_type": "code",
      "execution_count": 25,
      "id": "7aab1552-65c5-4c9a-bb38-74ba30631699",
      "metadata": {
        "id": "7aab1552-65c5-4c9a-bb38-74ba30631699"
      },
      "outputs": [],
      "source": [
        "x_mse = np.linspace(-1,1,10000)\n",
        "x_mse = x_mse[np.random.randint(0,10000,100)]\n",
        "dx = abs(x_mse[0]-x_mse[1])\n",
        "def mse_sph_int(N):\n",
        "    d = 1\n",
        "    positions = np.linspace(-1,1,N)\n",
        "    h=positions[1]-positions[0]\n",
        "    positions = positions.reshape(N,1)\n",
        "    rc = 5.0*h\n",
        "    properties = []\n",
        "    for idx in range(N):\n",
        "        p = Props(f(positions[idx]), 0.0)\n",
        "        properties.append(p)\n",
        "\n",
        "    # Initial particle set\n",
        "    pset = ParticleSet(positions, properties)\n",
        "    cell_list = CellList(pset, rc)\n",
        "    verlet_list = VerletList(pset, cell_list, rc)\n",
        "    # Compute the first derivative using SPH kernel\n",
        "    coor_p = np.array([pset.particles[k].position[0] for k in range(len(pset.particles))])\n",
        "    ID = np.array([[idx, x_p] for idx, x_p in enumerate(coor_p) if x_p <=1 and x_p >=-1])\n",
        "    idx = np.array(ID[:,0],dtype = int)\n",
        "    V = h\n",
        "    eps = 2*h\n",
        "    x_int = x\n",
        "    F = []\n",
        "    Fx = []\n",
        "    for i in range(len(x_mse)):\n",
        "        x_i = x_mse[i]#positions.T[0][i]+0.1#x[i]\n",
        "        result = 0.0\n",
        "        resultdx = 0.0\n",
        "        IDX = np.floor((x_i) / rc).astype(int)\n",
        "        neighbours = cell_list.neighbourhood([IDX])\n",
        "        for j, i_idx in enumerate(neighbours):\n",
        "            for j, j_idx in enumerate(neighbours):\n",
        "                qi = pset.particles[i_idx]\n",
        "                qj = pset.particles[j_idx]\n",
        "                zi = x_i - qi.position[0]\n",
        "                zj = x_i - qj.position[0]\n",
        "                result +=qi.properties.field * qj.properties.field * kernel(zi, eps)* kernel(zj, eps) * V**2\n",
        "                resultdx +=qi.properties.field * qj.properties.field * deriv_kernel(zi, eps)* deriv_kernel(zj, eps) * V**2\n",
        "        F.append(result)\n",
        "        Fx.append(resultdx)\n",
        "    return np.mean(np.array(F).T[0]) +  np.mean(np.array(Fx).T[0])"
      ]
    },
    {
      "cell_type": "code",
      "execution_count": 26,
      "id": "0175ee30-5317-4268-8249-b2b9e5b50b0d",
      "metadata": {
        "id": "0175ee30-5317-4268-8249-b2b9e5b50b0d"
      },
      "outputs": [],
      "source": [
        "def MSE_int(N):\n",
        "    d = 1\n",
        "    positions = np.linspace(-1,1,N)\n",
        "    coor_p = np.array([positions[k] for k in range(len(positions))])\n",
        "    ID = np.array([[idx, x_p] for idx, x_p in enumerate(coor_p) if x_p <=1 and x_p >=-1])\n",
        "    idx = np.array(ID[:,0],dtype = int)\n",
        "    h=positions[1]-positions[0]\n",
        "    return  np.sum(dxf(positions[idx])**2*h) + np.sum(f(positions[idx])**2*h)"
      ]
    },
    {
      "cell_type": "code",
      "execution_count": 27,
      "id": "8538a0f5-a737-49c8-9086-deb3ec498ad9",
      "metadata": {
        "id": "8538a0f5-a737-49c8-9086-deb3ec498ad9"
      },
      "outputs": [],
      "source": [
        "N_p = np.array(np.linspace(100,30000,10),dtype = int)\n",
        "E_sph = [abs(sph_int(k)-an_int) for k in N_p]\n",
        "E_MSE = [abs(MSE_int(k)-an_int) for k in N_p]\n",
        "#E_MSE_sph = [abs(mse_sph_int(k)-an_int) for k in N_p]\n",
        "#E_sph = [[abs(sph_int(k)[0]-0.4),abs(sph_int(k)[1]-0.4)] for k in [10,100,300,500,1000,1500,2000,2500,3000]]"
      ]
    },
    {
      "cell_type": "code",
      "execution_count": 28,
      "id": "86cb45ee-d47c-4989-862e-471e2e87283d",
      "metadata": {
        "colab": {
          "base_uri": "https://localhost:8080/",
          "height": 451
        },
        "id": "86cb45ee-d47c-4989-862e-471e2e87283d",
        "outputId": "a79e5ff3-c8b8-4642-9c19-ba4a4b551521"
      },
      "outputs": [
        {
          "output_type": "execute_result",
          "data": {
            "text/plain": [
              "<matplotlib.legend.Legend at 0x7f425000e350>"
            ]
          },
          "metadata": {},
          "execution_count": 28
        },
        {
          "output_type": "display_data",
          "data": {
            "text/plain": [
              "<Figure size 640x480 with 1 Axes>"
            ],
            "image/png": "[encoded data removed]"
          },
          "metadata": {}
        }
      ],
      "source": [
        "plt.loglog(N_p,E_sph,label = 'SPH Quadrature')\n",
        "plt.loglog(N_p,E_MSE,label = 'MSE Quadrature')\n",
        "#plt.loglog(N_p,E_MSE_sph,label = 'SPH MSE Quadrature')\n",
        "plt.loglog(N_p,1/N_p, linestyle='--',label = 'Linear rate')\n",
        "plt.loglog(N_p, 1/N_p**2,linestyle='--',label = 'Quadratic rate')\n",
        "plt.legend()"
      ]
    },
    {
      "cell_type": "code",
      "source": [],
      "metadata": {
        "id": "HW1UZ8qsKYMH"
      },
      "id": "HW1UZ8qsKYMH",
      "execution_count": null,
      "outputs": []
    }
  ],
  "metadata": {
    "kernelspec": {
      "display_name": "Python 3 (ipykernel)",
      "language": "python",
      "name": "python3"
    },
    "language_info": {
      "codemirror_mode": {
        "name": "ipython",
        "version": 3
      },
      "file_extension": ".py",
      "mimetype": "text/x-python",
      "name": "python",
      "nbconvert_exporter": "python",
      "pygments_lexer": "ipython3",
      "version": "3.10.4"
    },
    "colab": {
      "provenance": []
    }
  },
  "nbformat": 4,
  "nbformat_minor": 5
}