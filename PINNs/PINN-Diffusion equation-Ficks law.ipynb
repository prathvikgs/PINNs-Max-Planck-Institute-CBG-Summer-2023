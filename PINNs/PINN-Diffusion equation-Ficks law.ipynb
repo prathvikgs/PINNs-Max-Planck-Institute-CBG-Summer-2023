{
 "cells": [
  {
   "cell_type": "code",
   "execution_count": 2,
   "id": "48e32206",
   "metadata": {},
   "outputs": [],
   "source": [
    "import numpy as np\n",
    "import pandas as pd\n",
    "import tensorflow as tf\n",
    "import matplotlib.pyplot as plt\n",
    "import matplotlib as mpl \n",
    "import random"
   ]
  },
  {
   "cell_type": "markdown",
   "id": "65f0f29e",
   "metadata": {},
   "source": [
    "$$\\frac{\\partial{\\phi}}{\\partial{t}}=D\\frac{\\partial^2{\\phi}}{\\partial{x^2}}$$\n",
    "\n",
    "$$\\phi(0,t)=\\phi_0$$\n",
    "\n",
    "\\begin{equation}\n",
    "\\phi(x)=\n",
    "    \\begin{cases}\n",
    "        0 & \\text{if } x \\neq 0\\\\\n",
    "        \\phi_0 & \\text{if } x = 0\n",
    "    \\end{cases}\n",
    "\\end{equation}"
   ]
  },
  {
   "cell_type": "code",
   "execution_count": 3,
   "id": "0ee2926d",
   "metadata": {},
   "outputs": [],
   "source": [
    "tf.keras.backend.set_floatx('float32')\n",
    "\n",
    "#Define the neural network\n",
    "model = tf.keras.Sequential([\n",
    "    tf.keras.layers.Dense(20, activation='tanh', input_shape=(2,)),\n",
    "    tf.keras.layers.Dense(20, activation='tanh'),\n",
    "     tf.keras.layers.Dense(20, activation='tanh'),\n",
    "    tf.keras.layers.Dense(1)\n",
    "])"
   ]
  },
  {
   "cell_type": "code",
   "execution_count": 4,
   "id": "3dc060f2",
   "metadata": {},
   "outputs": [],
   "source": [
    "def loss(x_pde,x_ini,x_bound,x_bound1):\n",
    "    \n",
    "    with tf.GradientTape(persistent=True) as tape:\n",
    "        \n",
    "        x,t=tf.unstack(x_pde,axis=1)\n",
    "        tape.watch(x)\n",
    "        tape.watch(t)\n",
    "        \n",
    "        phi=model(tf.stack((x,t),axis=1))\n",
    "        dphi_dt=tape.gradient(phi,t)\n",
    "        dphi_dx=tape.gradient(phi,x)\n",
    "        d2phi_dx2=tape.gradient(dphi_dx,x)\n",
    "        \n",
    "        \"Equation loss\"\n",
    "        loss1=tf.reduce_mean(tf.square(dphi_dt-D*d2phi_dx2))\n",
    "        \n",
    "        \"boundary condition loss\"\n",
    "        xb,tb=tf.unstack(x_bound,axis=1)\n",
    "        phib=model(tf.stack((xb,tb),axis=1))\n",
    "        lossb=tf.reduce_mean(tf.square(phib))\n",
    "        \n",
    "        \"boundary condition loss\"\n",
    "        xb1,tb1=tf.unstack(x_bound1,axis=1)\n",
    "        phib1=model(tf.stack((xb1,tb1),axis=1))\n",
    "        lossb1=tf.reduce_mean(tf.square(phib1))\n",
    "        \n",
    "        \"initial condition loss\"\n",
    "        xi,ti=tf.unstack(x_ini,axis=1)\n",
    "        phi_i=model(x_ini)\n",
    "        phi_i_real=4*xi*(1-xi)\n",
    "        lossi=tf.reduce_mean(tf.square(phi_i-phi_i_real))\n",
    "    \n",
    "    return loss1+lossb+lossb1+lossi"
   ]
  },
  {
   "cell_type": "code",
   "execution_count": 5,
   "id": "f52e3b9b",
   "metadata": {},
   "outputs": [],
   "source": [
    "#constants\n",
    "D=1"
   ]
  },
  {
   "cell_type": "code",
   "execution_count": 6,
   "id": "d6ef9cb4",
   "metadata": {},
   "outputs": [],
   "source": [
    "N=10000\n",
    "N2=1000\n",
    "\n",
    "x_l=0\n",
    "x_r=1\n",
    "t_s=0\n",
    "t_e=1.5\n",
    "\n",
    "#Domain \n",
    "x=(x_r-x_l)*np.random.rand(N,1)+x_l\n",
    "t=(t_e-t_s)*np.random.rand(N,1)+t_s\n",
    "\n",
    "x=np.reshape(x,-1)\n",
    "t=np.reshape(t,-1)\n",
    "xt = np.concatenate([x[:, None], t[:, None]], axis=1)\n",
    "XT=tf.convert_to_tensor(xt, dtype=tf.float32, dtype_hint=None, name=None)\n",
    "\n",
    "#phi(0,t): Boundary condition\n",
    "xb1=x_l*np.ones((N2,1))\n",
    "tb1=(t_e-t_s)*np.random.rand(N2,1)+t_s\n",
    "xb1=np.reshape(xb1,-1)\n",
    "tb1=np.reshape(tb1,-1)\n",
    "x_bound1 = np.concatenate([xb1[:, None], tb1[:, None]], axis=1)\n",
    "X_bound1=tf.convert_to_tensor(x_bound1, dtype=tf.float32, dtype_hint=None, name=None)\n",
    "\n",
    "xb2=x_r*np.ones((N2,1))\n",
    "tb2=(t_e-t_s)*np.random.rand(N2,1)+t_s\n",
    "xb2=np.reshape(xb2,-1)\n",
    "tb2=np.reshape(tb2,-1)\n",
    "x_bound2 = np.concatenate([xb2[:, None], tb2[:, None]], axis=1)\n",
    "X_bound2=tf.convert_to_tensor(x_bound2, dtype=tf.float32, dtype_hint=None, name=None)\n",
    "\n",
    "x_bound=np.concatenate([x_bound1,x_bound2],axis=0)\n",
    "X_bound=tf.convert_to_tensor(x_bound, dtype=tf.float32, dtype_hint=None, name=None)\n",
    "\n",
    "#phi(x,0): Initial condition at t=0\n",
    "xi=(x_r-x_l)*np.random.rand(2*N2,1)+x_l\n",
    "ti=np.zeros((2*N2,1))\n",
    "xi=np.reshape(xi,-1)\n",
    "ti=np.reshape(ti,-1)\n",
    "x_ini = np.concatenate([xi[:, None], ti[:, None]], axis=1)\n",
    "X_ini=tf.convert_to_tensor(x_ini, dtype=tf.float32, dtype_hint=None, name=None)"
   ]
  },
  {
   "cell_type": "code",
   "execution_count": 7,
   "id": "d4de5a23",
   "metadata": {},
   "outputs": [
    {
     "name": "stdout",
     "output_type": "stream",
     "text": [
      "WARNING:tensorflow:Calling GradientTape.gradient on a persistent tape inside its context is significantly less efficient than calling it outside the context (it causes the gradient ops to be recorded on the tape, leading to increased CPU and memory usage). Only call GradientTape.gradient inside the context if you actually want to trace the gradient in order to compute higher order derivatives.\n",
      "WARNING:tensorflow:Calling GradientTape.gradient on a persistent tape inside its context is significantly less efficient than calling it outside the context (it causes the gradient ops to be recorded on the tape, leading to increased CPU and memory usage). Only call GradientTape.gradient inside the context if you actually want to trace the gradient in order to compute higher order derivatives.\n",
      "WARNING:tensorflow:Calling GradientTape.gradient on a persistent tape inside its context is significantly less efficient than calling it outside the context (it causes the gradient ops to be recorded on the tape, leading to increased CPU and memory usage). Only call GradientTape.gradient inside the context if you actually want to trace the gradient in order to compute higher order derivatives.\n",
      "Epoch 0, loss=0.875157\n",
      "Epoch 100, loss=0.218235\n",
      "Epoch 200, loss=0.201993\n",
      "Epoch 300, loss=0.184031\n",
      "Epoch 400, loss=0.161858\n",
      "Epoch 500, loss=0.148925\n",
      "Epoch 600, loss=0.140591\n",
      "Epoch 700, loss=0.135013\n",
      "Epoch 800, loss=0.130985\n",
      "Epoch 900, loss=0.128238\n",
      "Epoch 1000, loss=0.126511\n",
      "Epoch 1100, loss=0.125235\n",
      "Epoch 1200, loss=0.124224\n",
      "Epoch 1300, loss=0.123446\n",
      "Epoch 1400, loss=0.122804\n",
      "Epoch 1500, loss=0.122189\n",
      "Epoch 1600, loss=0.121498\n",
      "Epoch 1700, loss=0.120618\n",
      "Epoch 1800, loss=0.119478\n",
      "Epoch 1900, loss=0.118280\n",
      "Epoch 2000, loss=0.117243\n",
      "Epoch 2100, loss=0.116206\n",
      "Epoch 2200, loss=0.115220\n",
      "Epoch 2300, loss=0.114050\n",
      "Epoch 2400, loss=0.113001\n",
      "Epoch 2500, loss=0.111932\n",
      "Epoch 2600, loss=0.110803\n",
      "Epoch 2700, loss=0.109521\n",
      "Epoch 2800, loss=0.108101\n",
      "Epoch 2900, loss=0.106620\n",
      "Epoch 3000, loss=0.105357\n",
      "Epoch 3100, loss=0.104726\n",
      "Epoch 3200, loss=0.103561\n",
      "Epoch 3300, loss=0.102819\n",
      "Epoch 3400, loss=0.102130\n",
      "Epoch 3500, loss=0.101539\n",
      "Epoch 3600, loss=0.101041\n",
      "Epoch 3700, loss=0.100641\n",
      "Epoch 3800, loss=0.100398\n",
      "Epoch 3900, loss=0.100032\n",
      "Epoch 4000, loss=0.099805\n",
      "Epoch 4100, loss=0.100189\n",
      "Epoch 4200, loss=0.099441\n",
      "Epoch 4300, loss=0.099305\n",
      "Epoch 4400, loss=0.099163\n",
      "Epoch 4500, loss=0.099045\n",
      "Epoch 4600, loss=0.098934\n",
      "Epoch 4700, loss=0.098929\n",
      "Epoch 4800, loss=0.098761\n",
      "Epoch 4900, loss=0.098653\n"
     ]
    }
   ],
   "source": [
    "# Define the optimizer\n",
    "optimizer = tf.keras.optimizers.Adam()\n",
    "\n",
    "# Train the model\n",
    "for epoch in range(5000):\n",
    "    with tf.GradientTape() as tape:\n",
    "        loss_value = loss(XT,X_ini,X_bound1,X_bound2)\n",
    "    grads = tape.gradient(loss_value, model.trainable_variables)\n",
    "    optimizer.apply_gradients(zip(grads, model.trainable_variables))\n",
    "    if epoch % 100 == 0:\n",
    "        print(f\"Epoch {epoch}, loss={loss_value:.6f}\")"
   ]
  },
  {
   "cell_type": "code",
   "execution_count": 8,
   "id": "6579605c",
   "metadata": {},
   "outputs": [],
   "source": [
    "N=1000\n",
    "x=np.linspace(x_l,x_r,N)\n",
    "t=np.linspace(t_s,t_e,N)\n",
    "x_1=np.reshape(x,-1)\n",
    "t_1=np.reshape(t,-1)\n",
    "\n",
    "nx, nt = np.meshgrid(x, t, indexing='ij')\n",
    "\n",
    "nx1=np.reshape(nx,-1)\n",
    "nt1=np.reshape(nt,-1)\n",
    "\n",
    "xt = np.concatenate([nx1[:, None], nt1[:, None]], axis=1)\n",
    "p=model(xt)\n",
    "p=np.reshape(p,(N,N))"
   ]
  },
  {
   "cell_type": "code",
   "execution_count": 9,
   "id": "12c021d4",
   "metadata": {},
   "outputs": [
    {
     "data": {
      "image/png": "[encoded data removed]",
      "text/plain": [
       "<Figure size 432x288 with 2 Axes>"
      ]
     },
     "metadata": {
      "needs_background": "light"
     },
     "output_type": "display_data"
    }
   ],
   "source": [
    "c=plt.pcolormesh(nx,nt,p) \n",
    "plt.colorbar(c)\n",
    "plt.xlabel('x')\n",
    "plt.ylabel('time')\n",
    "plt.show()"
   ]
  },
  {
   "cell_type": "code",
   "execution_count": 10,
   "id": "6a76efb6",
   "metadata": {},
   "outputs": [
    {
     "data": {
      "text/plain": [
       "<matplotlib.contour.QuadContourSet at 0x2a1b5786af0>"
      ]
     },
     "execution_count": 10,
     "metadata": {},
     "output_type": "execute_result"
    },
    {
     "data": {
      "image/png": "[encoded data removed]",
      "text/plain": [
       "<Figure size 432x288 with 1 Axes>"
      ]
     },
     "metadata": {
      "needs_background": "light"
     },
     "output_type": "display_data"
    }
   ],
   "source": [
    "fig, ax = plt.subplots(1, 1)\n",
    "ax.contourf(nx, nt, p)"
   ]
  },
  {
   "cell_type": "code",
   "execution_count": 19,
   "id": "9e4e8d7a",
   "metadata": {},
   "outputs": [
    {
     "data": {
      "image/png": "[encoded data removed]",
      "text/plain": [
       "<Figure size 432x288 with 1 Axes>"
      ]
     },
     "metadata": {
      "needs_background": "light"
     },
     "output_type": "display_data"
    }
   ],
   "source": [
    "x=np.linspace(0,1,50).reshape(-1,1)\n",
    "for i in range(10,20):\n",
    "    t=(i+1)*0.01*np.ones((50,1)).reshape(-1,1)\n",
    "    X=np.concatenate([x,t],axis=1)\n",
    "    phi=model(X)\n",
    "    plt.scatter(x,phi)"
   ]
  },
  {
   "cell_type": "code",
   "execution_count": null,
   "id": "74329f51",
   "metadata": {},
   "outputs": [],
   "source": []
  }
 ],
 "metadata": {
  "kernelspec": {
   "display_name": "Python 3 (ipykernel)",
   "language": "python",
   "name": "python3"
  },
  "language_info": {
   "codemirror_mode": {
    "name": "ipython",
    "version": 3
   },
   "file_extension": ".py",
   "mimetype": "text/x-python",
   "name": "python",
   "nbconvert_exporter": "python",
   "pygments_lexer": "ipython3",
   "version": "3.9.12"
  }
 },
 "nbformat": 4,
 "nbformat_minor": 5
}
