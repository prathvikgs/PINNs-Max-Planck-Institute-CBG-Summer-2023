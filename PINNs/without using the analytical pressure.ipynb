{
 "cells": [
  {
   "cell_type": "markdown",
   "id": "17724a1f",
   "metadata": {},
   "source": [
    "# PINN codes for Navier stokes and the heat equation"
   ]
  },
  {
   "cell_type": "markdown",
   "id": "d9f6d6e9",
   "metadata": {},
   "source": [
    "Prathvik G S"
   ]
  },
  {
   "cell_type": "code",
   "execution_count": 1,
   "id": "11de9f8f",
   "metadata": {},
   "outputs": [
    {
     "name": "stdout",
     "output_type": "stream",
     "text": [
      "2.11.0\n"
     ]
    }
   ],
   "source": [
    "import numpy as np\n",
    "import pandas as pd\n",
    "import tensorflow as tf\n",
    "import matplotlib.pyplot as plt\n",
    "import matplotlib as mpl \n",
    "import random\n",
    "\n",
    "print(tf.__version__)"
   ]
  },
  {
   "cell_type": "markdown",
   "id": "fe64538e",
   "metadata": {},
   "source": [
    "# 2D Navier stokes equations along with boundary conditions and incompressibility"
   ]
  },
  {
   "cell_type": "markdown",
   "id": "90ebe9a9",
   "metadata": {},
   "source": [
    "$$u \\frac{\\partial{u}}{\\partial{x}}+v\\frac{\\partial{u}}{\\partial{y}}=-\\frac{1}{\\rho}\\frac{\\partial{p}}{\\partial{x}}+\\nu(\\frac{\\partial^2{u}}{\\partial{x^2}}+\\frac{\\partial^2{u}}{\\partial{y^2}})$$\n",
    "\n",
    "$$u \\frac{\\partial{v}}{\\partial{x}}+v\\frac{\\partial{v}}{\\partial{y}}=-\\frac{1}{\\rho}\\frac{\\partial{p}}{\\partial{y}}+\\nu(\\frac{\\partial^2{v}}{\\partial{x^2}}+\\frac{\\partial^2{v}}{\\partial{y^2}})$$\n",
    "\n",
    "$$\\frac{\\partial{u}}{\\partial{x}}+\\frac{\\partial{v}}{\\partial{y}}=0$$\n",
    "\n",
    "$$u(x,y),v(x,y)=g(x,y): (x,y) \\epsilon d\\Omega$$\n",
    "\n",
    "$$g(x,y)=1-e^{\\lambda x}cos(2\\pi y),\\frac{\\lambda}{2\\pi}e^{\\lambda x} sin(2\\pi y)$$\n"
   ]
  },
  {
   "cell_type": "markdown",
   "id": "cb3a18d8",
   "metadata": {},
   "source": [
    "# The architecture"
   ]
  },
  {
   "cell_type": "code",
   "execution_count": 2,
   "id": "7d505f3b",
   "metadata": {},
   "outputs": [],
   "source": [
    "tf.keras.backend.set_floatx('float32')\n",
    "\n",
    "#Define the neural network\n",
    "model = tf.keras.Sequential([\n",
    "    tf.keras.layers.Dense(20, activation='tanh', input_shape=(2,)),\n",
    "    tf.keras.layers.Dense(20, activation='tanh'),\n",
    "     tf.keras.layers.Dense(40, activation='tanh'),\n",
    "    tf.keras.layers.Dense(3)\n",
    "])"
   ]
  },
  {
   "cell_type": "markdown",
   "id": "f521e85d",
   "metadata": {},
   "source": [
    "# Custom loss function describing the Navier stokes eqn with boundary conditions and incompressibility"
   ]
  },
  {
   "cell_type": "code",
   "execution_count": 143,
   "id": "548569f9",
   "metadata": {},
   "outputs": [
    {
     "name": "stdout",
     "output_type": "stream",
     "text": [
      "0.025 -0.9637405441957654\n"
     ]
    }
   ],
   "source": [
    "#constants\n",
    "nu=1/40\n",
    "lamda=1/(2*nu)-(1/(2*nu)**2+4*np.pi**2)**(0.5)\n",
    "\n",
    "#loss function for the PINN\n",
    "def loss(xy,xyb,collo):\n",
    "    \n",
    "    with tf.GradientTape(persistent=True) as tape:\n",
    "        \n",
    "        \n",
    "        #loss from the PDE\n",
    "        x,y=tf.unstack(xy,axis=1)\n",
    "        tape.watch(x)\n",
    "        tape.watch(y)\n",
    "        \n",
    "        u = model(tf.stack((x,y),axis=1))\n",
    "        u_pred,v_pred,p_pred=tf.unstack(u,axis=1)\n",
    "        \n",
    "        dudx=tape.gradient(u_pred,x)\n",
    "        dudy=tape.gradient(u_pred,y)\n",
    "        \n",
    "        dvdx=tape.gradient(v_pred,x)\n",
    "        dvdy=tape.gradient(v_pred,y)\n",
    "        \n",
    "        dpdx=tape.gradient(p_pred,x)\n",
    "        dpdy=tape.gradient(p_pred,y)\n",
    "        \n",
    "        d2udx2=tape.gradient(dudx,x)\n",
    "        d2udy2=tape.gradient(dudy,y)\n",
    "        \n",
    "        d2vdx2=tape.gradient(dvdx,x)\n",
    "        d2vdy2=tape.gradient(dvdy,y)\n",
    "        \n",
    "        \n",
    "        loss = tf.reduce_mean(tf.square(u_pred*dudx+v_pred*dudy+dpdx-nu*d2udx2-nu*d2udy2))+\\\n",
    "               tf.reduce_mean(tf.square(u_pred*dvdx+v_pred*dvdy+dpdy-nu*d2vdx2-nu*d2vdy2))+\\\n",
    "               tf.reduce_mean(tf.square(dudx+dvdy))\n",
    "        \n",
    "        \n",
    "        #boundary loss\n",
    "        xb,yb=tf.unstack(xyb,axis=1)\n",
    "        ub = model(tf.stack((xb,yb),axis=1))\n",
    "        u_predb,v_predb,p_predb=tf.unstack(ub,axis=1)\n",
    "        \n",
    "        lossb=tf.reduce_mean(tf.square(u_predb-(1-np.e**(lamda*xb)*np.cos(2*np.pi*yb))))+\\\n",
    "          tf.reduce_mean(tf.square(v_predb-((0.5/np.pi)*np.e**(lamda*xb)*np.sin(2*np.pi*yb))))\n",
    "        \n",
    "        \n",
    "        \n",
    "        '''#100 points from the domain used with the analytic solution as the loss function\n",
    "        x_c,y_c=tf.unstack(collo,axis=1)\n",
    "        Uc=model(tf.stack((x_c,y_c),axis=1))\n",
    "        u_c,v_c,p_c=tf.unstack(Uc,axis=1)\n",
    "        lossc=tf.reduce_mean(tf.square(u_c-(1-np.e**(x_c)*np.cos(2*np.pi*y_c))))+\\\n",
    "              tf.reduce_mean(tf.square(v_c-((0.5/np.pi)*np.e**(x_c)*np.sin(2*np.pi*y_c))))'''\n",
    "    \n",
    "    \n",
    "    return loss + lossb \n",
    "\n",
    "\n",
    "print(nu,lamda)"
   ]
  },
  {
   "cell_type": "code",
   "execution_count": 144,
   "id": "24d3b5c2",
   "metadata": {},
   "outputs": [],
   "source": [
    "# Define the grid size\n",
    "N = 100\n",
    "x_0=-1\n",
    "x_L=1\n",
    "y_0=-1\n",
    "y_L=1\n",
    "\n",
    "# Define the coordinates of the grid points\n",
    "x = np.linspace(x_0, x_L, N)\n",
    "y = np.linspace(y_0, y_L, N)\n",
    "\n",
    "nx, ny = np.meshgrid(x, y, indexing='ij')\n",
    "nx1=np.reshape(nx,-1)\n",
    "ny1=np.reshape(ny,-1)\n",
    "#nx=2*np.random.rand(100000,1)-1\n",
    "#ny=2*np.random.rand(100000,1)-1\n",
    "nxny = np.concatenate([nx1[:, None], ny1[:, None]], axis=1)\n",
    "nx2ny2=tf.convert_to_tensor(nxny, dtype=tf.float32, dtype_hint=None, name=None)"
   ]
  },
  {
   "cell_type": "code",
   "execution_count": 145,
   "id": "d9a3bcd5",
   "metadata": {},
   "outputs": [],
   "source": [
    "# Define the coordinates of the grid points\n",
    "\n",
    "'boundary-1'\n",
    "x = np.linspace(x_0, x_0, 1)\n",
    "y = np.linspace(y_0, y_L, 50)\n",
    "nx, ny = np.meshgrid(x, y, indexing='ij')\n",
    "nx1=np.reshape(nx,-1)\n",
    "ny1=np.reshape(ny,-1)\n",
    "nxny1 = np.concatenate([nx1[:, None], ny1[:, None]], axis=1)\n",
    "\n",
    "'boundary-2'\n",
    "x = np.linspace(x_L, x_L, 1)\n",
    "y = np.linspace(y_0, y_L, 50)\n",
    "nx, ny = np.meshgrid(x, y, indexing='ij')\n",
    "nx1=np.reshape(nx,-1)\n",
    "ny1=np.reshape(ny,-1)\n",
    "nxny2 = np.concatenate([nx1[:, None], ny1[:, None]], axis=1)\n",
    "\n",
    "'boundary-3'\n",
    "x = np.linspace(x_0, x_L, 50)\n",
    "y = np.linspace(y_0, y_0, 1)\n",
    "nx, ny = np.meshgrid(x, y, indexing='ij')\n",
    "nx1=np.reshape(nx,-1)\n",
    "ny1=np.reshape(ny,-1)\n",
    "nxny3 = np.concatenate([nx1[:, None], ny1[:, None]], axis=1)\n",
    "\n",
    "'boundary-4'\n",
    "x = np.linspace(x_0,x_L, 50)\n",
    "y = np.linspace(y_L, y_L, 1)\n",
    "nx, ny = np.meshgrid(x, y, indexing='ij')\n",
    "nx1=np.reshape(nx,-1)\n",
    "ny1=np.reshape(ny,-1)\n",
    "nxny4 = np.concatenate([nx1[:, None], ny1[:, None]], axis=1)\n",
    "\n",
    "'putting all boundaries in one'\n",
    "nxnyb=np.concatenate([nxny1,nxny2,nxny3,nxny4],axis=0)\n",
    "nxbnyb=tf.convert_to_tensor(nxnyb, dtype=tf.float32, dtype_hint=None, name=None)\n",
    "\n",
    "'feeding in 1% of data solution'\n",
    "\n",
    "collox=2*np.random.rand(10,1)-1\n",
    "colloy=2*np.random.rand(10,1)-1\n",
    "nx, ny = np.meshgrid(collox, colloy, indexing='ij')\n",
    "nx1=np.reshape(collox,-1)\n",
    "ny1=np.reshape(colloy,-1)\n",
    "nxny5 = np.concatenate([nx1[:, None], ny1[:, None]], axis=1)\n",
    "collo=tf.convert_to_tensor(nxny5, dtype=tf.float32, dtype_hint=None, name=None)"
   ]
  },
  {
   "cell_type": "code",
   "execution_count": 148,
   "id": "63a77eb8",
   "metadata": {},
   "outputs": [
    {
     "name": "stdout",
     "output_type": "stream",
     "text": [
      "epoch 1000/10, loss=0.0515227951\r"
     ]
    }
   ],
   "source": [
    "# Define the optimizer\n",
    "\n",
    "optimizer = tf.keras.optimizers.Adam()\n",
    "\n",
    "# Train the model\n",
    "for epoch in range(1000):\n",
    "    with tf.GradientTape() as tape:\n",
    "        loss_value = loss(nx2ny2,nxbnyb,collo)\n",
    "    grads = tape.gradient(loss_value, model.trainable_variables)\n",
    "    optimizer.apply_gradients(zip(grads, model.trainable_variables))\n",
    "    if epoch % 1 == 0:\n",
    "        #print(f\"Epoch {epoch}, loss={loss_value:.6f}\")\n",
    "        print(\"epoch {}/{}, loss={:.10f}\".format(epoch+1,1000,  loss_value), end=\"\\r\")"
   ]
  },
  {
   "cell_type": "code",
   "execution_count": 117,
   "id": "9c4cd3fb",
   "metadata": {},
   "outputs": [],
   "source": [
    "# Define the coordinates of the grid points\n",
    "x = np.linspace(x_0, x_L, N)\n",
    "y = np.linspace(y_0, y_L, N)\n",
    "\n",
    "nx, ny = np.meshgrid(x, y, indexing='ij')\n",
    "nx, ny = np.meshgrid(x, y, indexing='ij')\n",
    "nx1=np.reshape(nx,-1)\n",
    "ny1=np.reshape(ny,-1)\n",
    "nxny = np.concatenate([nx1[:, None], ny1[:, None]], axis=1)\n",
    "\n",
    "X=model(nxny)\n",
    "u,v,p=tf.unstack(X,axis=1)"
   ]
  },
  {
   "cell_type": "markdown",
   "id": "efef0f63",
   "metadata": {},
   "source": [
    "# PINN model solution"
   ]
  },
  {
   "cell_type": "code",
   "execution_count": 118,
   "id": "2799bc9e",
   "metadata": {},
   "outputs": [
    {
     "data": {
      "image/png": "[encoded data removed]",
      "text/plain": [
       "<Figure size 432x288 with 2 Axes>"
      ]
     },
     "metadata": {
      "needs_background": "light"
     },
     "output_type": "display_data"
    }
   ],
   "source": [
    "X=model(nxny)\n",
    "u,v,p=tf.unstack(X,axis=1)\n",
    "x_t,y_t=tf.unstack((nxny),axis=1)\n",
    "M=(u*u+v*v)\n",
    "qq=plt.quiver(x_t,y_t,u,v,M,cmap=plt.cm.jet)\n",
    "plt.colorbar(qq, cmap=plt.cm.jet)\n",
    "plt.show()"
   ]
  },
  {
   "cell_type": "markdown",
   "id": "0cbc9697",
   "metadata": {},
   "source": [
    "# Analytical solution"
   ]
  },
  {
   "cell_type": "code",
   "execution_count": 129,
   "id": "0c13a6a7",
   "metadata": {},
   "outputs": [
    {
     "data": {
      "image/png": "[encoded data removed]",
      "text/plain": [
       "<Figure size 432x288 with 2 Axes>"
      ]
     },
     "metadata": {
      "needs_background": "light"
     },
     "output_type": "display_data"
    }
   ],
   "source": [
    "uu=1-np.e**(lamda*x_t)*np.cos(2*np.pi*y_t) \n",
    "vv=(0.5/np.pi)*(np.exp(lamda*x_t)*np.sin(2*np.pi*y_t))\n",
    "M=(uu*uu+vv*vv)\n",
    "qq=plt.quiver(x_t,y_t,uu,vv,M,cmap=plt.cm.jet)\n",
    "plt.colorbar(qq, cmap=plt.cm.jet)\n",
    "plt.show()"
   ]
  },
  {
   "cell_type": "markdown",
   "id": "3ed1db58",
   "metadata": {},
   "source": [
    "# Pressure from PINN"
   ]
  },
  {
   "cell_type": "code",
   "execution_count": 136,
   "id": "328516d6",
   "metadata": {
    "scrolled": true
   },
   "outputs": [
    {
     "data": {
      "image/png": "[encoded data removed]",
      "text/plain": [
       "<Figure size 432x288 with 2 Axes>"
      ]
     },
     "metadata": {
      "needs_background": "light"
     },
     "output_type": "display_data"
    }
   ],
   "source": [
    "p=tf.reshape(p,(N,N))\n",
    "fig, ax = plt.subplots(1, 1)\n",
    "c=plt.pcolormesh(nx,ny,p)\n",
    "plt.colorbar()\n",
    "plt.show()"
   ]
  },
  {
   "cell_type": "markdown",
   "id": "ffb38788",
   "metadata": {},
   "source": [
    "# Analytical pressure"
   ]
  },
  {
   "cell_type": "code",
   "execution_count": 137,
   "id": "edf20ac8",
   "metadata": {},
   "outputs": [
    {
     "data": {
      "image/png": "[encoded data removed]",
      "text/plain": [
       "<Figure size 432x288 with 2 Axes>"
      ]
     },
     "metadata": {
      "needs_background": "light"
     },
     "output_type": "display_data"
    }
   ],
   "source": [
    "p_t=0.5*(1-np.e**(lamda*2*x_t))\n",
    "\n",
    "p_t=tf.reshape(p_t,(N,N),tf.float32)+2\n",
    "fig, ax = plt.subplots(1, 1)\n",
    "c=plt.pcolormesh(nx,ny, p_t)\n",
    "plt.colorbar()\n",
    "plt.show()"
   ]
  },
  {
   "cell_type": "code",
   "execution_count": 138,
   "id": "74f019bc",
   "metadata": {},
   "outputs": [],
   "source": [
    "with tf.GradientTape(persistent=True) as tape:\n",
    "    x,y=tf.unstack(nxny,axis=1)\n",
    "    tape.watch(x)\n",
    "    tape.watch(y)\n",
    "    \n",
    "    u = model(tf.stack((x,y),axis=1))\n",
    "    u_pred,v_pred,p_pred=tf.unstack(u,axis=1)\n",
    "    \n",
    "    dpdx=tape.gradient(p_pred,x)\n",
    "    dpdy=tape.gradient(p_pred,y)"
   ]
  },
  {
   "cell_type": "markdown",
   "id": "79bd180e",
   "metadata": {},
   "source": [
    "# Heat equation"
   ]
  },
  {
   "cell_type": "markdown",
   "id": "377eb203",
   "metadata": {},
   "source": [
    "$$ \\frac{\\partial{^2T}}{\\partial{x^2}}+\\frac{\\partial^2{T}}{\\partial{y^2}}=0$$\n",
    "\n",
    "$$T(x=0)=100^o$$\n",
    "\n",
    "$$T(x=L)=-100^o$$\n",
    "\n",
    "$$T(y=0)=0^o$$\n",
    "\n",
    "$$T(y=L)=0^o$$"
   ]
  },
  {
   "cell_type": "raw",
   "id": "df336a38",
   "metadata": {},
   "source": [
    "#Define the neural network architecture- takes 2 inputs, the x and the y coordinates and gives one output, the Temparature\n",
    "modelheat = tf.keras.Sequential([\n",
    "    tf.keras.layers.Dense(20, activation='tanh', input_shape=(2,)),\n",
    "    tf.keras.layers.Dense(20, activation='tanh'),\n",
    "     tf.keras.layers.Dense(20, activation='tanh'),\n",
    "     tf.keras.layers.Dense(20, activation='tanh'),\n",
    "    tf.keras.layers.Dense(1)\n",
    "])"
   ]
  },
  {
   "cell_type": "raw",
   "id": "d6ecc7d8",
   "metadata": {},
   "source": [
    "# Define the loss function using auto differentiation\n",
    "def loss(xy,xyb1,xyb2,xyb3,xyb4):\n",
    "    with tf.GradientTape(persistent=True) as tape:\n",
    "        \n",
    "        x,y=tf.unstack(xy,axis=1)\n",
    "        \n",
    "        tape.watch(x)\n",
    "        tape.watch(y)\n",
    "        \n",
    "        T=modelheat(tf.stack((x,y),axis=1))\n",
    "        dTdx=tape.gradient(T,x)\n",
    "        dTdy=tape.gradient(T,y)\n",
    "        \n",
    "        d2Tdx2=tape.gradient(dTdx,x)\n",
    "        d2Tdy2=tape.gradient(dTdy,y)\n",
    "        \n",
    "        xb1,yb1=tf.unstack(xyb1,axis=1)\n",
    "        Tb1 = modelheat(tf.stack((xb1,yb1),axis=1))\n",
    "        \n",
    "        xb2,yb2=tf.unstack(xyb2,axis=1)\n",
    "        Tb2 = modelheat(tf.stack((xb2,yb2),axis=1))\n",
    "        \n",
    "        xb3,yb3=tf.unstack(xyb3,axis=1)\n",
    "        Tb3 = modelheat(tf.stack((xb3,yb3),axis=1))\n",
    "        \n",
    "        xb4,yb4=tf.unstack(xyb4,axis=1)\n",
    "        Tb4 = modelheat(tf.stack((xb4,yb4),axis=1))\n",
    "        \n",
    "        \n",
    "    loss = tf.reduce_mean(tf.square(d2Tdx2+d2Tdy2))+tf.reduce_mean(tf.square(Tb1-100))+\\\n",
    "           tf.reduce_mean(tf.square(Tb2+100))+tf.reduce_mean(tf.square(Tb3))+tf.reduce_mean(tf.square(Tb4))\n",
    "          \n",
    "    return loss"
   ]
  },
  {
   "cell_type": "markdown",
   "id": "393c1766",
   "metadata": {},
   "source": [
    "# Points within the domain"
   ]
  },
  {
   "cell_type": "raw",
   "id": "45af9358",
   "metadata": {},
   "source": [
    "# Define the grid size\n",
    "N = 100\n",
    "\n",
    "# Define the coordinates of the grid points\n",
    "x = np.linspace(0, 5, N)\n",
    "y = np.linspace(0, 5, N)\n",
    "\n",
    "nx, ny = np.meshgrid(x, y, indexing='ij')\n",
    "nx1=np.reshape(nx,-1)\n",
    "ny1=np.reshape(ny,-1)\n",
    "nxny = np.concatenate([nx1[:, None], ny1[:, None]], axis=1)\n",
    "nx2ny2=tf.convert_to_tensor(nxny, dtype=tf.float32, dtype_hint=None, name=None)\n"
   ]
  },
  {
   "cell_type": "markdown",
   "id": "c76df9e7",
   "metadata": {},
   "source": [
    "# Points on the boundary"
   ]
  },
  {
   "cell_type": "raw",
   "id": "cf632e12",
   "metadata": {},
   "source": [
    "#boundary points at x=0\n",
    "x_b=np.linspace(0,0,1)\n",
    "y_b= np.linspace(0, 5, 50)\n",
    "nx_b, ny_b = np.meshgrid(x_b, y_b, indexing='ij')\n",
    "nx1_b=np.reshape(nx_b,-1)\n",
    "ny1_b=np.reshape(ny_b,-1)\n",
    "nxbnyb = np.concatenate([nx1_b[:, None], ny1_b[:, None]], axis=1)\n",
    "nx2bny2b=tf.convert_to_tensor(nxbnyb, dtype=tf.float32, dtype_hint=None, name=None)\n",
    "\n",
    "#boundary points at x=5\n",
    "x_b2=np.linspace(5,5,1)\n",
    "y_b2= np.linspace(0, 5, 50)\n",
    "nx_b2, ny_b2 = np.meshgrid(x_b2, y_b2, indexing='ij')\n",
    "nx1_b2=np.reshape(nx_b2,-1)\n",
    "ny1_b2=np.reshape(ny_b2,-1)\n",
    "nxb2nyb2 = np.concatenate([nx1_b2[:, None], ny1_b2[:, None]], axis=1)\n",
    "nx2b2ny2b2=tf.convert_to_tensor(nxb2nyb2, dtype=tf.float32, dtype_hint=None, name=None)\n",
    "\n",
    "#boundary points at y=0\n",
    "x_bb=np.linspace(0,5,5)\n",
    "y_bb= np.linspace(0,0, 1)\n",
    "nx_bb, ny_bb = np.meshgrid(x_bb, y_bb, indexing='ij')\n",
    "nx1_bb=np.reshape(nx_bb,-1)\n",
    "ny1_bb=np.reshape(ny_bb,-1)\n",
    "nxbbnybb = np.concatenate([nx1_bb[:, None], ny1_bb[:, None]], axis=1)\n",
    "nx2bbny2bb=tf.convert_to_tensor(nxbbnybb, dtype=tf.float32, dtype_hint=None, name=None)\n",
    "\n",
    "#boundary points at y=5\n",
    "x_bb2=np.linspace(0,5,5)\n",
    "y_bb2= np.linspace(5,5, 1)\n",
    "nx_bb2, ny_bb2 = np.meshgrid(x_bb2, y_bb2, indexing='ij')\n",
    "nx1_bb2=np.reshape(nx_bb2,-1)\n",
    "ny1_bb2=np.reshape(ny_bb2,-1)\n",
    "nxbbnybb2 = np.concatenate([nx1_bb2[:, None], ny1_bb2[:, None]], axis=1)\n",
    "nx2bbny2bb2=tf.convert_to_tensor(nxbbnybb2, dtype=tf.float32, dtype_hint=None, name=None)"
   ]
  },
  {
   "cell_type": "raw",
   "id": "70aa0278",
   "metadata": {},
   "source": [
    "# Define the optimizer\n",
    "optimizer = tf.keras.optimizers.Adam()\n",
    "\n",
    "\n",
    "# Train the model\n",
    "for epoch in range(3000):\n",
    "    with tf.GradientTape() as tape:\n",
    "        loss_value = loss(nx2ny2,nx2bny2b,nx2b2ny2b2,nx2bbny2bb,nx2bbny2bb2)\n",
    "    grads = tape.gradient(loss_value, modelheat.trainable_variables)\n",
    "    optimizer.apply_gradients(zip(grads, modelheat.trainable_variables))\n",
    "    if epoch % 100 == 0:\n",
    "        print(f\"Epoch {epoch}, loss={loss_value:.6f}\")"
   ]
  },
  {
   "cell_type": "raw",
   "id": "6a9bd0de",
   "metadata": {},
   "source": [
    "T=modelheat(nx2ny2)"
   ]
  },
  {
   "cell_type": "raw",
   "id": "6d7251a6",
   "metadata": {},
   "source": [
    "tt=tf.reshape(T,(100,100))"
   ]
  },
  {
   "cell_type": "raw",
   "id": "59ae900c",
   "metadata": {},
   "source": [
    "# fig, ax = plt.subplots(1, 1)\n",
    "ax.contourf(nx, ny, tt)"
   ]
  },
  {
   "cell_type": "raw",
   "id": "1b0cf4d7",
   "metadata": {},
   "source": [
    "plt.pcolormesh(y, x, tt) \n",
    "plt.show()"
   ]
  }
 ],
 "metadata": {
  "kernelspec": {
   "display_name": "Python 3 (ipykernel)",
   "language": "python",
   "name": "python3"
  },
  "language_info": {
   "codemirror_mode": {
    "name": "ipython",
    "version": 3
   },
   "file_extension": ".py",
   "mimetype": "text/x-python",
   "name": "python",
   "nbconvert_exporter": "python",
   "pygments_lexer": "ipython3",
   "version": "3.9.12"
  }
 },
 "nbformat": 4,
 "nbformat_minor": 5
}
