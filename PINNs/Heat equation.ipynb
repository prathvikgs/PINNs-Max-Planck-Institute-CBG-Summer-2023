{
 "cells": [
  {
   "cell_type": "markdown",
   "id": "17724a1f",
   "metadata": {},
   "source": [
    "# PINN codes for the heat equation"
   ]
  },
  {
   "cell_type": "markdown",
   "id": "d9f6d6e9",
   "metadata": {},
   "source": [
    "Prathvik G S"
   ]
  },
  {
   "cell_type": "code",
   "execution_count": 2,
   "id": "11de9f8f",
   "metadata": {},
   "outputs": [],
   "source": [
    "import numpy as np\n",
    "import pandas as pd\n",
    "import tensorflow as tf\n",
    "import matplotlib.pyplot as plt\n",
    "import matplotlib as mpl \n",
    "import random"
   ]
  },
  {
   "cell_type": "markdown",
   "id": "79bd180e",
   "metadata": {},
   "source": [
    "# Heat equation"
   ]
  },
  {
   "cell_type": "markdown",
   "id": "377eb203",
   "metadata": {},
   "source": [
    "$$ \\frac{\\partial{^2T}}{\\partial{x^2}}+\\frac{\\partial^2{T}}{\\partial{y^2}}=0$$\n",
    "\n",
    "$$T(x=0)=100^o$$\n",
    "\n",
    "$$T(x=L)=-100^o$$\n",
    "\n",
    "$$T(y=0)=0^o$$\n",
    "\n",
    "$$T(y=L)=0^o$$"
   ]
  },
  {
   "cell_type": "code",
   "execution_count": 3,
   "id": "c7261bff",
   "metadata": {},
   "outputs": [],
   "source": [
    "#Define the neural network architecture- takes 2 inputs, the x and the y coordinates and gives one output, the Temparature\n",
    "modelheat = tf.keras.Sequential([\n",
    "    tf.keras.layers.Dense(20, activation='tanh', input_shape=(2,)),\n",
    "    tf.keras.layers.Dense(20, activation='tanh'),\n",
    "     tf.keras.layers.Dense(20, activation='tanh'),\n",
    "     tf.keras.layers.Dense(20, activation='tanh'),\n",
    "    tf.keras.layers.Dense(1)\n",
    "])"
   ]
  },
  {
   "cell_type": "code",
   "execution_count": 4,
   "id": "5b43a9d5",
   "metadata": {},
   "outputs": [],
   "source": [
    "# Define the loss function using auto differentiation\n",
    "def loss(xy,xyb1,xyb2,xyb3,xyb4):\n",
    "    with tf.GradientTape(persistent=True) as tape:\n",
    "        \n",
    "        x,y=tf.unstack(xy,axis=1)\n",
    "        \n",
    "        tape.watch(x)\n",
    "        tape.watch(y)\n",
    "        \n",
    "        T=modelheat(tf.stack((x,y),axis=1))\n",
    "        dTdx=tape.gradient(T,x)\n",
    "        dTdy=tape.gradient(T,y)\n",
    "        \n",
    "        d2Tdx2=tape.gradient(dTdx,x)\n",
    "        d2Tdy2=tape.gradient(dTdy,y)\n",
    "        \n",
    "        xb1,yb1=tf.unstack(xyb1,axis=1)\n",
    "        Tb1 = modelheat(tf.stack((xb1,yb1),axis=1))\n",
    "        \n",
    "        xb2,yb2=tf.unstack(xyb2,axis=1)\n",
    "        Tb2 = modelheat(tf.stack((xb2,yb2),axis=1))\n",
    "        \n",
    "        xb3,yb3=tf.unstack(xyb3,axis=1)\n",
    "        Tb3 = modelheat(tf.stack((xb3,yb3),axis=1))\n",
    "        \n",
    "        xb4,yb4=tf.unstack(xyb4,axis=1)\n",
    "        Tb4 = modelheat(tf.stack((xb4,yb4),axis=1))\n",
    "        \n",
    "        \n",
    "    loss = tf.reduce_mean(tf.square(d2Tdx2+d2Tdy2))+tf.reduce_mean(tf.square(Tb1-100))+\\\n",
    "           tf.reduce_mean(tf.square(Tb2+100))+tf.reduce_mean(tf.square(Tb3))+tf.reduce_mean(tf.square(Tb4))\n",
    "          \n",
    "    return loss"
   ]
  },
  {
   "cell_type": "markdown",
   "id": "393c1766",
   "metadata": {},
   "source": [
    "# Points within the domain"
   ]
  },
  {
   "cell_type": "code",
   "execution_count": 5,
   "id": "7a2624de",
   "metadata": {},
   "outputs": [],
   "source": [
    "# Define the grid size\n",
    "N = 100\n",
    "\n",
    "# Define the coordinates of the grid points\n",
    "x = np.linspace(0, 5, N)\n",
    "y = np.linspace(0, 5, N)\n",
    "\n",
    "nx, ny = np.meshgrid(x, y, indexing='ij')\n",
    "nx1=np.reshape(nx,-1)\n",
    "ny1=np.reshape(ny,-1)\n",
    "nxny = np.concatenate([nx1[:, None], ny1[:, None]], axis=1)\n",
    "nx2ny2=tf.convert_to_tensor(nxny, dtype=tf.float32, dtype_hint=None, name=None)\n"
   ]
  },
  {
   "cell_type": "markdown",
   "id": "c76df9e7",
   "metadata": {},
   "source": [
    "# Points on the boundary"
   ]
  },
  {
   "cell_type": "code",
   "execution_count": 6,
   "id": "7d5b677d",
   "metadata": {},
   "outputs": [],
   "source": [
    "#boundary points at x=0\n",
    "x_b=np.linspace(0,0,1)\n",
    "y_b= np.linspace(0, 5, 50)\n",
    "nx_b, ny_b = np.meshgrid(x_b, y_b, indexing='ij')\n",
    "nx1_b=np.reshape(nx_b,-1)\n",
    "ny1_b=np.reshape(ny_b,-1)\n",
    "nxbnyb = np.concatenate([nx1_b[:, None], ny1_b[:, None]], axis=1)\n",
    "nx2bny2b=tf.convert_to_tensor(nxbnyb, dtype=tf.float32, dtype_hint=None, name=None)\n",
    "\n",
    "#boundary points at x=5\n",
    "x_b2=np.linspace(5,5,1)\n",
    "y_b2= np.linspace(0, 5, 50)\n",
    "nx_b2, ny_b2 = np.meshgrid(x_b2, y_b2, indexing='ij')\n",
    "nx1_b2=np.reshape(nx_b2,-1)\n",
    "ny1_b2=np.reshape(ny_b2,-1)\n",
    "nxb2nyb2 = np.concatenate([nx1_b2[:, None], ny1_b2[:, None]], axis=1)\n",
    "nx2b2ny2b2=tf.convert_to_tensor(nxb2nyb2, dtype=tf.float32, dtype_hint=None, name=None)\n",
    "\n",
    "#boundary points at y=0\n",
    "x_bb=np.linspace(0,5,5)\n",
    "y_bb= np.linspace(0,0, 1)\n",
    "nx_bb, ny_bb = np.meshgrid(x_bb, y_bb, indexing='ij')\n",
    "nx1_bb=np.reshape(nx_bb,-1)\n",
    "ny1_bb=np.reshape(ny_bb,-1)\n",
    "nxbbnybb = np.concatenate([nx1_bb[:, None], ny1_bb[:, None]], axis=1)\n",
    "nx2bbny2bb=tf.convert_to_tensor(nxbbnybb, dtype=tf.float32, dtype_hint=None, name=None)\n",
    "\n",
    "#boundary points at y=5\n",
    "x_bb2=np.linspace(0,5,5)\n",
    "y_bb2= np.linspace(5,5, 1)\n",
    "nx_bb2, ny_bb2 = np.meshgrid(x_bb2, y_bb2, indexing='ij')\n",
    "nx1_bb2=np.reshape(nx_bb2,-1)\n",
    "ny1_bb2=np.reshape(ny_bb2,-1)\n",
    "nxbbnybb2 = np.concatenate([nx1_bb2[:, None], ny1_bb2[:, None]], axis=1)\n",
    "nx2bbny2bb2=tf.convert_to_tensor(nxbbnybb2, dtype=tf.float32, dtype_hint=None, name=None)"
   ]
  },
  {
   "cell_type": "code",
   "execution_count": 8,
   "id": "1b0e21d6",
   "metadata": {},
   "outputs": [
    {
     "name": "stdout",
     "output_type": "stream",
     "text": [
      "Epoch 0, loss=9918.569336\n",
      "Epoch 100, loss=9477.212891\n",
      "Epoch 200, loss=9022.951172\n",
      "Epoch 300, loss=8517.360352\n",
      "Epoch 400, loss=8045.578125\n",
      "Epoch 500, loss=7620.939453\n",
      "Epoch 600, loss=7230.555176\n",
      "Epoch 700, loss=6871.155273\n",
      "Epoch 800, loss=6511.289551\n",
      "Epoch 900, loss=6181.043945\n",
      "Epoch 1000, loss=5863.708496\n",
      "Epoch 1100, loss=5560.379883\n",
      "Epoch 1200, loss=5306.683594\n",
      "Epoch 1300, loss=5002.641602\n",
      "Epoch 1400, loss=4758.648438\n"
     ]
    }
   ],
   "source": [
    "# Define the optimizer\n",
    "optimizer = tf.keras.optimizers.Adam()\n",
    "\n",
    "\n",
    "# Train the model\n",
    "for epoch in range(1500):\n",
    "    with tf.GradientTape() as tape:\n",
    "        loss_value = loss(nx2ny2,nx2bny2b,nx2b2ny2b2,nx2bbny2bb,nx2bbny2bb2)\n",
    "    grads = tape.gradient(loss_value, modelheat.trainable_variables)\n",
    "    optimizer.apply_gradients(zip(grads, modelheat.trainable_variables))\n",
    "    if epoch % 100 == 0:\n",
    "        print(f\"Epoch {epoch}, loss={loss_value:.6f}\")"
   ]
  },
  {
   "cell_type": "code",
   "execution_count": 9,
   "id": "233b6b23",
   "metadata": {},
   "outputs": [
    {
     "data": {
      "image/png": "[encoded data removed]",
      "text/plain": [
       "<Figure size 432x288 with 2 Axes>"
      ]
     },
     "metadata": {
      "needs_background": "light"
     },
     "output_type": "display_data"
    }
   ],
   "source": [
    "T=modelheat(nx2ny2)\n",
    "tt=tf.reshape(T,(100,100))\n",
    "c=plt.pcolormesh(nx, ny, tt) \n",
    "plt.colorbar(c)\n",
    "plt.show()"
   ]
  },
  {
   "cell_type": "code",
   "execution_count": 10,
   "id": "167aee41",
   "metadata": {},
   "outputs": [
    {
     "data": {
      "image/png": "[encoded data removed]",
      "text/plain": [
       "<Figure size 432x288 with 2 Axes>"
      ]
     },
     "metadata": {
      "needs_background": "light"
     },
     "output_type": "display_data"
    }
   ],
   "source": [
    "T=modelheat(nx2ny2)\n",
    "tt=tf.reshape(T,(100,100))\n",
    "c=plt.pcolormesh(nx, ny, tt) \n",
    "plt.colorbar(c)\n",
    "plt.show()"
   ]
  }
 ],
 "metadata": {
  "kernelspec": {
   "display_name": "Python 3 (ipykernel)",
   "language": "python",
   "name": "python3"
  },
  "language_info": {
   "codemirror_mode": {
    "name": "ipython",
    "version": 3
   },
   "file_extension": ".py",
   "mimetype": "text/x-python",
   "name": "python",
   "nbconvert_exporter": "python",
   "pygments_lexer": "ipython3",
   "version": "3.9.12"
  }
 },
 "nbformat": 4,
 "nbformat_minor": 5
}
