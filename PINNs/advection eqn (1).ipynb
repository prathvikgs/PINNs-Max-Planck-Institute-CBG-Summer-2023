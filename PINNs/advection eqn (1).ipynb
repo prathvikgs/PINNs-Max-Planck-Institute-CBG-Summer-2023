{
 "cells": [
  {
   "cell_type": "markdown",
   "id": "17724a1f",
   "metadata": {},
   "source": [
    "# PINN codes for Navier stokes and the heat equation"
   ]
  },
  {
   "cell_type": "markdown",
   "id": "d9f6d6e9",
   "metadata": {},
   "source": [
    "Prathvik G S"
   ]
  },
  {
   "cell_type": "code",
   "execution_count": 1,
   "id": "11de9f8f",
   "metadata": {},
   "outputs": [
    {
     "name": "stdout",
     "output_type": "stream",
     "text": [
      "2.11.0\n"
     ]
    }
   ],
   "source": [
    "import numpy as np\n",
    "import pandas as pd\n",
    "import tensorflow as tf\n",
    "import matplotlib.pyplot as plt\n",
    "import matplotlib as mpl \n",
    "import random\n",
    "\n",
    "print(tf.__version__)"
   ]
  },
  {
   "cell_type": "markdown",
   "id": "90ebe9a9",
   "metadata": {},
   "source": [
    "# Advection equation\n",
    "$$\\frac{\\partial{u}}{\\partial{t}}+v\\frac{\\partial{u}}{\\partial{x}}=0$$\n",
    "$$u(x,0)=e^{-x^2}$$\n"
   ]
  },
  {
   "cell_type": "markdown",
   "id": "cb3a18d8",
   "metadata": {},
   "source": [
    "# The architecture"
   ]
  },
  {
   "cell_type": "code",
   "execution_count": 48,
   "id": "7d505f3b",
   "metadata": {},
   "outputs": [],
   "source": [
    "tf.keras.backend.set_floatx('float32')\n",
    "\n",
    "#Define the neural network\n",
    "model = tf.keras.Sequential([\n",
    "    tf.keras.layers.Dense(40, activation='tanh', input_shape=(2,)),\n",
    "    tf.keras.layers.Dense(40, activation='tanh'),\n",
    "     tf.keras.layers.Dense(40, activation='tanh'),\n",
    "    tf.keras.layers.Dense(40, activation='tanh'),\n",
    "    tf.keras.layers.Dense(1)\n",
    "])"
   ]
  },
  {
   "cell_type": "markdown",
   "id": "f521e85d",
   "metadata": {},
   "source": [
    "# Custom loss function describing the Navier stokes eqn with boundary conditions and incompressibility"
   ]
  },
  {
   "cell_type": "code",
   "execution_count": 49,
   "id": "548569f9",
   "metadata": {},
   "outputs": [],
   "source": [
    "#loss function for the PINN\n",
    "\n",
    "v=0.5\n",
    "\n",
    "def loss(x_pde,x_ini):\n",
    "    \n",
    "    with tf.GradientTape(persistent=True) as tape:\n",
    "        #loss from the PDE\n",
    "        x,t=tf.unstack(x_pde,axis=1)\n",
    "        tape.watch(x)\n",
    "        tape.watch(t)\n",
    "        \n",
    "        u_pred=model(tf.stack((x,t),axis=1))\n",
    "        \n",
    "        dudx=tape.gradient(u_pred,x)\n",
    "        dudt=tape.gradient(u_pred,t)\n",
    "        \n",
    "        loss = tf.reduce_mean(tf.square(dudt+v*dudx))\n",
    "    \n",
    "        #initial loss\n",
    "        xi,ti=tf.unstack(x_ini,axis=1)\n",
    "        ui = model(tf.stack((xi,ti),axis=1))\n",
    "        \n",
    "        lossb=tf.reduce_mean(tf.square(ui-u_ini))    \n",
    "        \n",
    "    return loss + lossb "
   ]
  },
  {
   "cell_type": "code",
   "execution_count": 50,
   "id": "24d3b5c2",
   "metadata": {},
   "outputs": [],
   "source": [
    "# Define the grid size\n",
    "N = 40\n",
    "x_0=-1\n",
    "x_L=1\n",
    "t_0=0\n",
    "t_L=1\n",
    "\n",
    "# Define the coordinates of the grid points\n",
    "x = np.linspace(x_0, x_L, N)\n",
    "t = np.linspace(t_0, t_L, N)\n",
    "\n",
    "nx, nt = np.meshgrid(x, t, indexing='ij')\n",
    "nx1=np.reshape(nx,-1)\n",
    "nt1=np.reshape(nt,-1)\n",
    "#nx=2*np.random.rand(100000,1)-1\n",
    "#ny=2*np.random.rand(100000,1)-1\n",
    "nxnt = np.concatenate([nx1[:, None], nt1[:, None]], axis=1)\n",
    "x_pde=tf.convert_to_tensor(nxnt, dtype=tf.float32, dtype_hint=None, name=None)"
   ]
  },
  {
   "cell_type": "code",
   "execution_count": 51,
   "id": "3c292d59",
   "metadata": {},
   "outputs": [],
   "source": [
    "def g(x,t):\n",
    "    return np.e**(-(x-v*t)**2)"
   ]
  },
  {
   "cell_type": "code",
   "execution_count": 52,
   "id": "d9a3bcd5",
   "metadata": {},
   "outputs": [],
   "source": [
    "'initial'\n",
    "xi = np.linspace(x_0, x_L, 30)\n",
    "ti = np.zeros((30,1))\n",
    "nx, ny = np.meshgrid(xi, ti, indexing='ij')\n",
    "nx1=np.reshape(nx,-1)\n",
    "ny1=np.reshape(ny,-1)\n",
    "x_ini = np.concatenate([nx1[:, None], ny1[:, None]], axis=1)\n",
    "\n",
    "u_ini=g(x_ini[:,0],x_ini[:,1])"
   ]
  },
  {
   "cell_type": "code",
   "execution_count": 57,
   "id": "63a77eb8",
   "metadata": {},
   "outputs": [
    {
     "name": "stdout",
     "output_type": "stream",
     "text": [
      "epoch 1000/1000, loss=0.0438861698\r"
     ]
    }
   ],
   "source": [
    "# Define the optimizer\n",
    "optimizer = tf.keras.optimizers.Adam()\n",
    "\n",
    "# Train the model\n",
    "for epoch in range(1000):\n",
    "    with tf.GradientTape() as tape:\n",
    "        loss_value = loss(x_pde,x_ini)\n",
    "    grads = tape.gradient(loss_value, model.trainable_variables)\n",
    "    optimizer.apply_gradients(zip(grads, model.trainable_variables))\n",
    "    if epoch % 1 == 0:\n",
    "        #print(f\"Epoch {epoch}, loss={loss_value:.6f}\")\n",
    "        print(\"epoch {}/{}, loss={:.10f}\".format(epoch+1,1000,  loss_value), end=\"\\r\")"
   ]
  },
  {
   "cell_type": "code",
   "execution_count": 54,
   "id": "9c4cd3fb",
   "metadata": {},
   "outputs": [],
   "source": [
    "# Define the coordinates of the grid points\n",
    "x = np.linspace(x_0, x_L, 30)\n",
    "y = np.linspace(t_0, t_L,30)\n",
    "\n",
    "nx, ny = np.meshgrid(x, y, indexing='ij')\n",
    "nx, ny = np.meshgrid(x, y, indexing='ij')\n",
    "nx1=np.reshape(nx,-1)\n",
    "ny1=np.reshape(ny,-1)\n",
    "nxny = np.concatenate([nx1[:, None], ny1[:, None]], axis=1)\n",
    "\n",
    "u=model(nxny)"
   ]
  },
  {
   "cell_type": "markdown",
   "id": "efef0f63",
   "metadata": {},
   "source": [
    "# PINN model solution"
   ]
  },
  {
   "cell_type": "code",
   "execution_count": 55,
   "id": "328516d6",
   "metadata": {
    "scrolled": true
   },
   "outputs": [
    {
     "data": {
      "image/png": "[encoded data removed]",
      "text/plain": [
       "<Figure size 432x288 with 2 Axes>"
      ]
     },
     "metadata": {
      "needs_background": "light"
     },
     "output_type": "display_data"
    }
   ],
   "source": [
    "u=tf.reshape(u,(30,30))\n",
    "fig, ax = plt.subplots(1, 1)\n",
    "c=plt.pcolormesh(nx,ny,u)\n",
    "plt.colorbar()\n",
    "plt.show()"
   ]
  },
  {
   "cell_type": "markdown",
   "id": "ffb38788",
   "metadata": {},
   "source": [
    "# Analytical pressure"
   ]
  },
  {
   "cell_type": "code",
   "execution_count": 56,
   "id": "edf20ac8",
   "metadata": {},
   "outputs": [
    {
     "data": {
      "image/png": "[encoded data removed]",
      "text/plain": [
       "<Figure size 432x288 with 2 Axes>"
      ]
     },
     "metadata": {
      "needs_background": "light"
     },
     "output_type": "display_data"
    }
   ],
   "source": [
    "p_t=g  (nxny[:,0],nxny[:,1])\n",
    "\n",
    "p_t=tf.reshape(p_t,(30,30),tf.float32)\n",
    "fig, ax = plt.subplots(1, 1)\n",
    "c=plt.pcolormesh(nx,ny, p_t)\n",
    "plt.colorbar()\n",
    "plt.show()"
   ]
  }
 ],
 "metadata": {
  "kernelspec": {
   "display_name": "Python 3 (ipykernel)",
   "language": "python",
   "name": "python3"
  },
  "language_info": {
   "codemirror_mode": {
    "name": "ipython",
    "version": 3
   },
   "file_extension": ".py",
   "mimetype": "text/x-python",
   "name": "python",
   "nbconvert_exporter": "python",
   "pygments_lexer": "ipython3",
   "version": "3.9.12"
  }
 },
 "nbformat": 4,
 "nbformat_minor": 5
}
