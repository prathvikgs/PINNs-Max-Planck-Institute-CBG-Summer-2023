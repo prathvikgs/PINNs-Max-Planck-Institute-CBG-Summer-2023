{
 "cells": [
  {
   "cell_type": "markdown",
   "id": "5375692d",
   "metadata": {},
   "source": [
    "# Given a field, here we detect the defects"
   ]
  },
  {
   "cell_type": "code",
   "execution_count": 1,
   "id": "600d3381",
   "metadata": {},
   "outputs": [
    {
     "name": "stdout",
     "output_type": "stream",
     "text": [
      "Requirement already satisfied: pydot in c:\\users\\prathvik g s\\anaconda3\\lib\\site-packages (1.4.2)\n",
      "Requirement already satisfied: pyparsing>=2.1.4 in c:\\users\\prathvik g s\\anaconda3\\lib\\site-packages (from pydot) (3.0.4)\n"
     ]
    }
   ],
   "source": [
    "import numpy as np\n",
    "import matplotlib.pyplot as plt\n",
    "import math\n",
    "import tensorflow as tf\n",
    "!pip install pydot\n",
    "from tensorflow.keras.utils import plot_model\n",
    "import pydot\n",
    "from tensorflow.keras.models import Model"
   ]
  },
  {
   "cell_type": "markdown",
   "id": "abb6e229",
   "metadata": {},
   "source": [
    "# Implementation for calculating the topological charge estimator "
   ]
  },
  {
   "cell_type": "code",
   "execution_count": 3,
   "id": "2a75357f",
   "metadata": {},
   "outputs": [
    {
     "data": {
      "image/png": "[encoded data removed]",
      "text/plain": [
       "<Figure size 432x288 with 1 Axes>"
      ]
     },
     "metadata": {
      "needs_background": "light"
     },
     "output_type": "display_data"
    }
   ],
   "source": [
    "'Getting the angle from the given vector fields'\n",
    "\n",
    "def theta(vx,vy):\n",
    "    n=vx.shape[0]\n",
    "    theta=np.zeros((n,n))\n",
    "    \n",
    "    for i in range (n):\n",
    "        for j in range (n):\n",
    "            \n",
    "            theta[i][j]=(math.asin(vy[i][j]/(vx[i][j]**2 + vy[i][j]**2)**0.5))\n",
    "            \n",
    "            if(vx[i][j]<0 and vy[i][j] >=0):#2nd quadrant\n",
    "                theta[i][j]=np.pi-theta[i][j]\n",
    "                \n",
    "            elif(vx[i][j]<0 and vy[i][j]<=0):#3rd quadrant\n",
    "                theta[i][j]=np.pi+abs(theta[i][j])\n",
    "                \n",
    "            elif(vx[i][j]>=0 and vy[i][j]<0):#4th quadrant\n",
    "                theta[i][j]=2*np.pi-abs(theta[i][j])\n",
    "                \n",
    "    return theta\n",
    "\n",
    "'Getting the mod of 2pi needed for our charge calculations'\n",
    "def mod(theta):\n",
    "    \n",
    "    if(theta<-np.pi):\n",
    "        theta+=2*np.pi\n",
    "    elif(theta>np.pi):\n",
    "        theta-=np.pi*2\n",
    "    elif(theta==-np.pi or theta==np.pi):\n",
    "        theta=np.pi\n",
    "    return theta\n",
    "\n",
    "'getting the charge estimate'\n",
    "def tce(theta):\n",
    "    tce=np.zeros((theta.shape[0]-1,theta.shape[0]-1))\n",
    "    for i in range (theta.shape[0]-1):\n",
    "        for j in range(theta.shape[0]-1):\n",
    "            tce[i][j]=mod(theta[i+1][j]-theta[i][j])+mod(theta[i+1][j+1]-theta[i+1][j])+mod(theta[i][j+1]-theta[i+1][j+1])+mod(theta[i][j]-theta[i][j+1])\n",
    "            tce[i][j]=tce[i][j]/(np.pi*2)\n",
    "            tce[i][j]=round(tce[i][j])*1\n",
    "    return tce\n",
    "\n",
    "\n",
    "'Define the function that calculates the electric field'\n",
    "\n",
    "def electric_field(x, y, q1=1, q2=0):\n",
    "    r1 = np.sqrt((x-2)**2 + (y-2)**2)\n",
    "    r2 = np.sqrt((x - 3)**2 + (y - 3)**2)\n",
    "\n",
    "    r1_hat_x = (x -2)/ r1\n",
    "    r1_hat_y = (y-2) / r1\n",
    "    r2_hat_x = (x - 3) / r2\n",
    "    r2_hat_y = (y -3) / r2\n",
    "    \n",
    "    E1_x = q1 / r1**2 * r1_hat_x\n",
    "    E1_y = q1 / r1**2 * r1_hat_y\n",
    "    E2_x = q2 / r2**2 * r2_hat_x\n",
    "    E2_y = q2 / r2**2 * r2_hat_y\n",
    "    \n",
    "    E_x = E1_x + E2_x\n",
    "    E_y = E1_y + E2_y\n",
    "    return E_x, E_y\n",
    "\n",
    "# Define the grid size\n",
    "N = 6\n",
    "\n",
    "# Define the coordinates of the grid points\n",
    "x = np.linspace(-1, 5, N)\n",
    "y = np.linspace(-1, 5, N)\n",
    "\n",
    "# Evaluate the electric field at the grid points\n",
    "nx, ny = np.meshgrid(x, y, indexing='ij')\n",
    "vx, vy = electric_field(nx, ny)\n",
    "u=(vx**2+vy**2)**0.5\n",
    "vx=vx/u\n",
    "vy=vy/u\n",
    "\n",
    "# Plot the vector field\n",
    "plt.quiver(nx, ny, vx, vy)\n",
    "plt.axis('equal')\n",
    "plt.show()"
   ]
  },
  {
   "cell_type": "markdown",
   "id": "2dea83f3",
   "metadata": {},
   "source": [
    "# Here given a vector field vx,vy we obtain the topological charge matrix"
   ]
  },
  {
   "cell_type": "code",
   "execution_count": 6,
   "id": "06dd0832",
   "metadata": {},
   "outputs": [
    {
     "data": {
      "text/plain": [
       "array([[0., 0., 0., 0., 0.],\n",
       "       [0., 0., 0., 0., 0.],\n",
       "       [0., 0., 1., 0., 0.],\n",
       "       [0., 0., 0., 0., 0.],\n",
       "       [0., 0., 0., 0., 0.]])"
      ]
     },
     "execution_count": 6,
     "metadata": {},
     "output_type": "execute_result"
    }
   ],
   "source": [
    "t=tce(theta(vx,vy))\n",
    "t"
   ]
  },
  {
   "cell_type": "markdown",
   "id": "19234171",
   "metadata": {},
   "source": [
    "# Here, we try to do the inverse, given a charge matrix, can we obtain the corresponding fields vx,vy?"
   ]
  },
  {
   "cell_type": "markdown",
   "id": "8a0df081",
   "metadata": {},
   "source": [
    "The model takes the coordinats as input (in this reduced version its not really required but once we include the PDEs it is required) and give out fields as the output, we then calculate the charges from these fields and use that with the real charges in the loss function."
   ]
  },
  {
   "cell_type": "code",
   "execution_count": 8,
   "id": "540f618a",
   "metadata": {},
   "outputs": [
    {
     "data": {
      "image/png": "[encoded data removed]",
      "text/plain": [
       "<IPython.core.display.Image object>"
      ]
     },
     "execution_count": 8,
     "metadata": {},
     "output_type": "execute_result"
    }
   ],
   "source": [
    "def mmodel():\n",
    "    input_layer=tf.keras.Input(shape=(72))\n",
    "    \n",
    "    flatten_layer = tf.keras.layers.Flatten()(input_layer)\n",
    "    first_dense = tf.keras.layers.Dense(64, activation=tf.nn.relu)(flatten_layer)\n",
    "    second_dense= tf.keras.layers.Dense(64, activation=tf.nn.relu)(first_dense)\n",
    "    third_dense= tf.keras.layers.Dense(64, activation=tf.nn.relu)(second_dense)\n",
    "    output_layer = tf.keras.layers.Dense(72, activation='sigmoid')(third_dense)\n",
    "    \n",
    "    func_model = Model(inputs=input_layer, outputs=output_layer)\n",
    "    \n",
    "    return func_model\n",
    "\n",
    "def my_loss(t_true,y_pred):\n",
    "    \n",
    "    y1,y2 = tf.split(y_pred, num_or_size_splits=2, axis=1)\n",
    "    ex=tf.reshape(y1,[6,6])\n",
    "    ey=tf.reshape(y2,[6,6])\n",
    "    \n",
    "    t_pred=tce(theta(ex,ey))\n",
    "    t_pred=tf.reshape(t_pred,[1,25])\n",
    "    loss=tf.reduce_sum(tf.square(t_pred - t_true))\n",
    "    \n",
    "    return loss\n",
    "\n",
    "model = mmodel()\n",
    "# Plot model graph\n",
    "plot_model(model, show_shapes=True, show_layer_names=True, to_file='model.png')\n"
   ]
  },
  {
   "cell_type": "code",
   "execution_count": 9,
   "id": "e0d6be81",
   "metadata": {},
   "outputs": [],
   "source": [
    "uux=tf.convert_to_tensor(vx, dtype=tf.float32, dtype_hint=None, name=None)\n",
    "uuy=tf.convert_to_tensor(vy, dtype=tf.float32, dtype_hint=None, name=None)\n",
    "X=np.concatenate((nx,ny))\n",
    "X=np.reshape(X,(1,72))\n",
    "X=tf.convert_to_tensor(X, dtype=tf.float32, dtype_hint=None, name=None)\n",
    "t=tce(theta(uux,uuy))\n",
    "t=tf.reshape(t,[1,25])\n",
    "model=mmodel()\n",
    "optimizer = tf.keras.optimizers.Adam(learning_rate=0.0001)\n",
    "model.compile(optimizer='sgd', loss=my_loss)\n",
    "#model.fit(X,t,epochs=20)"
   ]
  },
  {
   "cell_type": "code",
   "execution_count": 11,
   "id": "fbb3ffb1",
   "metadata": {},
   "outputs": [
    {
     "name": "stdout",
     "output_type": "stream",
     "text": [
      "Epoch 1/20\n",
      "1/1 [==============================] - 0s 157ms/step - loss: 1.0000\n",
      "Epoch 2/20\n",
      "1/1 [==============================] - 0s 56ms/step - loss: 1.0000\n",
      "Epoch 3/20\n",
      "1/1 [==============================] - 0s 44ms/step - loss: 1.0000\n",
      "Epoch 4/20\n",
      "1/1 [==============================] - 0s 46ms/step - loss: 1.0000\n",
      "Epoch 5/20\n",
      "1/1 [==============================] - 0s 41ms/step - loss: 1.0000\n",
      "Epoch 6/20\n",
      "1/1 [==============================] - 0s 65ms/step - loss: 1.0000\n",
      "Epoch 7/20\n",
      "1/1 [==============================] - 0s 57ms/step - loss: 1.0000\n",
      "Epoch 8/20\n",
      "1/1 [==============================] - 0s 70ms/step - loss: 1.0000\n",
      "Epoch 9/20\n",
      "1/1 [==============================] - 0s 43ms/step - loss: 1.0000\n",
      "Epoch 10/20\n",
      "1/1 [==============================] - 0s 40ms/step - loss: 1.0000\n",
      "Epoch 11/20\n",
      "1/1 [==============================] - 0s 35ms/step - loss: 1.0000\n",
      "Epoch 12/20\n",
      "1/1 [==============================] - 0s 41ms/step - loss: 1.0000\n",
      "Epoch 13/20\n",
      "1/1 [==============================] - 0s 57ms/step - loss: 1.0000\n",
      "Epoch 14/20\n",
      "1/1 [==============================] - 0s 44ms/step - loss: 1.0000\n",
      "Epoch 15/20\n",
      "1/1 [==============================] - 0s 45ms/step - loss: 1.0000\n",
      "Epoch 16/20\n",
      "1/1 [==============================] - 0s 49ms/step - loss: 1.0000\n",
      "Epoch 17/20\n",
      "1/1 [==============================] - 0s 44ms/step - loss: 1.0000\n",
      "Epoch 18/20\n",
      "1/1 [==============================] - 0s 44ms/step - loss: 1.0000\n",
      "Epoch 19/20\n",
      "1/1 [==============================] - 0s 33ms/step - loss: 1.0000\n",
      "Epoch 20/20\n",
      "1/1 [==============================] - 0s 39ms/step - loss: 1.0000\n"
     ]
    },
    {
     "data": {
      "text/plain": [
       "<keras.callbacks.History at 0x16ab0165a00>"
      ]
     },
     "execution_count": 11,
     "metadata": {},
     "output_type": "execute_result"
    }
   ],
   "source": [
    "model.fit(X,t,epochs=20)"
   ]
  },
  {
   "cell_type": "markdown",
   "id": "b0daaded",
   "metadata": {},
   "source": [
    "As we can see, the loss is not decresing at all. The reason for this is mentioned in the report "
   ]
  },
  {
   "cell_type": "code",
   "execution_count": 13,
   "id": "ee399cc4",
   "metadata": {},
   "outputs": [
    {
     "name": "stdout",
     "output_type": "stream",
     "text": [
      "1/1 [==============================] - 0s 38ms/step\n"
     ]
    }
   ],
   "source": [
    "y_pred=model.predict(X)\n",
    "\n",
    "y1,y2 = tf.split(y_pred, num_or_size_splits=2, axis=1)\n",
    "ex=tf.reshape(y1,[N,N])\n",
    "ey=tf.reshape(y2,[N,N])\n",
    "u=ex**2+ey**2\n",
    "u=u**0.5\n",
    "ex=ex/u\n",
    "ey=ey/u"
   ]
  },
  {
   "cell_type": "markdown",
   "id": "a5fc8875",
   "metadata": {},
   "source": [
    "# Plotting the predicted field"
   ]
  },
  {
   "cell_type": "code",
   "execution_count": 14,
   "id": "f3842d05",
   "metadata": {},
   "outputs": [
    {
     "data": {
      "image/png": "[encoded data removed]",
      "text/plain": [
       "<Figure size 432x288 with 1 Axes>"
      ]
     },
     "metadata": {
      "needs_background": "light"
     },
     "output_type": "display_data"
    }
   ],
   "source": [
    " # Plot the vector field\n",
    "plt.quiver(nx, ny, ex, ey)\n",
    "plt.axis('equal')\n",
    "plt.show() "
   ]
  }
 ],
 "metadata": {
  "kernelspec": {
   "display_name": "Python 3 (ipykernel)",
   "language": "python",
   "name": "python3"
  },
  "language_info": {
   "codemirror_mode": {
    "name": "ipython",
    "version": 3
   },
   "file_extension": ".py",
   "mimetype": "text/x-python",
   "name": "python",
   "nbconvert_exporter": "python",
   "pygments_lexer": "ipython3",
   "version": "3.9.12"
  }
 },
 "nbformat": 4,
 "nbformat_minor": 5
}
